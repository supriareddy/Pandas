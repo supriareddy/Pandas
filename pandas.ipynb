{
 "cells": [
  {
   "cell_type": "markdown",
   "metadata": {},
   "source": [
    "##pandas"
   ]
  },
  {
   "cell_type": "code",
   "execution_count": null,
   "metadata": {},
   "outputs": [],
   "source": [
    "pandas is a data structure \n",
    "##components\n",
    "-data frames-greater than two features(columns)with any no of rows(data)\n",
    "- data series-one feature(columns) with any no of rows (data)"
   ]
  },
  {
   "cell_type": "code",
   "execution_count": 1,
   "metadata": {},
   "outputs": [
    {
     "name": "stdout",
     "output_type": "stream",
     "text": [
      "Requirement already satisfied: pandas in c:\\programdata\\anaconda3\\lib\\site-packages (1.1.3)\n",
      "Requirement already satisfied: python-dateutil>=2.7.3 in c:\\programdata\\anaconda3\\lib\\site-packages (from pandas) (2.8.1)\n",
      "Requirement already satisfied: pytz>=2017.2 in c:\\programdata\\anaconda3\\lib\\site-packages (from pandas) (2020.1)\n",
      "Requirement already satisfied: numpy>=1.15.4 in c:\\programdata\\anaconda3\\lib\\site-packages (from pandas) (1.19.2)\n",
      "Requirement already satisfied: six>=1.5 in c:\\programdata\\anaconda3\\lib\\site-packages (from python-dateutil>=2.7.3->pandas) (1.15.0)\n"
     ]
    }
   ],
   "source": [
    "!pip install pandas "
   ]
  },
  {
   "cell_type": "code",
   "execution_count": 3,
   "metadata": {},
   "outputs": [],
   "source": [
    "import pandas as pd  \n",
    "import numpy as np"
   ]
  },
  {
   "cell_type": "code",
   "execution_count": 21,
   "metadata": {},
   "outputs": [
    {
     "data": {
      "text/html": [
       "<div>\n",
       "<style scoped>\n",
       "    .dataframe tbody tr th:only-of-type {\n",
       "        vertical-align: middle;\n",
       "    }\n",
       "\n",
       "    .dataframe tbody tr th {\n",
       "        vertical-align: top;\n",
       "    }\n",
       "\n",
       "    .dataframe thead th {\n",
       "        text-align: right;\n",
       "    }\n",
       "</style>\n",
       "<table border=\"1\" class=\"dataframe\">\n",
       "  <thead>\n",
       "    <tr style=\"text-align: right;\">\n",
       "      <th></th>\n",
       "      <th>column1</th>\n",
       "      <th>column2</th>\n",
       "      <th>column3</th>\n",
       "      <th>column4</th>\n",
       "    </tr>\n",
       "  </thead>\n",
       "  <tbody>\n",
       "    <tr>\n",
       "      <th>row1</th>\n",
       "      <td>0</td>\n",
       "      <td>1</td>\n",
       "      <td>2</td>\n",
       "      <td>3</td>\n",
       "    </tr>\n",
       "    <tr>\n",
       "      <th>row2</th>\n",
       "      <td>4</td>\n",
       "      <td>5</td>\n",
       "      <td>6</td>\n",
       "      <td>7</td>\n",
       "    </tr>\n",
       "    <tr>\n",
       "      <th>row3</th>\n",
       "      <td>8</td>\n",
       "      <td>9</td>\n",
       "      <td>10</td>\n",
       "      <td>11</td>\n",
       "    </tr>\n",
       "    <tr>\n",
       "      <th>row4</th>\n",
       "      <td>12</td>\n",
       "      <td>13</td>\n",
       "      <td>14</td>\n",
       "      <td>15</td>\n",
       "    </tr>\n",
       "    <tr>\n",
       "      <th>row5</th>\n",
       "      <td>16</td>\n",
       "      <td>17</td>\n",
       "      <td>18</td>\n",
       "      <td>19</td>\n",
       "    </tr>\n",
       "  </tbody>\n",
       "</table>\n",
       "</div>"
      ],
      "text/plain": [
       "      column1  column2  column3  column4\n",
       "row1        0        1        2        3\n",
       "row2        4        5        6        7\n",
       "row3        8        9       10       11\n",
       "row4       12       13       14       15\n",
       "row5       16       17       18       19"
      ]
     },
     "execution_count": 21,
     "metadata": {},
     "output_type": "execute_result"
    }
   ],
   "source": [
    "##playing with data frame\n",
    "df=pd.DataFrame(np.arange(0,20).reshape(5,4),index=['row1','row2','row3','row4','row5'],columns=['column1','column2','column3','column4'] )\n",
    "df"
   ]
  },
  {
   "cell_type": "code",
   "execution_count": 32,
   "metadata": {},
   "outputs": [],
   "source": [
    "##converting it to excel file \n",
    "df.to_csv('dataframe.xlsx') ##go to location to check if file is created or not "
   ]
  },
  {
   "cell_type": "code",
   "execution_count": 33,
   "metadata": {},
   "outputs": [
    {
     "data": {
      "text/html": [
       "<div>\n",
       "<style scoped>\n",
       "    .dataframe tbody tr th:only-of-type {\n",
       "        vertical-align: middle;\n",
       "    }\n",
       "\n",
       "    .dataframe tbody tr th {\n",
       "        vertical-align: top;\n",
       "    }\n",
       "\n",
       "    .dataframe thead th {\n",
       "        text-align: right;\n",
       "    }\n",
       "</style>\n",
       "<table border=\"1\" class=\"dataframe\">\n",
       "  <thead>\n",
       "    <tr style=\"text-align: right;\">\n",
       "      <th></th>\n",
       "      <th>Unnamed: 0</th>\n",
       "      <th>column1</th>\n",
       "      <th>column2</th>\n",
       "      <th>column3</th>\n",
       "      <th>column4</th>\n",
       "    </tr>\n",
       "  </thead>\n",
       "  <tbody>\n",
       "    <tr>\n",
       "      <th>0</th>\n",
       "      <td>row1</td>\n",
       "      <td>0</td>\n",
       "      <td>1</td>\n",
       "      <td>2</td>\n",
       "      <td>3</td>\n",
       "    </tr>\n",
       "    <tr>\n",
       "      <th>1</th>\n",
       "      <td>row2</td>\n",
       "      <td>4</td>\n",
       "      <td>5</td>\n",
       "      <td>6</td>\n",
       "      <td>7</td>\n",
       "    </tr>\n",
       "    <tr>\n",
       "      <th>2</th>\n",
       "      <td>row3</td>\n",
       "      <td>8</td>\n",
       "      <td>9</td>\n",
       "      <td>10</td>\n",
       "      <td>11</td>\n",
       "    </tr>\n",
       "    <tr>\n",
       "      <th>3</th>\n",
       "      <td>row4</td>\n",
       "      <td>12</td>\n",
       "      <td>13</td>\n",
       "      <td>14</td>\n",
       "      <td>15</td>\n",
       "    </tr>\n",
       "    <tr>\n",
       "      <th>4</th>\n",
       "      <td>row5</td>\n",
       "      <td>16</td>\n",
       "      <td>17</td>\n",
       "      <td>18</td>\n",
       "      <td>19</td>\n",
       "    </tr>\n",
       "  </tbody>\n",
       "</table>\n",
       "</div>"
      ],
      "text/plain": [
       "  Unnamed: 0  column1  column2  column3  column4\n",
       "0       row1        0        1        2        3\n",
       "1       row2        4        5        6        7\n",
       "2       row3        8        9       10       11\n",
       "3       row4       12       13       14       15\n",
       "4       row5       16       17       18       19"
      ]
     },
     "execution_count": 33,
     "metadata": {},
     "output_type": "execute_result"
    }
   ],
   "source": [
    "df"
   ]
  },
  {
   "cell_type": "code",
   "execution_count": 60,
   "metadata": {},
   "outputs": [
    {
     "data": {
      "text/plain": [
       "Unnamed: 0    row2\n",
       "column1          4\n",
       "column2          5\n",
       "column3          6\n",
       "column4          7\n",
       "Name: 1, dtype: object"
      ]
     },
     "execution_count": 60,
     "metadata": {},
     "output_type": "execute_result"
    }
   ],
   "source": [
    "##accessing locatotions\n",
    "df.loc[1]"
   ]
  },
  {
   "cell_type": "code",
   "execution_count": 41,
   "metadata": {},
   "outputs": [
    {
     "data": {
      "text/html": [
       "<div>\n",
       "<style scoped>\n",
       "    .dataframe tbody tr th:only-of-type {\n",
       "        vertical-align: middle;\n",
       "    }\n",
       "\n",
       "    .dataframe tbody tr th {\n",
       "        vertical-align: top;\n",
       "    }\n",
       "\n",
       "    .dataframe thead th {\n",
       "        text-align: right;\n",
       "    }\n",
       "</style>\n",
       "<table border=\"1\" class=\"dataframe\">\n",
       "  <thead>\n",
       "    <tr style=\"text-align: right;\">\n",
       "      <th></th>\n",
       "      <th>Unnamed: 0</th>\n",
       "      <th>column1</th>\n",
       "    </tr>\n",
       "  </thead>\n",
       "  <tbody>\n",
       "    <tr>\n",
       "      <th>0</th>\n",
       "      <td>row1</td>\n",
       "      <td>0</td>\n",
       "    </tr>\n",
       "    <tr>\n",
       "      <th>1</th>\n",
       "      <td>row2</td>\n",
       "      <td>4</td>\n",
       "    </tr>\n",
       "    <tr>\n",
       "      <th>2</th>\n",
       "      <td>row3</td>\n",
       "      <td>8</td>\n",
       "    </tr>\n",
       "  </tbody>\n",
       "</table>\n",
       "</div>"
      ],
      "text/plain": [
       "  Unnamed: 0  column1\n",
       "0       row1        0\n",
       "1       row2        4\n",
       "2       row3        8"
      ]
     },
     "execution_count": 41,
     "metadata": {},
     "output_type": "execute_result"
    }
   ],
   "source": [
    "df.iloc[0:3,0:2]"
   ]
  },
  {
   "cell_type": "code",
   "execution_count": 46,
   "metadata": {},
   "outputs": [
    {
     "data": {
      "text/plain": [
       "0    row1\n",
       "1    row2\n",
       "2    row3\n",
       "Name: Unnamed: 0, dtype: object"
      ]
     },
     "execution_count": 46,
     "metadata": {},
     "output_type": "execute_result"
    }
   ],
   "source": [
    "df.iloc[0:3,0]"
   ]
  },
  {
   "cell_type": "code",
   "execution_count": 47,
   "metadata": {},
   "outputs": [
    {
     "data": {
      "text/plain": [
       "array([[ 0,  1,  2,  3],\n",
       "       [ 4,  5,  6,  7],\n",
       "       [ 8,  9, 10, 11],\n",
       "       [12, 13, 14, 15],\n",
       "       [16, 17, 18, 19]], dtype=int64)"
      ]
     },
     "execution_count": 47,
     "metadata": {},
     "output_type": "execute_result"
    }
   ],
   "source": [
    "### convert dataframes into arrays \n",
    "df.iloc[:,1:].values"
   ]
  },
  {
   "cell_type": "code",
   "execution_count": 48,
   "metadata": {},
   "outputs": [
    {
     "data": {
      "text/plain": [
       "(5, 4)"
      ]
     },
     "execution_count": 48,
     "metadata": {},
     "output_type": "execute_result"
    }
   ],
   "source": [
    "df.iloc[:,1:].values.shape ##.shape is used to know no of columns and rows "
   ]
  },
  {
   "cell_type": "code",
   "execution_count": 49,
   "metadata": {},
   "outputs": [
    {
     "data": {
      "text/plain": [
       "Unnamed: 0    0\n",
       "column1       0\n",
       "column2       0\n",
       "column3       0\n",
       "column4       0\n",
       "dtype: int64"
      ]
     },
     "execution_count": 49,
     "metadata": {},
     "output_type": "execute_result"
    }
   ],
   "source": [
    "##to check the null values \n",
    "df.isnull().sum()"
   ]
  },
  {
   "cell_type": "code",
   "execution_count": 50,
   "metadata": {},
   "outputs": [
    {
     "data": {
      "text/html": [
       "<div>\n",
       "<style scoped>\n",
       "    .dataframe tbody tr th:only-of-type {\n",
       "        vertical-align: middle;\n",
       "    }\n",
       "\n",
       "    .dataframe tbody tr th {\n",
       "        vertical-align: top;\n",
       "    }\n",
       "\n",
       "    .dataframe thead th {\n",
       "        text-align: right;\n",
       "    }\n",
       "</style>\n",
       "<table border=\"1\" class=\"dataframe\">\n",
       "  <thead>\n",
       "    <tr style=\"text-align: right;\">\n",
       "      <th></th>\n",
       "      <th>Unnamed: 0</th>\n",
       "      <th>column1</th>\n",
       "      <th>column2</th>\n",
       "      <th>column3</th>\n",
       "      <th>column4</th>\n",
       "    </tr>\n",
       "  </thead>\n",
       "  <tbody>\n",
       "    <tr>\n",
       "      <th>0</th>\n",
       "      <td>row1</td>\n",
       "      <td>0</td>\n",
       "      <td>1</td>\n",
       "      <td>2</td>\n",
       "      <td>3</td>\n",
       "    </tr>\n",
       "    <tr>\n",
       "      <th>1</th>\n",
       "      <td>row2</td>\n",
       "      <td>4</td>\n",
       "      <td>5</td>\n",
       "      <td>6</td>\n",
       "      <td>7</td>\n",
       "    </tr>\n",
       "    <tr>\n",
       "      <th>2</th>\n",
       "      <td>row3</td>\n",
       "      <td>8</td>\n",
       "      <td>9</td>\n",
       "      <td>10</td>\n",
       "      <td>11</td>\n",
       "    </tr>\n",
       "    <tr>\n",
       "      <th>3</th>\n",
       "      <td>row4</td>\n",
       "      <td>12</td>\n",
       "      <td>13</td>\n",
       "      <td>14</td>\n",
       "      <td>15</td>\n",
       "    </tr>\n",
       "    <tr>\n",
       "      <th>4</th>\n",
       "      <td>row5</td>\n",
       "      <td>16</td>\n",
       "      <td>17</td>\n",
       "      <td>18</td>\n",
       "      <td>19</td>\n",
       "    </tr>\n",
       "  </tbody>\n",
       "</table>\n",
       "</div>"
      ],
      "text/plain": [
       "  Unnamed: 0  column1  column2  column3  column4\n",
       "0       row1        0        1        2        3\n",
       "1       row2        4        5        6        7\n",
       "2       row3        8        9       10       11\n",
       "3       row4       12       13       14       15\n",
       "4       row5       16       17       18       19"
      ]
     },
     "execution_count": 50,
     "metadata": {},
     "output_type": "execute_result"
    }
   ],
   "source": [
    "df"
   ]
  },
  {
   "cell_type": "code",
   "execution_count": 51,
   "metadata": {},
   "outputs": [
    {
     "data": {
      "text/plain": [
       "12    1\n",
       "4     1\n",
       "16    1\n",
       "8     1\n",
       "0     1\n",
       "Name: column1, dtype: int64"
      ]
     },
     "execution_count": 51,
     "metadata": {},
     "output_type": "execute_result"
    }
   ],
   "source": [
    "##to find the no of unique counts \n",
    "df['column1'].value_counts()"
   ]
  },
  {
   "cell_type": "code",
   "execution_count": 52,
   "metadata": {},
   "outputs": [
    {
     "data": {
      "text/plain": [
       "array([ 0,  4,  8, 12, 16], dtype=int64)"
      ]
     },
     "execution_count": 52,
     "metadata": {},
     "output_type": "execute_result"
    }
   ],
   "source": [
    "##unique function\n",
    "df['column1'].unique()"
   ]
  },
  {
   "cell_type": "code",
   "execution_count": 56,
   "metadata": {},
   "outputs": [
    {
     "data": {
      "text/html": [
       "<div>\n",
       "<style scoped>\n",
       "    .dataframe tbody tr th:only-of-type {\n",
       "        vertical-align: middle;\n",
       "    }\n",
       "\n",
       "    .dataframe tbody tr th {\n",
       "        vertical-align: top;\n",
       "    }\n",
       "\n",
       "    .dataframe thead th {\n",
       "        text-align: right;\n",
       "    }\n",
       "</style>\n",
       "<table border=\"1\" class=\"dataframe\">\n",
       "  <thead>\n",
       "    <tr style=\"text-align: right;\">\n",
       "      <th></th>\n",
       "      <th>column3</th>\n",
       "      <th>column4</th>\n",
       "    </tr>\n",
       "  </thead>\n",
       "  <tbody>\n",
       "    <tr>\n",
       "      <th>0</th>\n",
       "      <td>2</td>\n",
       "      <td>3</td>\n",
       "    </tr>\n",
       "    <tr>\n",
       "      <th>1</th>\n",
       "      <td>6</td>\n",
       "      <td>7</td>\n",
       "    </tr>\n",
       "    <tr>\n",
       "      <th>2</th>\n",
       "      <td>10</td>\n",
       "      <td>11</td>\n",
       "    </tr>\n",
       "    <tr>\n",
       "      <th>3</th>\n",
       "      <td>14</td>\n",
       "      <td>15</td>\n",
       "    </tr>\n",
       "    <tr>\n",
       "      <th>4</th>\n",
       "      <td>18</td>\n",
       "      <td>19</td>\n",
       "    </tr>\n",
       "  </tbody>\n",
       "</table>\n",
       "</div>"
      ],
      "text/plain": [
       "   column3  column4\n",
       "0        2        3\n",
       "1        6        7\n",
       "2       10       11\n",
       "3       14       15\n",
       "4       18       19"
      ]
     },
     "execution_count": 56,
     "metadata": {},
     "output_type": "execute_result"
    }
   ],
   "source": [
    "df[['column3','column4']]"
   ]
  },
  {
   "cell_type": "code",
   "execution_count": 61,
   "metadata": {},
   "outputs": [
    {
     "name": "stdout",
     "output_type": "stream",
     "text": [
      "<class 'pandas.core.frame.DataFrame'>\n",
      "RangeIndex: 5 entries, 0 to 4\n",
      "Data columns (total 5 columns):\n",
      " #   Column      Non-Null Count  Dtype \n",
      "---  ------      --------------  ----- \n",
      " 0   Unnamed: 0  5 non-null      object\n",
      " 1   column1     5 non-null      int64 \n",
      " 2   column2     5 non-null      int64 \n",
      " 3   column3     5 non-null      int64 \n",
      " 4   column4     5 non-null      int64 \n",
      "dtypes: int64(4), object(1)\n",
      "memory usage: 328.0+ bytes\n"
     ]
    }
   ],
   "source": [
    "##inbuilt functions\n",
    "df.info() ###to know the data types "
   ]
  },
  {
   "cell_type": "code",
   "execution_count": 62,
   "metadata": {},
   "outputs": [
    {
     "data": {
      "text/html": [
       "<div>\n",
       "<style scoped>\n",
       "    .dataframe tbody tr th:only-of-type {\n",
       "        vertical-align: middle;\n",
       "    }\n",
       "\n",
       "    .dataframe tbody tr th {\n",
       "        vertical-align: top;\n",
       "    }\n",
       "\n",
       "    .dataframe thead th {\n",
       "        text-align: right;\n",
       "    }\n",
       "</style>\n",
       "<table border=\"1\" class=\"dataframe\">\n",
       "  <thead>\n",
       "    <tr style=\"text-align: right;\">\n",
       "      <th></th>\n",
       "      <th>column1</th>\n",
       "      <th>column2</th>\n",
       "      <th>column3</th>\n",
       "      <th>column4</th>\n",
       "    </tr>\n",
       "  </thead>\n",
       "  <tbody>\n",
       "    <tr>\n",
       "      <th>count</th>\n",
       "      <td>5.000000</td>\n",
       "      <td>5.000000</td>\n",
       "      <td>5.000000</td>\n",
       "      <td>5.000000</td>\n",
       "    </tr>\n",
       "    <tr>\n",
       "      <th>mean</th>\n",
       "      <td>8.000000</td>\n",
       "      <td>9.000000</td>\n",
       "      <td>10.000000</td>\n",
       "      <td>11.000000</td>\n",
       "    </tr>\n",
       "    <tr>\n",
       "      <th>std</th>\n",
       "      <td>6.324555</td>\n",
       "      <td>6.324555</td>\n",
       "      <td>6.324555</td>\n",
       "      <td>6.324555</td>\n",
       "    </tr>\n",
       "    <tr>\n",
       "      <th>min</th>\n",
       "      <td>0.000000</td>\n",
       "      <td>1.000000</td>\n",
       "      <td>2.000000</td>\n",
       "      <td>3.000000</td>\n",
       "    </tr>\n",
       "    <tr>\n",
       "      <th>25%</th>\n",
       "      <td>4.000000</td>\n",
       "      <td>5.000000</td>\n",
       "      <td>6.000000</td>\n",
       "      <td>7.000000</td>\n",
       "    </tr>\n",
       "    <tr>\n",
       "      <th>50%</th>\n",
       "      <td>8.000000</td>\n",
       "      <td>9.000000</td>\n",
       "      <td>10.000000</td>\n",
       "      <td>11.000000</td>\n",
       "    </tr>\n",
       "    <tr>\n",
       "      <th>75%</th>\n",
       "      <td>12.000000</td>\n",
       "      <td>13.000000</td>\n",
       "      <td>14.000000</td>\n",
       "      <td>15.000000</td>\n",
       "    </tr>\n",
       "    <tr>\n",
       "      <th>max</th>\n",
       "      <td>16.000000</td>\n",
       "      <td>17.000000</td>\n",
       "      <td>18.000000</td>\n",
       "      <td>19.000000</td>\n",
       "    </tr>\n",
       "  </tbody>\n",
       "</table>\n",
       "</div>"
      ],
      "text/plain": [
       "         column1    column2    column3    column4\n",
       "count   5.000000   5.000000   5.000000   5.000000\n",
       "mean    8.000000   9.000000  10.000000  11.000000\n",
       "std     6.324555   6.324555   6.324555   6.324555\n",
       "min     0.000000   1.000000   2.000000   3.000000\n",
       "25%     4.000000   5.000000   6.000000   7.000000\n",
       "50%     8.000000   9.000000  10.000000  11.000000\n",
       "75%    12.000000  13.000000  14.000000  15.000000\n",
       "max    16.000000  17.000000  18.000000  19.000000"
      ]
     },
     "execution_count": 62,
     "metadata": {},
     "output_type": "execute_result"
    }
   ],
   "source": [
    "df.describe() ###categorial features are skipped as they are not numbers "
   ]
  },
  {
   "cell_type": "code",
   "execution_count": 67,
   "metadata": {},
   "outputs": [
    {
     "data": {
      "text/html": [
       "<div>\n",
       "<style scoped>\n",
       "    .dataframe tbody tr th:only-of-type {\n",
       "        vertical-align: middle;\n",
       "    }\n",
       "\n",
       "    .dataframe tbody tr th {\n",
       "        vertical-align: top;\n",
       "    }\n",
       "\n",
       "    .dataframe thead th {\n",
       "        text-align: right;\n",
       "    }\n",
       "</style>\n",
       "<table border=\"1\" class=\"dataframe\">\n",
       "  <thead>\n",
       "    <tr style=\"text-align: right;\">\n",
       "      <th></th>\n",
       "      <th>Unnamed: 0</th>\n",
       "      <th>column1</th>\n",
       "      <th>column2</th>\n",
       "      <th>column3</th>\n",
       "      <th>column4</th>\n",
       "    </tr>\n",
       "  </thead>\n",
       "  <tbody>\n",
       "    <tr>\n",
       "      <th>1</th>\n",
       "      <td>row2</td>\n",
       "      <td>4</td>\n",
       "      <td>5</td>\n",
       "      <td>6</td>\n",
       "      <td>7</td>\n",
       "    </tr>\n",
       "    <tr>\n",
       "      <th>2</th>\n",
       "      <td>row3</td>\n",
       "      <td>8</td>\n",
       "      <td>9</td>\n",
       "      <td>10</td>\n",
       "      <td>11</td>\n",
       "    </tr>\n",
       "    <tr>\n",
       "      <th>3</th>\n",
       "      <td>row4</td>\n",
       "      <td>12</td>\n",
       "      <td>13</td>\n",
       "      <td>14</td>\n",
       "      <td>15</td>\n",
       "    </tr>\n",
       "    <tr>\n",
       "      <th>4</th>\n",
       "      <td>row5</td>\n",
       "      <td>16</td>\n",
       "      <td>17</td>\n",
       "      <td>18</td>\n",
       "      <td>19</td>\n",
       "    </tr>\n",
       "  </tbody>\n",
       "</table>\n",
       "</div>"
      ],
      "text/plain": [
       "  Unnamed: 0  column1  column2  column3  column4\n",
       "1       row2        4        5        6        7\n",
       "2       row3        8        9       10       11\n",
       "3       row4       12       13       14       15\n",
       "4       row5       16       17       18       19"
      ]
     },
     "execution_count": 67,
     "metadata": {},
     "output_type": "execute_result"
    }
   ],
   "source": [
    "df[df['column3']>5] ##to display only the elements greater than 5 in colums"
   ]
  },
  {
   "cell_type": "code",
   "execution_count": 75,
   "metadata": {},
   "outputs": [],
   "source": [
    "###creating csv (comma seperated value) file \n",
    "data=('col1,col2,col3\\n''x,y,1\\n''a,b,2\\n''c,d,3')"
   ]
  },
  {
   "cell_type": "code",
   "execution_count": 76,
   "metadata": {},
   "outputs": [
    {
     "data": {
      "text/plain": [
       "'col1,col2,col3\\nx,y,1\\na,b,2\\nc,d,3'"
      ]
     },
     "execution_count": 76,
     "metadata": {},
     "output_type": "execute_result"
    }
   ],
   "source": [
    "data"
   ]
  },
  {
   "cell_type": "code",
   "execution_count": 77,
   "metadata": {},
   "outputs": [
    {
     "data": {
      "text/plain": [
       "str"
      ]
     },
     "execution_count": 77,
     "metadata": {},
     "output_type": "execute_result"
    }
   ],
   "source": [
    "type(data)"
   ]
  },
  {
   "cell_type": "code",
   "execution_count": 5,
   "metadata": {},
   "outputs": [],
   "source": [
    "from io import StringIO,BytesIO"
   ]
  },
  {
   "cell_type": "raw",
   "metadata": {},
   "source": [
    "StringIO()"
   ]
  },
  {
   "cell_type": "code",
   "execution_count": 89,
   "metadata": {},
   "outputs": [
    {
     "data": {
      "text/html": [
       "<div>\n",
       "<style scoped>\n",
       "    .dataframe tbody tr th:only-of-type {\n",
       "        vertical-align: middle;\n",
       "    }\n",
       "\n",
       "    .dataframe tbody tr th {\n",
       "        vertical-align: top;\n",
       "    }\n",
       "\n",
       "    .dataframe thead th {\n",
       "        text-align: right;\n",
       "    }\n",
       "</style>\n",
       "<table border=\"1\" class=\"dataframe\">\n",
       "  <thead>\n",
       "    <tr style=\"text-align: right;\">\n",
       "      <th></th>\n",
       "      <th>col1</th>\n",
       "      <th>col2</th>\n",
       "      <th>col3</th>\n",
       "    </tr>\n",
       "  </thead>\n",
       "  <tbody>\n",
       "    <tr>\n",
       "      <th>0</th>\n",
       "      <td>x</td>\n",
       "      <td>y</td>\n",
       "      <td>1</td>\n",
       "    </tr>\n",
       "    <tr>\n",
       "      <th>1</th>\n",
       "      <td>a</td>\n",
       "      <td>b</td>\n",
       "      <td>2</td>\n",
       "    </tr>\n",
       "    <tr>\n",
       "      <th>2</th>\n",
       "      <td>c</td>\n",
       "      <td>d</td>\n",
       "      <td>3</td>\n",
       "    </tr>\n",
       "  </tbody>\n",
       "</table>\n",
       "</div>"
      ],
      "text/plain": [
       "  col1 col2  col3\n",
       "0    x    y     1\n",
       "1    a    b     2\n",
       "2    c    d     3"
      ]
     },
     "execution_count": 89,
     "metadata": {},
     "output_type": "execute_result"
    }
   ],
   "source": [
    "pd.read_csv(StringIO(data)) ##coverting csv file into proper data frame/data table "
   ]
  },
  {
   "cell_type": "code",
   "execution_count": 81,
   "metadata": {},
   "outputs": [
    {
     "data": {
      "text/plain": [
       "pandas.core.frame.DataFrame"
      ]
     },
     "execution_count": 81,
     "metadata": {},
     "output_type": "execute_result"
    }
   ],
   "source": [
    "type(df)"
   ]
  },
  {
   "cell_type": "code",
   "execution_count": 83,
   "metadata": {},
   "outputs": [
    {
     "data": {
      "text/html": [
       "<div>\n",
       "<style scoped>\n",
       "    .dataframe tbody tr th:only-of-type {\n",
       "        vertical-align: middle;\n",
       "    }\n",
       "\n",
       "    .dataframe tbody tr th {\n",
       "        vertical-align: top;\n",
       "    }\n",
       "\n",
       "    .dataframe thead th {\n",
       "        text-align: right;\n",
       "    }\n",
       "</style>\n",
       "<table border=\"1\" class=\"dataframe\">\n",
       "  <thead>\n",
       "    <tr style=\"text-align: right;\">\n",
       "      <th></th>\n",
       "      <th>col1</th>\n",
       "    </tr>\n",
       "  </thead>\n",
       "  <tbody>\n",
       "    <tr>\n",
       "      <th>0</th>\n",
       "      <td>x</td>\n",
       "    </tr>\n",
       "    <tr>\n",
       "      <th>1</th>\n",
       "      <td>a</td>\n",
       "    </tr>\n",
       "    <tr>\n",
       "      <th>2</th>\n",
       "      <td>c</td>\n",
       "    </tr>\n",
       "  </tbody>\n",
       "</table>\n",
       "</div>"
      ],
      "text/plain": [
       "  col1\n",
       "0    x\n",
       "1    a\n",
       "2    c"
      ]
     },
     "execution_count": 83,
     "metadata": {},
     "output_type": "execute_result"
    }
   ],
   "source": [
    "##to read specific columns\n",
    "df=pd.read_csv(StringIO(data),usecols=['col1'])\n",
    "df"
   ]
  },
  {
   "cell_type": "code",
   "execution_count": 90,
   "metadata": {},
   "outputs": [],
   "source": [
    "#to save it as csv file in location\n",
    "df.to_csv('testt.csv')"
   ]
  },
  {
   "cell_type": "raw",
   "metadata": {},
   "source": [
    "df=pd.read_csv('testt.csv')"
   ]
  },
  {
   "cell_type": "code",
   "execution_count": 91,
   "metadata": {},
   "outputs": [
    {
     "data": {
      "text/html": [
       "<div>\n",
       "<style scoped>\n",
       "    .dataframe tbody tr th:only-of-type {\n",
       "        vertical-align: middle;\n",
       "    }\n",
       "\n",
       "    .dataframe tbody tr th {\n",
       "        vertical-align: top;\n",
       "    }\n",
       "\n",
       "    .dataframe thead th {\n",
       "        text-align: right;\n",
       "    }\n",
       "</style>\n",
       "<table border=\"1\" class=\"dataframe\">\n",
       "  <thead>\n",
       "    <tr style=\"text-align: right;\">\n",
       "      <th></th>\n",
       "      <th>col1</th>\n",
       "    </tr>\n",
       "  </thead>\n",
       "  <tbody>\n",
       "    <tr>\n",
       "      <th>0</th>\n",
       "      <td>x</td>\n",
       "    </tr>\n",
       "    <tr>\n",
       "      <th>1</th>\n",
       "      <td>a</td>\n",
       "    </tr>\n",
       "    <tr>\n",
       "      <th>2</th>\n",
       "      <td>c</td>\n",
       "    </tr>\n",
       "  </tbody>\n",
       "</table>\n",
       "</div>"
      ],
      "text/plain": [
       "  col1\n",
       "0    x\n",
       "1    a\n",
       "2    c"
      ]
     },
     "execution_count": 91,
     "metadata": {},
     "output_type": "execute_result"
    }
   ],
   "source": [
    "df"
   ]
  },
  {
   "cell_type": "code",
   "execution_count": 22,
   "metadata": {},
   "outputs": [
    {
     "name": "stdout",
     "output_type": "stream",
     "text": [
      "a,b,c,d\n",
      "1,2,3,4\n",
      "5,6,7,8\n",
      "9,10,11,12\n"
     ]
    }
   ],
   "source": [
    "###To specify column data types\n",
    "data=('a,b,c,d\\n''1,2,3,4\\n''5,6,7,8\\n''9,10,11,12')\n",
    "print(data)"
   ]
  },
  {
   "cell_type": "code",
   "execution_count": 23,
   "metadata": {},
   "outputs": [
    {
     "data": {
      "text/html": [
       "<div>\n",
       "<style scoped>\n",
       "    .dataframe tbody tr th:only-of-type {\n",
       "        vertical-align: middle;\n",
       "    }\n",
       "\n",
       "    .dataframe tbody tr th {\n",
       "        vertical-align: top;\n",
       "    }\n",
       "\n",
       "    .dataframe thead th {\n",
       "        text-align: right;\n",
       "    }\n",
       "</style>\n",
       "<table border=\"1\" class=\"dataframe\">\n",
       "  <thead>\n",
       "    <tr style=\"text-align: right;\">\n",
       "      <th></th>\n",
       "      <th>a</th>\n",
       "      <th>b</th>\n",
       "      <th>c</th>\n",
       "      <th>d</th>\n",
       "    </tr>\n",
       "  </thead>\n",
       "  <tbody>\n",
       "    <tr>\n",
       "      <th>0</th>\n",
       "      <td>1</td>\n",
       "      <td>2</td>\n",
       "      <td>3</td>\n",
       "      <td>4</td>\n",
       "    </tr>\n",
       "    <tr>\n",
       "      <th>1</th>\n",
       "      <td>5</td>\n",
       "      <td>6</td>\n",
       "      <td>7</td>\n",
       "      <td>8</td>\n",
       "    </tr>\n",
       "    <tr>\n",
       "      <th>2</th>\n",
       "      <td>9</td>\n",
       "      <td>10</td>\n",
       "      <td>11</td>\n",
       "      <td>12</td>\n",
       "    </tr>\n",
       "  </tbody>\n",
       "</table>\n",
       "</div>"
      ],
      "text/plain": [
       "   a   b   c   d\n",
       "0  1   2   3   4\n",
       "1  5   6   7   8\n",
       "2  9  10  11  12"
      ]
     },
     "execution_count": 23,
     "metadata": {},
     "output_type": "execute_result"
    }
   ],
   "source": [
    "##object data type \n",
    "df=pd.read_csv(StringIO(data),dtype=object)\n",
    "df"
   ]
  },
  {
   "cell_type": "code",
   "execution_count": 24,
   "metadata": {},
   "outputs": [
    {
     "data": {
      "text/plain": [
       "0    1\n",
       "1    5\n",
       "2    9\n",
       "Name: a, dtype: object"
      ]
     },
     "execution_count": 24,
     "metadata": {},
     "output_type": "execute_result"
    }
   ],
   "source": [
    "df['a']"
   ]
  },
  {
   "cell_type": "code",
   "execution_count": 25,
   "metadata": {},
   "outputs": [
    {
     "data": {
      "text/plain": [
       "'5'"
      ]
     },
     "execution_count": 25,
     "metadata": {},
     "output_type": "execute_result"
    }
   ],
   "source": [
    "df['a'][1]"
   ]
  },
  {
   "cell_type": "code",
   "execution_count": 26,
   "metadata": {},
   "outputs": [
    {
     "data": {
      "text/html": [
       "<div>\n",
       "<style scoped>\n",
       "    .dataframe tbody tr th:only-of-type {\n",
       "        vertical-align: middle;\n",
       "    }\n",
       "\n",
       "    .dataframe tbody tr th {\n",
       "        vertical-align: top;\n",
       "    }\n",
       "\n",
       "    .dataframe thead th {\n",
       "        text-align: right;\n",
       "    }\n",
       "</style>\n",
       "<table border=\"1\" class=\"dataframe\">\n",
       "  <thead>\n",
       "    <tr style=\"text-align: right;\">\n",
       "      <th></th>\n",
       "      <th>a</th>\n",
       "      <th>b</th>\n",
       "      <th>c</th>\n",
       "      <th>d</th>\n",
       "    </tr>\n",
       "  </thead>\n",
       "  <tbody>\n",
       "    <tr>\n",
       "      <th>0</th>\n",
       "      <td>1.0</td>\n",
       "      <td>2.0</td>\n",
       "      <td>3.0</td>\n",
       "      <td>4.0</td>\n",
       "    </tr>\n",
       "    <tr>\n",
       "      <th>1</th>\n",
       "      <td>5.0</td>\n",
       "      <td>6.0</td>\n",
       "      <td>7.0</td>\n",
       "      <td>8.0</td>\n",
       "    </tr>\n",
       "    <tr>\n",
       "      <th>2</th>\n",
       "      <td>9.0</td>\n",
       "      <td>10.0</td>\n",
       "      <td>11.0</td>\n",
       "      <td>12.0</td>\n",
       "    </tr>\n",
       "  </tbody>\n",
       "</table>\n",
       "</div>"
      ],
      "text/plain": [
       "     a     b     c     d\n",
       "0  1.0   2.0   3.0   4.0\n",
       "1  5.0   6.0   7.0   8.0\n",
       "2  9.0  10.0  11.0  12.0"
      ]
     },
     "execution_count": 26,
     "metadata": {},
     "output_type": "execute_result"
    }
   ],
   "source": [
    "##type float\n",
    "df=pd.read_csv(StringIO(data),dtype=float)\n",
    "df"
   ]
  },
  {
   "cell_type": "code",
   "execution_count": 27,
   "metadata": {},
   "outputs": [
    {
     "data": {
      "text/plain": [
       "0    1.0\n",
       "1    5.0\n",
       "2    9.0\n",
       "Name: a, dtype: float64"
      ]
     },
     "execution_count": 27,
     "metadata": {},
     "output_type": "execute_result"
    }
   ],
   "source": [
    "df['a']"
   ]
  },
  {
   "cell_type": "code",
   "execution_count": 28,
   "metadata": {},
   "outputs": [
    {
     "data": {
      "text/plain": [
       "5.0"
      ]
     },
     "execution_count": 28,
     "metadata": {},
     "output_type": "execute_result"
    }
   ],
   "source": [
    "df['a'][1]"
   ]
  },
  {
   "cell_type": "code",
   "execution_count": 29,
   "metadata": {},
   "outputs": [
    {
     "data": {
      "text/html": [
       "<div>\n",
       "<style scoped>\n",
       "    .dataframe tbody tr th:only-of-type {\n",
       "        vertical-align: middle;\n",
       "    }\n",
       "\n",
       "    .dataframe tbody tr th {\n",
       "        vertical-align: top;\n",
       "    }\n",
       "\n",
       "    .dataframe thead th {\n",
       "        text-align: right;\n",
       "    }\n",
       "</style>\n",
       "<table border=\"1\" class=\"dataframe\">\n",
       "  <thead>\n",
       "    <tr style=\"text-align: right;\">\n",
       "      <th></th>\n",
       "      <th>a</th>\n",
       "      <th>b</th>\n",
       "      <th>c</th>\n",
       "      <th>d</th>\n",
       "    </tr>\n",
       "  </thead>\n",
       "  <tbody>\n",
       "    <tr>\n",
       "      <th>0</th>\n",
       "      <td>1</td>\n",
       "      <td>2</td>\n",
       "      <td>3</td>\n",
       "      <td>4</td>\n",
       "    </tr>\n",
       "    <tr>\n",
       "      <th>1</th>\n",
       "      <td>5</td>\n",
       "      <td>6</td>\n",
       "      <td>7</td>\n",
       "      <td>8</td>\n",
       "    </tr>\n",
       "    <tr>\n",
       "      <th>2</th>\n",
       "      <td>9</td>\n",
       "      <td>10</td>\n",
       "      <td>11</td>\n",
       "      <td>12</td>\n",
       "    </tr>\n",
       "  </tbody>\n",
       "</table>\n",
       "</div>"
      ],
      "text/plain": [
       "   a   b   c   d\n",
       "0  1   2   3   4\n",
       "1  5   6   7   8\n",
       "2  9  10  11  12"
      ]
     },
     "execution_count": 29,
     "metadata": {},
     "output_type": "execute_result"
    }
   ],
   "source": [
    "###type int \n",
    "df=pd.read_csv(StringIO(data),dtype=int) \n",
    "df"
   ]
  },
  {
   "cell_type": "code",
   "execution_count": 30,
   "metadata": {},
   "outputs": [
    {
     "data": {
      "text/plain": [
       "0    1\n",
       "1    5\n",
       "2    9\n",
       "Name: a, dtype: int32"
      ]
     },
     "execution_count": 30,
     "metadata": {},
     "output_type": "execute_result"
    }
   ],
   "source": [
    "df['a']"
   ]
  },
  {
   "cell_type": "code",
   "execution_count": 31,
   "metadata": {},
   "outputs": [
    {
     "data": {
      "text/plain": [
       "5"
      ]
     },
     "execution_count": 31,
     "metadata": {},
     "output_type": "execute_result"
    }
   ],
   "source": [
    "df['a'][1]"
   ]
  },
  {
   "cell_type": "code",
   "execution_count": 40,
   "metadata": {},
   "outputs": [],
   "source": [
    "###specifying different columns with different data types \n",
    "df=pd.read_csv(StringIO(data),dtype={'b':int,'c':float,'a':'Int64'})"
   ]
  },
  {
   "cell_type": "code",
   "execution_count": 41,
   "metadata": {},
   "outputs": [
    {
     "data": {
      "text/html": [
       "<div>\n",
       "<style scoped>\n",
       "    .dataframe tbody tr th:only-of-type {\n",
       "        vertical-align: middle;\n",
       "    }\n",
       "\n",
       "    .dataframe tbody tr th {\n",
       "        vertical-align: top;\n",
       "    }\n",
       "\n",
       "    .dataframe thead th {\n",
       "        text-align: right;\n",
       "    }\n",
       "</style>\n",
       "<table border=\"1\" class=\"dataframe\">\n",
       "  <thead>\n",
       "    <tr style=\"text-align: right;\">\n",
       "      <th></th>\n",
       "      <th>a</th>\n",
       "      <th>b</th>\n",
       "      <th>c</th>\n",
       "      <th>d</th>\n",
       "    </tr>\n",
       "  </thead>\n",
       "  <tbody>\n",
       "    <tr>\n",
       "      <th>0</th>\n",
       "      <td>1</td>\n",
       "      <td>2</td>\n",
       "      <td>3.0</td>\n",
       "      <td>4</td>\n",
       "    </tr>\n",
       "    <tr>\n",
       "      <th>1</th>\n",
       "      <td>5</td>\n",
       "      <td>6</td>\n",
       "      <td>7.0</td>\n",
       "      <td>8</td>\n",
       "    </tr>\n",
       "    <tr>\n",
       "      <th>2</th>\n",
       "      <td>9</td>\n",
       "      <td>10</td>\n",
       "      <td>11.0</td>\n",
       "      <td>12</td>\n",
       "    </tr>\n",
       "  </tbody>\n",
       "</table>\n",
       "</div>"
      ],
      "text/plain": [
       "   a   b     c   d\n",
       "0  1   2   3.0   4\n",
       "1  5   6   7.0   8\n",
       "2  9  10  11.0  12"
      ]
     },
     "execution_count": 41,
     "metadata": {},
     "output_type": "execute_result"
    }
   ],
   "source": [
    "df"
   ]
  },
  {
   "cell_type": "code",
   "execution_count": 43,
   "metadata": {},
   "outputs": [],
   "source": [
    "##Making first/0th column as index\n",
    "data=('index,a,b,c\\n''4,apple,bat,5.7\\n''8,orange,cow,10')"
   ]
  },
  {
   "cell_type": "code",
   "execution_count": 44,
   "metadata": {},
   "outputs": [
    {
     "data": {
      "text/html": [
       "<div>\n",
       "<style scoped>\n",
       "    .dataframe tbody tr th:only-of-type {\n",
       "        vertical-align: middle;\n",
       "    }\n",
       "\n",
       "    .dataframe tbody tr th {\n",
       "        vertical-align: top;\n",
       "    }\n",
       "\n",
       "    .dataframe thead th {\n",
       "        text-align: right;\n",
       "    }\n",
       "</style>\n",
       "<table border=\"1\" class=\"dataframe\">\n",
       "  <thead>\n",
       "    <tr style=\"text-align: right;\">\n",
       "      <th></th>\n",
       "      <th>a</th>\n",
       "      <th>b</th>\n",
       "      <th>c</th>\n",
       "    </tr>\n",
       "    <tr>\n",
       "      <th>index</th>\n",
       "      <th></th>\n",
       "      <th></th>\n",
       "      <th></th>\n",
       "    </tr>\n",
       "  </thead>\n",
       "  <tbody>\n",
       "    <tr>\n",
       "      <th>4</th>\n",
       "      <td>apple</td>\n",
       "      <td>bat</td>\n",
       "      <td>5.7</td>\n",
       "    </tr>\n",
       "    <tr>\n",
       "      <th>8</th>\n",
       "      <td>orange</td>\n",
       "      <td>cow</td>\n",
       "      <td>10.0</td>\n",
       "    </tr>\n",
       "  </tbody>\n",
       "</table>\n",
       "</div>"
      ],
      "text/plain": [
       "            a    b     c\n",
       "index                   \n",
       "4       apple  bat   5.7\n",
       "8      orange  cow  10.0"
      ]
     },
     "execution_count": 44,
     "metadata": {},
     "output_type": "execute_result"
    }
   ],
   "source": [
    "pd.read_csv(StringIO(data),index_col=0)"
   ]
  },
  {
   "cell_type": "code",
   "execution_count": 51,
   "metadata": {},
   "outputs": [
    {
     "data": {
      "text/html": [
       "<div>\n",
       "<style scoped>\n",
       "    .dataframe tbody tr th:only-of-type {\n",
       "        vertical-align: middle;\n",
       "    }\n",
       "\n",
       "    .dataframe tbody tr th {\n",
       "        vertical-align: top;\n",
       "    }\n",
       "\n",
       "    .dataframe thead th {\n",
       "        text-align: right;\n",
       "    }\n",
       "</style>\n",
       "<table border=\"1\" class=\"dataframe\">\n",
       "  <thead>\n",
       "    <tr style=\"text-align: right;\">\n",
       "      <th></th>\n",
       "      <th>a</th>\n",
       "      <th>b</th>\n",
       "      <th>c</th>\n",
       "    </tr>\n",
       "  </thead>\n",
       "  <tbody>\n",
       "    <tr>\n",
       "      <th>4</th>\n",
       "      <td>apple</td>\n",
       "      <td>bat</td>\n",
       "      <td>NaN</td>\n",
       "    </tr>\n",
       "    <tr>\n",
       "      <th>8</th>\n",
       "      <td>orange</td>\n",
       "      <td>cow</td>\n",
       "      <td>NaN</td>\n",
       "    </tr>\n",
       "  </tbody>\n",
       "</table>\n",
       "</div>"
      ],
      "text/plain": [
       "        a    b   c\n",
       "4   apple  bat NaN\n",
       "8  orange  cow NaN"
      ]
     },
     "execution_count": 51,
     "metadata": {},
     "output_type": "execute_result"
    }
   ],
   "source": [
    "data=('a,b,c\\n''4,apple,bat,\\n''8,orange,cow,')\n",
    "pd.read_csv(StringIO(data)) ##takes datatype as none hence  takes 4,8 as index"
   ]
  },
  {
   "cell_type": "code",
   "execution_count": 52,
   "metadata": {},
   "outputs": [
    {
     "data": {
      "text/html": [
       "<div>\n",
       "<style scoped>\n",
       "    .dataframe tbody tr th:only-of-type {\n",
       "        vertical-align: middle;\n",
       "    }\n",
       "\n",
       "    .dataframe tbody tr th {\n",
       "        vertical-align: top;\n",
       "    }\n",
       "\n",
       "    .dataframe thead th {\n",
       "        text-align: right;\n",
       "    }\n",
       "</style>\n",
       "<table border=\"1\" class=\"dataframe\">\n",
       "  <thead>\n",
       "    <tr style=\"text-align: right;\">\n",
       "      <th></th>\n",
       "      <th>a</th>\n",
       "      <th>b</th>\n",
       "      <th>c</th>\n",
       "    </tr>\n",
       "  </thead>\n",
       "  <tbody>\n",
       "    <tr>\n",
       "      <th>0</th>\n",
       "      <td>4</td>\n",
       "      <td>apple</td>\n",
       "      <td>bat</td>\n",
       "    </tr>\n",
       "    <tr>\n",
       "      <th>1</th>\n",
       "      <td>8</td>\n",
       "      <td>orange</td>\n",
       "      <td>cow</td>\n",
       "    </tr>\n",
       "  </tbody>\n",
       "</table>\n",
       "</div>"
      ],
      "text/plain": [
       "   a       b    c\n",
       "0  4   apple  bat\n",
       "1  8  orange  cow"
      ]
     },
     "execution_count": 52,
     "metadata": {},
     "output_type": "execute_result"
    }
   ],
   "source": [
    "##to remove the above issue \n",
    "pd.read_csv(StringIO(data),index_col=False)"
   ]
  },
  {
   "cell_type": "code",
   "execution_count": 54,
   "metadata": {},
   "outputs": [
    {
     "data": {
      "text/html": [
       "<div>\n",
       "<style scoped>\n",
       "    .dataframe tbody tr th:only-of-type {\n",
       "        vertical-align: middle;\n",
       "    }\n",
       "\n",
       "    .dataframe tbody tr th {\n",
       "        vertical-align: top;\n",
       "    }\n",
       "\n",
       "    .dataframe thead th {\n",
       "        text-align: right;\n",
       "    }\n",
       "</style>\n",
       "<table border=\"1\" class=\"dataframe\">\n",
       "  <thead>\n",
       "    <tr style=\"text-align: right;\">\n",
       "      <th></th>\n",
       "      <th>b</th>\n",
       "      <th>c</th>\n",
       "    </tr>\n",
       "  </thead>\n",
       "  <tbody>\n",
       "    <tr>\n",
       "      <th>0</th>\n",
       "      <td>apple</td>\n",
       "      <td>bat</td>\n",
       "    </tr>\n",
       "    <tr>\n",
       "      <th>1</th>\n",
       "      <td>orange</td>\n",
       "      <td>cow</td>\n",
       "    </tr>\n",
       "  </tbody>\n",
       "</table>\n",
       "</div>"
      ],
      "text/plain": [
       "        b    c\n",
       "0   apple  bat\n",
       "1  orange  cow"
      ]
     },
     "execution_count": 54,
     "metadata": {},
     "output_type": "execute_result"
    }
   ],
   "source": [
    "##combining usecols and indexcols \n",
    "data=('a,b,c\\n''4,apple,bat,\\n''8,orange,cow,')\n",
    "pd.read_csv(StringIO(data),index_col=False,usecols=['b','c'])\n",
    "\n"
   ]
  },
  {
   "cell_type": "code",
   "execution_count": 55,
   "metadata": {},
   "outputs": [
    {
     "data": {
      "text/html": [
       "<div>\n",
       "<style scoped>\n",
       "    .dataframe tbody tr th:only-of-type {\n",
       "        vertical-align: middle;\n",
       "    }\n",
       "\n",
       "    .dataframe tbody tr th {\n",
       "        vertical-align: top;\n",
       "    }\n",
       "\n",
       "    .dataframe thead th {\n",
       "        text-align: right;\n",
       "    }\n",
       "</style>\n",
       "<table border=\"1\" class=\"dataframe\">\n",
       "  <thead>\n",
       "    <tr style=\"text-align: right;\">\n",
       "      <th></th>\n",
       "      <th>a</th>\n",
       "      <th>b</th>\n",
       "    </tr>\n",
       "  </thead>\n",
       "  <tbody>\n",
       "    <tr>\n",
       "      <th>0</th>\n",
       "      <td>hello, \"bob \",nice to meet you</td>\n",
       "      <td>5</td>\n",
       "    </tr>\n",
       "  </tbody>\n",
       "</table>\n",
       "</div>"
      ],
      "text/plain": [
       "                                a  b\n",
       "0  hello, \"bob \",nice to meet you  5"
      ]
     },
     "execution_count": 55,
     "metadata": {},
     "output_type": "execute_result"
    }
   ],
   "source": [
    "##quoting and escape characters \n",
    "data='a,b\\n\"hello, \\\\\"bob \\\\\",nice to meet you\",5'\n",
    "pd.read_csv(StringIO(data),escapechar='\\\\')"
   ]
  },
  {
   "cell_type": "code",
   "execution_count": 28,
   "metadata": {},
   "outputs": [
    {
     "data": {
      "text/html": [
       "<div>\n",
       "<style scoped>\n",
       "    .dataframe tbody tr th:only-of-type {\n",
       "        vertical-align: middle;\n",
       "    }\n",
       "\n",
       "    .dataframe tbody tr th {\n",
       "        vertical-align: top;\n",
       "    }\n",
       "\n",
       "    .dataframe thead th {\n",
       "        text-align: right;\n",
       "    }\n",
       "</style>\n",
       "<table border=\"1\" class=\"dataframe\">\n",
       "  <thead>\n",
       "    <tr style=\"text-align: right;\">\n",
       "      <th></th>\n",
       "      <th>employee_name</th>\n",
       "      <th>email</th>\n",
       "      <th>job_profile</th>\n",
       "    </tr>\n",
       "  </thead>\n",
       "  <tbody>\n",
       "    <tr>\n",
       "      <th>0</th>\n",
       "      <td>james</td>\n",
       "      <td>james@gmail.com</td>\n",
       "      <td>{'title1': 'team lead', 'title2': 'devoloper'}</td>\n",
       "    </tr>\n",
       "  </tbody>\n",
       "</table>\n",
       "</div>"
      ],
      "text/plain": [
       "  employee_name            email  \\\n",
       "0         james  james@gmail.com   \n",
       "\n",
       "                                      job_profile  \n",
       "0  {'title1': 'team lead', 'title2': 'devoloper'}  "
      ]
     },
     "execution_count": 28,
     "metadata": {},
     "output_type": "execute_result"
    }
   ],
   "source": [
    "##read json (java script object notation file ) to csv\n",
    "Data ='{\"employee_name\":\"james\",\"email\":\"james@gmail.com\",\"job_profile\":[{\"title1\":\"team lead\",\"title2\":\"devoloper\"}]}'\n",
    "df1=pd.read_json(Data)\n",
    "df1"
   ]
  },
  {
   "cell_type": "code",
   "execution_count": 29,
   "metadata": {},
   "outputs": [],
   "source": [
    "df=pd.read_csv('https://archive.ics.uci.edu/ml/machine-learning-databases/wine/wine.data')"
   ]
  },
  {
   "cell_type": "code",
   "execution_count": 22,
   "metadata": {},
   "outputs": [
    {
     "data": {
      "text/html": [
       "<div>\n",
       "<style scoped>\n",
       "    .dataframe tbody tr th:only-of-type {\n",
       "        vertical-align: middle;\n",
       "    }\n",
       "\n",
       "    .dataframe tbody tr th {\n",
       "        vertical-align: top;\n",
       "    }\n",
       "\n",
       "    .dataframe thead th {\n",
       "        text-align: right;\n",
       "    }\n",
       "</style>\n",
       "<table border=\"1\" class=\"dataframe\">\n",
       "  <thead>\n",
       "    <tr style=\"text-align: right;\">\n",
       "      <th></th>\n",
       "      <th>1</th>\n",
       "      <th>14.23</th>\n",
       "      <th>1.71</th>\n",
       "      <th>2.43</th>\n",
       "      <th>15.6</th>\n",
       "      <th>127</th>\n",
       "      <th>2.8</th>\n",
       "      <th>3.06</th>\n",
       "      <th>.28</th>\n",
       "      <th>2.29</th>\n",
       "      <th>5.64</th>\n",
       "      <th>1.04</th>\n",
       "      <th>3.92</th>\n",
       "      <th>1065</th>\n",
       "    </tr>\n",
       "  </thead>\n",
       "  <tbody>\n",
       "    <tr>\n",
       "      <th>0</th>\n",
       "      <td>1</td>\n",
       "      <td>13.20</td>\n",
       "      <td>1.78</td>\n",
       "      <td>2.14</td>\n",
       "      <td>11.2</td>\n",
       "      <td>100</td>\n",
       "      <td>2.65</td>\n",
       "      <td>2.76</td>\n",
       "      <td>0.26</td>\n",
       "      <td>1.28</td>\n",
       "      <td>4.38</td>\n",
       "      <td>1.05</td>\n",
       "      <td>3.40</td>\n",
       "      <td>1050</td>\n",
       "    </tr>\n",
       "    <tr>\n",
       "      <th>1</th>\n",
       "      <td>1</td>\n",
       "      <td>13.16</td>\n",
       "      <td>2.36</td>\n",
       "      <td>2.67</td>\n",
       "      <td>18.6</td>\n",
       "      <td>101</td>\n",
       "      <td>2.80</td>\n",
       "      <td>3.24</td>\n",
       "      <td>0.30</td>\n",
       "      <td>2.81</td>\n",
       "      <td>5.68</td>\n",
       "      <td>1.03</td>\n",
       "      <td>3.17</td>\n",
       "      <td>1185</td>\n",
       "    </tr>\n",
       "    <tr>\n",
       "      <th>2</th>\n",
       "      <td>1</td>\n",
       "      <td>14.37</td>\n",
       "      <td>1.95</td>\n",
       "      <td>2.50</td>\n",
       "      <td>16.8</td>\n",
       "      <td>113</td>\n",
       "      <td>3.85</td>\n",
       "      <td>3.49</td>\n",
       "      <td>0.24</td>\n",
       "      <td>2.18</td>\n",
       "      <td>7.80</td>\n",
       "      <td>0.86</td>\n",
       "      <td>3.45</td>\n",
       "      <td>1480</td>\n",
       "    </tr>\n",
       "    <tr>\n",
       "      <th>3</th>\n",
       "      <td>1</td>\n",
       "      <td>13.24</td>\n",
       "      <td>2.59</td>\n",
       "      <td>2.87</td>\n",
       "      <td>21.0</td>\n",
       "      <td>118</td>\n",
       "      <td>2.80</td>\n",
       "      <td>2.69</td>\n",
       "      <td>0.39</td>\n",
       "      <td>1.82</td>\n",
       "      <td>4.32</td>\n",
       "      <td>1.04</td>\n",
       "      <td>2.93</td>\n",
       "      <td>735</td>\n",
       "    </tr>\n",
       "    <tr>\n",
       "      <th>4</th>\n",
       "      <td>1</td>\n",
       "      <td>14.20</td>\n",
       "      <td>1.76</td>\n",
       "      <td>2.45</td>\n",
       "      <td>15.2</td>\n",
       "      <td>112</td>\n",
       "      <td>3.27</td>\n",
       "      <td>3.39</td>\n",
       "      <td>0.34</td>\n",
       "      <td>1.97</td>\n",
       "      <td>6.75</td>\n",
       "      <td>1.05</td>\n",
       "      <td>2.85</td>\n",
       "      <td>1450</td>\n",
       "    </tr>\n",
       "  </tbody>\n",
       "</table>\n",
       "</div>"
      ],
      "text/plain": [
       "   1  14.23  1.71  2.43  15.6  127   2.8  3.06   .28  2.29  5.64  1.04  3.92  \\\n",
       "0  1  13.20  1.78  2.14  11.2  100  2.65  2.76  0.26  1.28  4.38  1.05  3.40   \n",
       "1  1  13.16  2.36  2.67  18.6  101  2.80  3.24  0.30  2.81  5.68  1.03  3.17   \n",
       "2  1  14.37  1.95  2.50  16.8  113  3.85  3.49  0.24  2.18  7.80  0.86  3.45   \n",
       "3  1  13.24  2.59  2.87  21.0  118  2.80  2.69  0.39  1.82  4.32  1.04  2.93   \n",
       "4  1  14.20  1.76  2.45  15.2  112  3.27  3.39  0.34  1.97  6.75  1.05  2.85   \n",
       "\n",
       "   1065  \n",
       "0  1050  \n",
       "1  1185  \n",
       "2  1480  \n",
       "3   735  \n",
       "4  1450  "
      ]
     },
     "execution_count": 22,
     "metadata": {},
     "output_type": "execute_result"
    }
   ],
   "source": [
    "df.head()"
   ]
  },
  {
   "cell_type": "code",
   "execution_count": 23,
   "metadata": {},
   "outputs": [],
   "source": [
    "##convert json to csv\n",
    "df.to_csv('wine.csv')"
   ]
  },
  {
   "cell_type": "code",
   "execution_count": 15,
   "metadata": {},
   "outputs": [
    {
     "data": {
      "text/html": [
       "<div>\n",
       "<style scoped>\n",
       "    .dataframe tbody tr th:only-of-type {\n",
       "        vertical-align: middle;\n",
       "    }\n",
       "\n",
       "    .dataframe tbody tr th {\n",
       "        vertical-align: top;\n",
       "    }\n",
       "\n",
       "    .dataframe thead th {\n",
       "        text-align: right;\n",
       "    }\n",
       "</style>\n",
       "<table border=\"1\" class=\"dataframe\">\n",
       "  <thead>\n",
       "    <tr style=\"text-align: right;\">\n",
       "      <th></th>\n",
       "      <th>Unnamed: 0</th>\n",
       "      <th>1</th>\n",
       "      <th>14.23</th>\n",
       "      <th>1.71</th>\n",
       "      <th>2.43</th>\n",
       "      <th>15.6</th>\n",
       "      <th>127</th>\n",
       "      <th>2.8</th>\n",
       "      <th>3.06</th>\n",
       "      <th>.28</th>\n",
       "      <th>2.29</th>\n",
       "      <th>5.64</th>\n",
       "      <th>1.04</th>\n",
       "      <th>3.92</th>\n",
       "      <th>1065</th>\n",
       "    </tr>\n",
       "  </thead>\n",
       "  <tbody>\n",
       "    <tr>\n",
       "      <th>0</th>\n",
       "      <td>0</td>\n",
       "      <td>1</td>\n",
       "      <td>13.20</td>\n",
       "      <td>1.78</td>\n",
       "      <td>2.14</td>\n",
       "      <td>11.2</td>\n",
       "      <td>100</td>\n",
       "      <td>2.65</td>\n",
       "      <td>2.76</td>\n",
       "      <td>0.26</td>\n",
       "      <td>1.28</td>\n",
       "      <td>4.38</td>\n",
       "      <td>1.05</td>\n",
       "      <td>3.40</td>\n",
       "      <td>1050</td>\n",
       "    </tr>\n",
       "    <tr>\n",
       "      <th>1</th>\n",
       "      <td>1</td>\n",
       "      <td>1</td>\n",
       "      <td>13.16</td>\n",
       "      <td>2.36</td>\n",
       "      <td>2.67</td>\n",
       "      <td>18.6</td>\n",
       "      <td>101</td>\n",
       "      <td>2.80</td>\n",
       "      <td>3.24</td>\n",
       "      <td>0.30</td>\n",
       "      <td>2.81</td>\n",
       "      <td>5.68</td>\n",
       "      <td>1.03</td>\n",
       "      <td>3.17</td>\n",
       "      <td>1185</td>\n",
       "    </tr>\n",
       "    <tr>\n",
       "      <th>2</th>\n",
       "      <td>2</td>\n",
       "      <td>1</td>\n",
       "      <td>14.37</td>\n",
       "      <td>1.95</td>\n",
       "      <td>2.50</td>\n",
       "      <td>16.8</td>\n",
       "      <td>113</td>\n",
       "      <td>3.85</td>\n",
       "      <td>3.49</td>\n",
       "      <td>0.24</td>\n",
       "      <td>2.18</td>\n",
       "      <td>7.80</td>\n",
       "      <td>0.86</td>\n",
       "      <td>3.45</td>\n",
       "      <td>1480</td>\n",
       "    </tr>\n",
       "    <tr>\n",
       "      <th>3</th>\n",
       "      <td>3</td>\n",
       "      <td>1</td>\n",
       "      <td>13.24</td>\n",
       "      <td>2.59</td>\n",
       "      <td>2.87</td>\n",
       "      <td>21.0</td>\n",
       "      <td>118</td>\n",
       "      <td>2.80</td>\n",
       "      <td>2.69</td>\n",
       "      <td>0.39</td>\n",
       "      <td>1.82</td>\n",
       "      <td>4.32</td>\n",
       "      <td>1.04</td>\n",
       "      <td>2.93</td>\n",
       "      <td>735</td>\n",
       "    </tr>\n",
       "    <tr>\n",
       "      <th>4</th>\n",
       "      <td>4</td>\n",
       "      <td>1</td>\n",
       "      <td>14.20</td>\n",
       "      <td>1.76</td>\n",
       "      <td>2.45</td>\n",
       "      <td>15.2</td>\n",
       "      <td>112</td>\n",
       "      <td>3.27</td>\n",
       "      <td>3.39</td>\n",
       "      <td>0.34</td>\n",
       "      <td>1.97</td>\n",
       "      <td>6.75</td>\n",
       "      <td>1.05</td>\n",
       "      <td>2.85</td>\n",
       "      <td>1450</td>\n",
       "    </tr>\n",
       "    <tr>\n",
       "      <th>...</th>\n",
       "      <td>...</td>\n",
       "      <td>...</td>\n",
       "      <td>...</td>\n",
       "      <td>...</td>\n",
       "      <td>...</td>\n",
       "      <td>...</td>\n",
       "      <td>...</td>\n",
       "      <td>...</td>\n",
       "      <td>...</td>\n",
       "      <td>...</td>\n",
       "      <td>...</td>\n",
       "      <td>...</td>\n",
       "      <td>...</td>\n",
       "      <td>...</td>\n",
       "      <td>...</td>\n",
       "    </tr>\n",
       "    <tr>\n",
       "      <th>172</th>\n",
       "      <td>172</td>\n",
       "      <td>3</td>\n",
       "      <td>13.71</td>\n",
       "      <td>5.65</td>\n",
       "      <td>2.45</td>\n",
       "      <td>20.5</td>\n",
       "      <td>95</td>\n",
       "      <td>1.68</td>\n",
       "      <td>0.61</td>\n",
       "      <td>0.52</td>\n",
       "      <td>1.06</td>\n",
       "      <td>7.70</td>\n",
       "      <td>0.64</td>\n",
       "      <td>1.74</td>\n",
       "      <td>740</td>\n",
       "    </tr>\n",
       "    <tr>\n",
       "      <th>173</th>\n",
       "      <td>173</td>\n",
       "      <td>3</td>\n",
       "      <td>13.40</td>\n",
       "      <td>3.91</td>\n",
       "      <td>2.48</td>\n",
       "      <td>23.0</td>\n",
       "      <td>102</td>\n",
       "      <td>1.80</td>\n",
       "      <td>0.75</td>\n",
       "      <td>0.43</td>\n",
       "      <td>1.41</td>\n",
       "      <td>7.30</td>\n",
       "      <td>0.70</td>\n",
       "      <td>1.56</td>\n",
       "      <td>750</td>\n",
       "    </tr>\n",
       "    <tr>\n",
       "      <th>174</th>\n",
       "      <td>174</td>\n",
       "      <td>3</td>\n",
       "      <td>13.27</td>\n",
       "      <td>4.28</td>\n",
       "      <td>2.26</td>\n",
       "      <td>20.0</td>\n",
       "      <td>120</td>\n",
       "      <td>1.59</td>\n",
       "      <td>0.69</td>\n",
       "      <td>0.43</td>\n",
       "      <td>1.35</td>\n",
       "      <td>10.20</td>\n",
       "      <td>0.59</td>\n",
       "      <td>1.56</td>\n",
       "      <td>835</td>\n",
       "    </tr>\n",
       "    <tr>\n",
       "      <th>175</th>\n",
       "      <td>175</td>\n",
       "      <td>3</td>\n",
       "      <td>13.17</td>\n",
       "      <td>2.59</td>\n",
       "      <td>2.37</td>\n",
       "      <td>20.0</td>\n",
       "      <td>120</td>\n",
       "      <td>1.65</td>\n",
       "      <td>0.68</td>\n",
       "      <td>0.53</td>\n",
       "      <td>1.46</td>\n",
       "      <td>9.30</td>\n",
       "      <td>0.60</td>\n",
       "      <td>1.62</td>\n",
       "      <td>840</td>\n",
       "    </tr>\n",
       "    <tr>\n",
       "      <th>176</th>\n",
       "      <td>176</td>\n",
       "      <td>3</td>\n",
       "      <td>14.13</td>\n",
       "      <td>4.10</td>\n",
       "      <td>2.74</td>\n",
       "      <td>24.5</td>\n",
       "      <td>96</td>\n",
       "      <td>2.05</td>\n",
       "      <td>0.76</td>\n",
       "      <td>0.56</td>\n",
       "      <td>1.35</td>\n",
       "      <td>9.20</td>\n",
       "      <td>0.61</td>\n",
       "      <td>1.60</td>\n",
       "      <td>560</td>\n",
       "    </tr>\n",
       "  </tbody>\n",
       "</table>\n",
       "<p>177 rows × 15 columns</p>\n",
       "</div>"
      ],
      "text/plain": [
       "     Unnamed: 0  1  14.23  1.71  2.43  15.6  127   2.8  3.06   .28  2.29  \\\n",
       "0             0  1  13.20  1.78  2.14  11.2  100  2.65  2.76  0.26  1.28   \n",
       "1             1  1  13.16  2.36  2.67  18.6  101  2.80  3.24  0.30  2.81   \n",
       "2             2  1  14.37  1.95  2.50  16.8  113  3.85  3.49  0.24  2.18   \n",
       "3             3  1  13.24  2.59  2.87  21.0  118  2.80  2.69  0.39  1.82   \n",
       "4             4  1  14.20  1.76  2.45  15.2  112  3.27  3.39  0.34  1.97   \n",
       "..          ... ..    ...   ...   ...   ...  ...   ...   ...   ...   ...   \n",
       "172         172  3  13.71  5.65  2.45  20.5   95  1.68  0.61  0.52  1.06   \n",
       "173         173  3  13.40  3.91  2.48  23.0  102  1.80  0.75  0.43  1.41   \n",
       "174         174  3  13.27  4.28  2.26  20.0  120  1.59  0.69  0.43  1.35   \n",
       "175         175  3  13.17  2.59  2.37  20.0  120  1.65  0.68  0.53  1.46   \n",
       "176         176  3  14.13  4.10  2.74  24.5   96  2.05  0.76  0.56  1.35   \n",
       "\n",
       "      5.64  1.04  3.92  1065  \n",
       "0     4.38  1.05  3.40  1050  \n",
       "1     5.68  1.03  3.17  1185  \n",
       "2     7.80  0.86  3.45  1480  \n",
       "3     4.32  1.04  2.93   735  \n",
       "4     6.75  1.05  2.85  1450  \n",
       "..     ...   ...   ...   ...  \n",
       "172   7.70  0.64  1.74   740  \n",
       "173   7.30  0.70  1.56   750  \n",
       "174  10.20  0.59  1.56   835  \n",
       "175   9.30  0.60  1.62   840  \n",
       "176   9.20  0.61  1.60   560  \n",
       "\n",
       "[177 rows x 15 columns]"
      ]
     },
     "execution_count": 15,
     "metadata": {},
     "output_type": "execute_result"
    }
   ],
   "source": [
    "pd.read_csv('wine.csv')\n"
   ]
  },
  {
   "cell_type": "code",
   "execution_count": 33,
   "metadata": {},
   "outputs": [
    {
     "data": {
      "text/plain": [
       "'[{\"1\":1,\"14.23\":13.2,\"1.71\":1.78,\"2.43\":2.14,\"15.6\":11.2,\"127\":100,\"2.8\":2.65,\"3.06\":2.76,\".28\":0.26,\"2.29\":1.28,\"5.64\":4.38,\"1.04\":1.05,\"3.92\":3.4,\"1065\":1050},{\"1\":1,\"14.23\":13.16,\"1.71\":2.36,\"2.43\":2.67,\"15.6\":18.6,\"127\":101,\"2.8\":2.8,\"3.06\":3.24,\".28\":0.3,\"2.29\":2.81,\"5.64\":5.68,\"1.04\":1.03,\"3.92\":3.17,\"1065\":1185},{\"1\":1,\"14.23\":14.37,\"1.71\":1.95,\"2.43\":2.5,\"15.6\":16.8,\"127\":113,\"2.8\":3.85,\"3.06\":3.49,\".28\":0.24,\"2.29\":2.18,\"5.64\":7.8,\"1.04\":0.86,\"3.92\":3.45,\"1065\":1480},{\"1\":1,\"14.23\":13.24,\"1.71\":2.59,\"2.43\":2.87,\"15.6\":21.0,\"127\":118,\"2.8\":2.8,\"3.06\":2.69,\".28\":0.39,\"2.29\":1.82,\"5.64\":4.32,\"1.04\":1.04,\"3.92\":2.93,\"1065\":735},{\"1\":1,\"14.23\":14.2,\"1.71\":1.76,\"2.43\":2.45,\"15.6\":15.2,\"127\":112,\"2.8\":3.27,\"3.06\":3.39,\".28\":0.34,\"2.29\":1.97,\"5.64\":6.75,\"1.04\":1.05,\"3.92\":2.85,\"1065\":1450},{\"1\":1,\"14.23\":14.39,\"1.71\":1.87,\"2.43\":2.45,\"15.6\":14.6,\"127\":96,\"2.8\":2.5,\"3.06\":2.52,\".28\":0.3,\"2.29\":1.98,\"5.64\":5.25,\"1.04\":1.02,\"3.92\":3.58,\"1065\":1290},{\"1\":1,\"14.23\":14.06,\"1.71\":2.15,\"2.43\":2.61,\"15.6\":17.6,\"127\":121,\"2.8\":2.6,\"3.06\":2.51,\".28\":0.31,\"2.29\":1.25,\"5.64\":5.05,\"1.04\":1.06,\"3.92\":3.58,\"1065\":1295},{\"1\":1,\"14.23\":14.83,\"1.71\":1.64,\"2.43\":2.17,\"15.6\":14.0,\"127\":97,\"2.8\":2.8,\"3.06\":2.98,\".28\":0.29,\"2.29\":1.98,\"5.64\":5.2,\"1.04\":1.08,\"3.92\":2.85,\"1065\":1045},{\"1\":1,\"14.23\":13.86,\"1.71\":1.35,\"2.43\":2.27,\"15.6\":16.0,\"127\":98,\"2.8\":2.98,\"3.06\":3.15,\".28\":0.22,\"2.29\":1.85,\"5.64\":7.22,\"1.04\":1.01,\"3.92\":3.55,\"1065\":1045},{\"1\":1,\"14.23\":14.1,\"1.71\":2.16,\"2.43\":2.3,\"15.6\":18.0,\"127\":105,\"2.8\":2.95,\"3.06\":3.32,\".28\":0.22,\"2.29\":2.38,\"5.64\":5.75,\"1.04\":1.25,\"3.92\":3.17,\"1065\":1510},{\"1\":1,\"14.23\":14.12,\"1.71\":1.48,\"2.43\":2.32,\"15.6\":16.8,\"127\":95,\"2.8\":2.2,\"3.06\":2.43,\".28\":0.26,\"2.29\":1.57,\"5.64\":5.0,\"1.04\":1.17,\"3.92\":2.82,\"1065\":1280},{\"1\":1,\"14.23\":13.75,\"1.71\":1.73,\"2.43\":2.41,\"15.6\":16.0,\"127\":89,\"2.8\":2.6,\"3.06\":2.76,\".28\":0.29,\"2.29\":1.81,\"5.64\":5.6,\"1.04\":1.15,\"3.92\":2.9,\"1065\":1320},{\"1\":1,\"14.23\":14.75,\"1.71\":1.73,\"2.43\":2.39,\"15.6\":11.4,\"127\":91,\"2.8\":3.1,\"3.06\":3.69,\".28\":0.43,\"2.29\":2.81,\"5.64\":5.4,\"1.04\":1.25,\"3.92\":2.73,\"1065\":1150},{\"1\":1,\"14.23\":14.38,\"1.71\":1.87,\"2.43\":2.38,\"15.6\":12.0,\"127\":102,\"2.8\":3.3,\"3.06\":3.64,\".28\":0.29,\"2.29\":2.96,\"5.64\":7.5,\"1.04\":1.2,\"3.92\":3.0,\"1065\":1547},{\"1\":1,\"14.23\":13.63,\"1.71\":1.81,\"2.43\":2.7,\"15.6\":17.2,\"127\":112,\"2.8\":2.85,\"3.06\":2.91,\".28\":0.3,\"2.29\":1.46,\"5.64\":7.3,\"1.04\":1.28,\"3.92\":2.88,\"1065\":1310},{\"1\":1,\"14.23\":14.3,\"1.71\":1.92,\"2.43\":2.72,\"15.6\":20.0,\"127\":120,\"2.8\":2.8,\"3.06\":3.14,\".28\":0.33,\"2.29\":1.97,\"5.64\":6.2,\"1.04\":1.07,\"3.92\":2.65,\"1065\":1280},{\"1\":1,\"14.23\":13.83,\"1.71\":1.57,\"2.43\":2.62,\"15.6\":20.0,\"127\":115,\"2.8\":2.95,\"3.06\":3.4,\".28\":0.4,\"2.29\":1.72,\"5.64\":6.6,\"1.04\":1.13,\"3.92\":2.57,\"1065\":1130},{\"1\":1,\"14.23\":14.19,\"1.71\":1.59,\"2.43\":2.48,\"15.6\":16.5,\"127\":108,\"2.8\":3.3,\"3.06\":3.93,\".28\":0.32,\"2.29\":1.86,\"5.64\":8.7,\"1.04\":1.23,\"3.92\":2.82,\"1065\":1680},{\"1\":1,\"14.23\":13.64,\"1.71\":3.1,\"2.43\":2.56,\"15.6\":15.2,\"127\":116,\"2.8\":2.7,\"3.06\":3.03,\".28\":0.17,\"2.29\":1.66,\"5.64\":5.1,\"1.04\":0.96,\"3.92\":3.36,\"1065\":845},{\"1\":1,\"14.23\":14.06,\"1.71\":1.63,\"2.43\":2.28,\"15.6\":16.0,\"127\":126,\"2.8\":3.0,\"3.06\":3.17,\".28\":0.24,\"2.29\":2.1,\"5.64\":5.65,\"1.04\":1.09,\"3.92\":3.71,\"1065\":780},{\"1\":1,\"14.23\":12.93,\"1.71\":3.8,\"2.43\":2.65,\"15.6\":18.6,\"127\":102,\"2.8\":2.41,\"3.06\":2.41,\".28\":0.25,\"2.29\":1.98,\"5.64\":4.5,\"1.04\":1.03,\"3.92\":3.52,\"1065\":770},{\"1\":1,\"14.23\":13.71,\"1.71\":1.86,\"2.43\":2.36,\"15.6\":16.6,\"127\":101,\"2.8\":2.61,\"3.06\":2.88,\".28\":0.27,\"2.29\":1.69,\"5.64\":3.8,\"1.04\":1.11,\"3.92\":4.0,\"1065\":1035},{\"1\":1,\"14.23\":12.85,\"1.71\":1.6,\"2.43\":2.52,\"15.6\":17.8,\"127\":95,\"2.8\":2.48,\"3.06\":2.37,\".28\":0.26,\"2.29\":1.46,\"5.64\":3.93,\"1.04\":1.09,\"3.92\":3.63,\"1065\":1015},{\"1\":1,\"14.23\":13.5,\"1.71\":1.81,\"2.43\":2.61,\"15.6\":20.0,\"127\":96,\"2.8\":2.53,\"3.06\":2.61,\".28\":0.28,\"2.29\":1.66,\"5.64\":3.52,\"1.04\":1.12,\"3.92\":3.82,\"1065\":845},{\"1\":1,\"14.23\":13.05,\"1.71\":2.05,\"2.43\":3.22,\"15.6\":25.0,\"127\":124,\"2.8\":2.63,\"3.06\":2.68,\".28\":0.47,\"2.29\":1.92,\"5.64\":3.58,\"1.04\":1.13,\"3.92\":3.2,\"1065\":830},{\"1\":1,\"14.23\":13.39,\"1.71\":1.77,\"2.43\":2.62,\"15.6\":16.1,\"127\":93,\"2.8\":2.85,\"3.06\":2.94,\".28\":0.34,\"2.29\":1.45,\"5.64\":4.8,\"1.04\":0.92,\"3.92\":3.22,\"1065\":1195},{\"1\":1,\"14.23\":13.3,\"1.71\":1.72,\"2.43\":2.14,\"15.6\":17.0,\"127\":94,\"2.8\":2.4,\"3.06\":2.19,\".28\":0.27,\"2.29\":1.35,\"5.64\":3.95,\"1.04\":1.02,\"3.92\":2.77,\"1065\":1285},{\"1\":1,\"14.23\":13.87,\"1.71\":1.9,\"2.43\":2.8,\"15.6\":19.4,\"127\":107,\"2.8\":2.95,\"3.06\":2.97,\".28\":0.37,\"2.29\":1.76,\"5.64\":4.5,\"1.04\":1.25,\"3.92\":3.4,\"1065\":915},{\"1\":1,\"14.23\":14.02,\"1.71\":1.68,\"2.43\":2.21,\"15.6\":16.0,\"127\":96,\"2.8\":2.65,\"3.06\":2.33,\".28\":0.26,\"2.29\":1.98,\"5.64\":4.7,\"1.04\":1.04,\"3.92\":3.59,\"1065\":1035},{\"1\":1,\"14.23\":13.73,\"1.71\":1.5,\"2.43\":2.7,\"15.6\":22.5,\"127\":101,\"2.8\":3.0,\"3.06\":3.25,\".28\":0.29,\"2.29\":2.38,\"5.64\":5.7,\"1.04\":1.19,\"3.92\":2.71,\"1065\":1285},{\"1\":1,\"14.23\":13.58,\"1.71\":1.66,\"2.43\":2.36,\"15.6\":19.1,\"127\":106,\"2.8\":2.86,\"3.06\":3.19,\".28\":0.22,\"2.29\":1.95,\"5.64\":6.9,\"1.04\":1.09,\"3.92\":2.88,\"1065\":1515},{\"1\":1,\"14.23\":13.68,\"1.71\":1.83,\"2.43\":2.36,\"15.6\":17.2,\"127\":104,\"2.8\":2.42,\"3.06\":2.69,\".28\":0.42,\"2.29\":1.97,\"5.64\":3.84,\"1.04\":1.23,\"3.92\":2.87,\"1065\":990},{\"1\":1,\"14.23\":13.76,\"1.71\":1.53,\"2.43\":2.7,\"15.6\":19.5,\"127\":132,\"2.8\":2.95,\"3.06\":2.74,\".28\":0.5,\"2.29\":1.35,\"5.64\":5.4,\"1.04\":1.25,\"3.92\":3.0,\"1065\":1235},{\"1\":1,\"14.23\":13.51,\"1.71\":1.8,\"2.43\":2.65,\"15.6\":19.0,\"127\":110,\"2.8\":2.35,\"3.06\":2.53,\".28\":0.29,\"2.29\":1.54,\"5.64\":4.2,\"1.04\":1.1,\"3.92\":2.87,\"1065\":1095},{\"1\":1,\"14.23\":13.48,\"1.71\":1.81,\"2.43\":2.41,\"15.6\":20.5,\"127\":100,\"2.8\":2.7,\"3.06\":2.98,\".28\":0.26,\"2.29\":1.86,\"5.64\":5.1,\"1.04\":1.04,\"3.92\":3.47,\"1065\":920},{\"1\":1,\"14.23\":13.28,\"1.71\":1.64,\"2.43\":2.84,\"15.6\":15.5,\"127\":110,\"2.8\":2.6,\"3.06\":2.68,\".28\":0.34,\"2.29\":1.36,\"5.64\":4.6,\"1.04\":1.09,\"3.92\":2.78,\"1065\":880},{\"1\":1,\"14.23\":13.05,\"1.71\":1.65,\"2.43\":2.55,\"15.6\":18.0,\"127\":98,\"2.8\":2.45,\"3.06\":2.43,\".28\":0.29,\"2.29\":1.44,\"5.64\":4.25,\"1.04\":1.12,\"3.92\":2.51,\"1065\":1105},{\"1\":1,\"14.23\":13.07,\"1.71\":1.5,\"2.43\":2.1,\"15.6\":15.5,\"127\":98,\"2.8\":2.4,\"3.06\":2.64,\".28\":0.28,\"2.29\":1.37,\"5.64\":3.7,\"1.04\":1.18,\"3.92\":2.69,\"1065\":1020},{\"1\":1,\"14.23\":14.22,\"1.71\":3.99,\"2.43\":2.51,\"15.6\":13.2,\"127\":128,\"2.8\":3.0,\"3.06\":3.04,\".28\":0.2,\"2.29\":2.08,\"5.64\":5.1,\"1.04\":0.89,\"3.92\":3.53,\"1065\":760},{\"1\":1,\"14.23\":13.56,\"1.71\":1.71,\"2.43\":2.31,\"15.6\":16.2,\"127\":117,\"2.8\":3.15,\"3.06\":3.29,\".28\":0.34,\"2.29\":2.34,\"5.64\":6.13,\"1.04\":0.95,\"3.92\":3.38,\"1065\":795},{\"1\":1,\"14.23\":13.41,\"1.71\":3.84,\"2.43\":2.12,\"15.6\":18.8,\"127\":90,\"2.8\":2.45,\"3.06\":2.68,\".28\":0.27,\"2.29\":1.48,\"5.64\":4.28,\"1.04\":0.91,\"3.92\":3.0,\"1065\":1035},{\"1\":1,\"14.23\":13.88,\"1.71\":1.89,\"2.43\":2.59,\"15.6\":15.0,\"127\":101,\"2.8\":3.25,\"3.06\":3.56,\".28\":0.17,\"2.29\":1.7,\"5.64\":5.43,\"1.04\":0.88,\"3.92\":3.56,\"1065\":1095},{\"1\":1,\"14.23\":13.24,\"1.71\":3.98,\"2.43\":2.29,\"15.6\":17.5,\"127\":103,\"2.8\":2.64,\"3.06\":2.63,\".28\":0.32,\"2.29\":1.66,\"5.64\":4.36,\"1.04\":0.82,\"3.92\":3.0,\"1065\":680},{\"1\":1,\"14.23\":13.05,\"1.71\":1.77,\"2.43\":2.1,\"15.6\":17.0,\"127\":107,\"2.8\":3.0,\"3.06\":3.0,\".28\":0.28,\"2.29\":2.03,\"5.64\":5.04,\"1.04\":0.88,\"3.92\":3.35,\"1065\":885},{\"1\":1,\"14.23\":14.21,\"1.71\":4.04,\"2.43\":2.44,\"15.6\":18.9,\"127\":111,\"2.8\":2.85,\"3.06\":2.65,\".28\":0.3,\"2.29\":1.25,\"5.64\":5.24,\"1.04\":0.87,\"3.92\":3.33,\"1065\":1080},{\"1\":1,\"14.23\":14.38,\"1.71\":3.59,\"2.43\":2.28,\"15.6\":16.0,\"127\":102,\"2.8\":3.25,\"3.06\":3.17,\".28\":0.27,\"2.29\":2.19,\"5.64\":4.9,\"1.04\":1.04,\"3.92\":3.44,\"1065\":1065},{\"1\":1,\"14.23\":13.9,\"1.71\":1.68,\"2.43\":2.12,\"15.6\":16.0,\"127\":101,\"2.8\":3.1,\"3.06\":3.39,\".28\":0.21,\"2.29\":2.14,\"5.64\":6.1,\"1.04\":0.91,\"3.92\":3.33,\"1065\":985},{\"1\":1,\"14.23\":14.1,\"1.71\":2.02,\"2.43\":2.4,\"15.6\":18.8,\"127\":103,\"2.8\":2.75,\"3.06\":2.92,\".28\":0.32,\"2.29\":2.38,\"5.64\":6.2,\"1.04\":1.07,\"3.92\":2.75,\"1065\":1060},{\"1\":1,\"14.23\":13.94,\"1.71\":1.73,\"2.43\":2.27,\"15.6\":17.4,\"127\":108,\"2.8\":2.88,\"3.06\":3.54,\".28\":0.32,\"2.29\":2.08,\"5.64\":8.9,\"1.04\":1.12,\"3.92\":3.1,\"1065\":1260},{\"1\":1,\"14.23\":13.05,\"1.71\":1.73,\"2.43\":2.04,\"15.6\":12.4,\"127\":92,\"2.8\":2.72,\"3.06\":3.27,\".28\":0.17,\"2.29\":2.91,\"5.64\":7.2,\"1.04\":1.12,\"3.92\":2.91,\"1065\":1150},{\"1\":1,\"14.23\":13.83,\"1.71\":1.65,\"2.43\":2.6,\"15.6\":17.2,\"127\":94,\"2.8\":2.45,\"3.06\":2.99,\".28\":0.22,\"2.29\":2.29,\"5.64\":5.6,\"1.04\":1.24,\"3.92\":3.37,\"1065\":1265},{\"1\":1,\"14.23\":13.82,\"1.71\":1.75,\"2.43\":2.42,\"15.6\":14.0,\"127\":111,\"2.8\":3.88,\"3.06\":3.74,\".28\":0.32,\"2.29\":1.87,\"5.64\":7.05,\"1.04\":1.01,\"3.92\":3.26,\"1065\":1190},{\"1\":1,\"14.23\":13.77,\"1.71\":1.9,\"2.43\":2.68,\"15.6\":17.1,\"127\":115,\"2.8\":3.0,\"3.06\":2.79,\".28\":0.39,\"2.29\":1.68,\"5.64\":6.3,\"1.04\":1.13,\"3.92\":2.93,\"1065\":1375},{\"1\":1,\"14.23\":13.74,\"1.71\":1.67,\"2.43\":2.25,\"15.6\":16.4,\"127\":118,\"2.8\":2.6,\"3.06\":2.9,\".28\":0.21,\"2.29\":1.62,\"5.64\":5.85,\"1.04\":0.92,\"3.92\":3.2,\"1065\":1060},{\"1\":1,\"14.23\":13.56,\"1.71\":1.73,\"2.43\":2.46,\"15.6\":20.5,\"127\":116,\"2.8\":2.96,\"3.06\":2.78,\".28\":0.2,\"2.29\":2.45,\"5.64\":6.25,\"1.04\":0.98,\"3.92\":3.03,\"1065\":1120},{\"1\":1,\"14.23\":14.22,\"1.71\":1.7,\"2.43\":2.3,\"15.6\":16.3,\"127\":118,\"2.8\":3.2,\"3.06\":3.0,\".28\":0.26,\"2.29\":2.03,\"5.64\":6.38,\"1.04\":0.94,\"3.92\":3.31,\"1065\":970},{\"1\":1,\"14.23\":13.29,\"1.71\":1.97,\"2.43\":2.68,\"15.6\":16.8,\"127\":102,\"2.8\":3.0,\"3.06\":3.23,\".28\":0.31,\"2.29\":1.66,\"5.64\":6.0,\"1.04\":1.07,\"3.92\":2.84,\"1065\":1270},{\"1\":1,\"14.23\":13.72,\"1.71\":1.43,\"2.43\":2.5,\"15.6\":16.7,\"127\":108,\"2.8\":3.4,\"3.06\":3.67,\".28\":0.19,\"2.29\":2.04,\"5.64\":6.8,\"1.04\":0.89,\"3.92\":2.87,\"1065\":1285},{\"1\":2,\"14.23\":12.37,\"1.71\":0.94,\"2.43\":1.36,\"15.6\":10.6,\"127\":88,\"2.8\":1.98,\"3.06\":0.57,\".28\":0.28,\"2.29\":0.42,\"5.64\":1.95,\"1.04\":1.05,\"3.92\":1.82,\"1065\":520},{\"1\":2,\"14.23\":12.33,\"1.71\":1.1,\"2.43\":2.28,\"15.6\":16.0,\"127\":101,\"2.8\":2.05,\"3.06\":1.09,\".28\":0.63,\"2.29\":0.41,\"5.64\":3.27,\"1.04\":1.25,\"3.92\":1.67,\"1065\":680},{\"1\":2,\"14.23\":12.64,\"1.71\":1.36,\"2.43\":2.02,\"15.6\":16.8,\"127\":100,\"2.8\":2.02,\"3.06\":1.41,\".28\":0.53,\"2.29\":0.62,\"5.64\":5.75,\"1.04\":0.98,\"3.92\":1.59,\"1065\":450},{\"1\":2,\"14.23\":13.67,\"1.71\":1.25,\"2.43\":1.92,\"15.6\":18.0,\"127\":94,\"2.8\":2.1,\"3.06\":1.79,\".28\":0.32,\"2.29\":0.73,\"5.64\":3.8,\"1.04\":1.23,\"3.92\":2.46,\"1065\":630},{\"1\":2,\"14.23\":12.37,\"1.71\":1.13,\"2.43\":2.16,\"15.6\":19.0,\"127\":87,\"2.8\":3.5,\"3.06\":3.1,\".28\":0.19,\"2.29\":1.87,\"5.64\":4.45,\"1.04\":1.22,\"3.92\":2.87,\"1065\":420},{\"1\":2,\"14.23\":12.17,\"1.71\":1.45,\"2.43\":2.53,\"15.6\":19.0,\"127\":104,\"2.8\":1.89,\"3.06\":1.75,\".28\":0.45,\"2.29\":1.03,\"5.64\":2.95,\"1.04\":1.45,\"3.92\":2.23,\"1065\":355},{\"1\":2,\"14.23\":12.37,\"1.71\":1.21,\"2.43\":2.56,\"15.6\":18.1,\"127\":98,\"2.8\":2.42,\"3.06\":2.65,\".28\":0.37,\"2.29\":2.08,\"5.64\":4.6,\"1.04\":1.19,\"3.92\":2.3,\"1065\":678},{\"1\":2,\"14.23\":13.11,\"1.71\":1.01,\"2.43\":1.7,\"15.6\":15.0,\"127\":78,\"2.8\":2.98,\"3.06\":3.18,\".28\":0.26,\"2.29\":2.28,\"5.64\":5.3,\"1.04\":1.12,\"3.92\":3.18,\"1065\":502},{\"1\":2,\"14.23\":12.37,\"1.71\":1.17,\"2.43\":1.92,\"15.6\":19.6,\"127\":78,\"2.8\":2.11,\"3.06\":2.0,\".28\":0.27,\"2.29\":1.04,\"5.64\":4.68,\"1.04\":1.12,\"3.92\":3.48,\"1065\":510},{\"1\":2,\"14.23\":13.34,\"1.71\":0.94,\"2.43\":2.36,\"15.6\":17.0,\"127\":110,\"2.8\":2.53,\"3.06\":1.3,\".28\":0.55,\"2.29\":0.42,\"5.64\":3.17,\"1.04\":1.02,\"3.92\":1.93,\"1065\":750},{\"1\":2,\"14.23\":12.21,\"1.71\":1.19,\"2.43\":1.75,\"15.6\":16.8,\"127\":151,\"2.8\":1.85,\"3.06\":1.28,\".28\":0.14,\"2.29\":2.5,\"5.64\":2.85,\"1.04\":1.28,\"3.92\":3.07,\"1065\":718},{\"1\":2,\"14.23\":12.29,\"1.71\":1.61,\"2.43\":2.21,\"15.6\":20.4,\"127\":103,\"2.8\":1.1,\"3.06\":1.02,\".28\":0.37,\"2.29\":1.46,\"5.64\":3.05,\"1.04\":0.906,\"3.92\":1.82,\"1065\":870},{\"1\":2,\"14.23\":13.86,\"1.71\":1.51,\"2.43\":2.67,\"15.6\":25.0,\"127\":86,\"2.8\":2.95,\"3.06\":2.86,\".28\":0.21,\"2.29\":1.87,\"5.64\":3.38,\"1.04\":1.36,\"3.92\":3.16,\"1065\":410},{\"1\":2,\"14.23\":13.49,\"1.71\":1.66,\"2.43\":2.24,\"15.6\":24.0,\"127\":87,\"2.8\":1.88,\"3.06\":1.84,\".28\":0.27,\"2.29\":1.03,\"5.64\":3.74,\"1.04\":0.98,\"3.92\":2.78,\"1065\":472},{\"1\":2,\"14.23\":12.99,\"1.71\":1.67,\"2.43\":2.6,\"15.6\":30.0,\"127\":139,\"2.8\":3.3,\"3.06\":2.89,\".28\":0.21,\"2.29\":1.96,\"5.64\":3.35,\"1.04\":1.31,\"3.92\":3.5,\"1065\":985},{\"1\":2,\"14.23\":11.96,\"1.71\":1.09,\"2.43\":2.3,\"15.6\":21.0,\"127\":101,\"2.8\":3.38,\"3.06\":2.14,\".28\":0.13,\"2.29\":1.65,\"5.64\":3.21,\"1.04\":0.99,\"3.92\":3.13,\"1065\":886},{\"1\":2,\"14.23\":11.66,\"1.71\":1.88,\"2.43\":1.92,\"15.6\":16.0,\"127\":97,\"2.8\":1.61,\"3.06\":1.57,\".28\":0.34,\"2.29\":1.15,\"5.64\":3.8,\"1.04\":1.23,\"3.92\":2.14,\"1065\":428},{\"1\":2,\"14.23\":13.03,\"1.71\":0.9,\"2.43\":1.71,\"15.6\":16.0,\"127\":86,\"2.8\":1.95,\"3.06\":2.03,\".28\":0.24,\"2.29\":1.46,\"5.64\":4.6,\"1.04\":1.19,\"3.92\":2.48,\"1065\":392},{\"1\":2,\"14.23\":11.84,\"1.71\":2.89,\"2.43\":2.23,\"15.6\":18.0,\"127\":112,\"2.8\":1.72,\"3.06\":1.32,\".28\":0.43,\"2.29\":0.95,\"5.64\":2.65,\"1.04\":0.96,\"3.92\":2.52,\"1065\":500},{\"1\":2,\"14.23\":12.33,\"1.71\":0.99,\"2.43\":1.95,\"15.6\":14.8,\"127\":136,\"2.8\":1.9,\"3.06\":1.85,\".28\":0.35,\"2.29\":2.76,\"5.64\":3.4,\"1.04\":1.06,\"3.92\":2.31,\"1065\":750},{\"1\":2,\"14.23\":12.7,\"1.71\":3.87,\"2.43\":2.4,\"15.6\":23.0,\"127\":101,\"2.8\":2.83,\"3.06\":2.55,\".28\":0.43,\"2.29\":1.95,\"5.64\":2.57,\"1.04\":1.19,\"3.92\":3.13,\"1065\":463},{\"1\":2,\"14.23\":12.0,\"1.71\":0.92,\"2.43\":2.0,\"15.6\":19.0,\"127\":86,\"2.8\":2.42,\"3.06\":2.26,\".28\":0.3,\"2.29\":1.43,\"5.64\":2.5,\"1.04\":1.38,\"3.92\":3.12,\"1065\":278},{\"1\":2,\"14.23\":12.72,\"1.71\":1.81,\"2.43\":2.2,\"15.6\":18.8,\"127\":86,\"2.8\":2.2,\"3.06\":2.53,\".28\":0.26,\"2.29\":1.77,\"5.64\":3.9,\"1.04\":1.16,\"3.92\":3.14,\"1065\":714},{\"1\":2,\"14.23\":12.08,\"1.71\":1.13,\"2.43\":2.51,\"15.6\":24.0,\"127\":78,\"2.8\":2.0,\"3.06\":1.58,\".28\":0.4,\"2.29\":1.4,\"5.64\":2.2,\"1.04\":1.31,\"3.92\":2.72,\"1065\":630},{\"1\":2,\"14.23\":13.05,\"1.71\":3.86,\"2.43\":2.32,\"15.6\":22.5,\"127\":85,\"2.8\":1.65,\"3.06\":1.59,\".28\":0.61,\"2.29\":1.62,\"5.64\":4.8,\"1.04\":0.84,\"3.92\":2.01,\"1065\":515},{\"1\":2,\"14.23\":11.84,\"1.71\":0.89,\"2.43\":2.58,\"15.6\":18.0,\"127\":94,\"2.8\":2.2,\"3.06\":2.21,\".28\":0.22,\"2.29\":2.35,\"5.64\":3.05,\"1.04\":0.79,\"3.92\":3.08,\"1065\":520},{\"1\":2,\"14.23\":12.67,\"1.71\":0.98,\"2.43\":2.24,\"15.6\":18.0,\"127\":99,\"2.8\":2.2,\"3.06\":1.94,\".28\":0.3,\"2.29\":1.46,\"5.64\":2.62,\"1.04\":1.23,\"3.92\":3.16,\"1065\":450},{\"1\":2,\"14.23\":12.16,\"1.71\":1.61,\"2.43\":2.31,\"15.6\":22.8,\"127\":90,\"2.8\":1.78,\"3.06\":1.69,\".28\":0.43,\"2.29\":1.56,\"5.64\":2.45,\"1.04\":1.33,\"3.92\":2.26,\"1065\":495},{\"1\":2,\"14.23\":11.65,\"1.71\":1.67,\"2.43\":2.62,\"15.6\":26.0,\"127\":88,\"2.8\":1.92,\"3.06\":1.61,\".28\":0.4,\"2.29\":1.34,\"5.64\":2.6,\"1.04\":1.36,\"3.92\":3.21,\"1065\":562},{\"1\":2,\"14.23\":11.64,\"1.71\":2.06,\"2.43\":2.46,\"15.6\":21.6,\"127\":84,\"2.8\":1.95,\"3.06\":1.69,\".28\":0.48,\"2.29\":1.35,\"5.64\":2.8,\"1.04\":1.0,\"3.92\":2.75,\"1065\":680},{\"1\":2,\"14.23\":12.08,\"1.71\":1.33,\"2.43\":2.3,\"15.6\":23.6,\"127\":70,\"2.8\":2.2,\"3.06\":1.59,\".28\":0.42,\"2.29\":1.38,\"5.64\":1.74,\"1.04\":1.07,\"3.92\":3.21,\"1065\":625},{\"1\":2,\"14.23\":12.08,\"1.71\":1.83,\"2.43\":2.32,\"15.6\":18.5,\"127\":81,\"2.8\":1.6,\"3.06\":1.5,\".28\":0.52,\"2.29\":1.64,\"5.64\":2.4,\"1.04\":1.08,\"3.92\":2.27,\"1065\":480},{\"1\":2,\"14.23\":12.0,\"1.71\":1.51,\"2.43\":2.42,\"15.6\":22.0,\"127\":86,\"2.8\":1.45,\"3.06\":1.25,\".28\":0.5,\"2.29\":1.63,\"5.64\":3.6,\"1.04\":1.05,\"3.92\":2.65,\"1065\":450},{\"1\":2,\"14.23\":12.69,\"1.71\":1.53,\"2.43\":2.26,\"15.6\":20.7,\"127\":80,\"2.8\":1.38,\"3.06\":1.46,\".28\":0.58,\"2.29\":1.62,\"5.64\":3.05,\"1.04\":0.96,\"3.92\":2.06,\"1065\":495},{\"1\":2,\"14.23\":12.29,\"1.71\":2.83,\"2.43\":2.22,\"15.6\":18.0,\"127\":88,\"2.8\":2.45,\"3.06\":2.25,\".28\":0.25,\"2.29\":1.99,\"5.64\":2.15,\"1.04\":1.15,\"3.92\":3.3,\"1065\":290},{\"1\":2,\"14.23\":11.62,\"1.71\":1.99,\"2.43\":2.28,\"15.6\":18.0,\"127\":98,\"2.8\":3.02,\"3.06\":2.26,\".28\":0.17,\"2.29\":1.35,\"5.64\":3.25,\"1.04\":1.16,\"3.92\":2.96,\"1065\":345},{\"1\":2,\"14.23\":12.47,\"1.71\":1.52,\"2.43\":2.2,\"15.6\":19.0,\"127\":162,\"2.8\":2.5,\"3.06\":2.27,\".28\":0.32,\"2.29\":3.28,\"5.64\":2.6,\"1.04\":1.16,\"3.92\":2.63,\"1065\":937},{\"1\":2,\"14.23\":11.81,\"1.71\":2.12,\"2.43\":2.74,\"15.6\":21.5,\"127\":134,\"2.8\":1.6,\"3.06\":0.99,\".28\":0.14,\"2.29\":1.56,\"5.64\":2.5,\"1.04\":0.95,\"3.92\":2.26,\"1065\":625},{\"1\":2,\"14.23\":12.29,\"1.71\":1.41,\"2.43\":1.98,\"15.6\":16.0,\"127\":85,\"2.8\":2.55,\"3.06\":2.5,\".28\":0.29,\"2.29\":1.77,\"5.64\":2.9,\"1.04\":1.23,\"3.92\":2.74,\"1065\":428},{\"1\":2,\"14.23\":12.37,\"1.71\":1.07,\"2.43\":2.1,\"15.6\":18.5,\"127\":88,\"2.8\":3.52,\"3.06\":3.75,\".28\":0.24,\"2.29\":1.95,\"5.64\":4.5,\"1.04\":1.04,\"3.92\":2.77,\"1065\":660},{\"1\":2,\"14.23\":12.29,\"1.71\":3.17,\"2.43\":2.21,\"15.6\":18.0,\"127\":88,\"2.8\":2.85,\"3.06\":2.99,\".28\":0.45,\"2.29\":2.81,\"5.64\":2.3,\"1.04\":1.42,\"3.92\":2.83,\"1065\":406},{\"1\":2,\"14.23\":12.08,\"1.71\":2.08,\"2.43\":1.7,\"15.6\":17.5,\"127\":97,\"2.8\":2.23,\"3.06\":2.17,\".28\":0.26,\"2.29\":1.4,\"5.64\":3.3,\"1.04\":1.27,\"3.92\":2.96,\"1065\":710},{\"1\":2,\"14.23\":12.6,\"1.71\":1.34,\"2.43\":1.9,\"15.6\":18.5,\"127\":88,\"2.8\":1.45,\"3.06\":1.36,\".28\":0.29,\"2.29\":1.35,\"5.64\":2.45,\"1.04\":1.04,\"3.92\":2.77,\"1065\":562},{\"1\":2,\"14.23\":12.34,\"1.71\":2.45,\"2.43\":2.46,\"15.6\":21.0,\"127\":98,\"2.8\":2.56,\"3.06\":2.11,\".28\":0.34,\"2.29\":1.31,\"5.64\":2.8,\"1.04\":0.8,\"3.92\":3.38,\"1065\":438},{\"1\":2,\"14.23\":11.82,\"1.71\":1.72,\"2.43\":1.88,\"15.6\":19.5,\"127\":86,\"2.8\":2.5,\"3.06\":1.64,\".28\":0.37,\"2.29\":1.42,\"5.64\":2.06,\"1.04\":0.94,\"3.92\":2.44,\"1065\":415},{\"1\":2,\"14.23\":12.51,\"1.71\":1.73,\"2.43\":1.98,\"15.6\":20.5,\"127\":85,\"2.8\":2.2,\"3.06\":1.92,\".28\":0.32,\"2.29\":1.48,\"5.64\":2.94,\"1.04\":1.04,\"3.92\":3.57,\"1065\":672},{\"1\":2,\"14.23\":12.42,\"1.71\":2.55,\"2.43\":2.27,\"15.6\":22.0,\"127\":90,\"2.8\":1.68,\"3.06\":1.84,\".28\":0.66,\"2.29\":1.42,\"5.64\":2.7,\"1.04\":0.86,\"3.92\":3.3,\"1065\":315},{\"1\":2,\"14.23\":12.25,\"1.71\":1.73,\"2.43\":2.12,\"15.6\":19.0,\"127\":80,\"2.8\":1.65,\"3.06\":2.03,\".28\":0.37,\"2.29\":1.63,\"5.64\":3.4,\"1.04\":1.0,\"3.92\":3.17,\"1065\":510},{\"1\":2,\"14.23\":12.72,\"1.71\":1.75,\"2.43\":2.28,\"15.6\":22.5,\"127\":84,\"2.8\":1.38,\"3.06\":1.76,\".28\":0.48,\"2.29\":1.63,\"5.64\":3.3,\"1.04\":0.88,\"3.92\":2.42,\"1065\":488},{\"1\":2,\"14.23\":12.22,\"1.71\":1.29,\"2.43\":1.94,\"15.6\":19.0,\"127\":92,\"2.8\":2.36,\"3.06\":2.04,\".28\":0.39,\"2.29\":2.08,\"5.64\":2.7,\"1.04\":0.86,\"3.92\":3.02,\"1065\":312},{\"1\":2,\"14.23\":11.61,\"1.71\":1.35,\"2.43\":2.7,\"15.6\":20.0,\"127\":94,\"2.8\":2.74,\"3.06\":2.92,\".28\":0.29,\"2.29\":2.49,\"5.64\":2.65,\"1.04\":0.96,\"3.92\":3.26,\"1065\":680},{\"1\":2,\"14.23\":11.46,\"1.71\":3.74,\"2.43\":1.82,\"15.6\":19.5,\"127\":107,\"2.8\":3.18,\"3.06\":2.58,\".28\":0.24,\"2.29\":3.58,\"5.64\":2.9,\"1.04\":0.75,\"3.92\":2.81,\"1065\":562},{\"1\":2,\"14.23\":12.52,\"1.71\":2.43,\"2.43\":2.17,\"15.6\":21.0,\"127\":88,\"2.8\":2.55,\"3.06\":2.27,\".28\":0.26,\"2.29\":1.22,\"5.64\":2.0,\"1.04\":0.9,\"3.92\":2.78,\"1065\":325},{\"1\":2,\"14.23\":11.76,\"1.71\":2.68,\"2.43\":2.92,\"15.6\":20.0,\"127\":103,\"2.8\":1.75,\"3.06\":2.03,\".28\":0.6,\"2.29\":1.05,\"5.64\":3.8,\"1.04\":1.23,\"3.92\":2.5,\"1065\":607},{\"1\":2,\"14.23\":11.41,\"1.71\":0.74,\"2.43\":2.5,\"15.6\":21.0,\"127\":88,\"2.8\":2.48,\"3.06\":2.01,\".28\":0.42,\"2.29\":1.44,\"5.64\":3.08,\"1.04\":1.1,\"3.92\":2.31,\"1065\":434},{\"1\":2,\"14.23\":12.08,\"1.71\":1.39,\"2.43\":2.5,\"15.6\":22.5,\"127\":84,\"2.8\":2.56,\"3.06\":2.29,\".28\":0.43,\"2.29\":1.04,\"5.64\":2.9,\"1.04\":0.93,\"3.92\":3.19,\"1065\":385},{\"1\":2,\"14.23\":11.03,\"1.71\":1.51,\"2.43\":2.2,\"15.6\":21.5,\"127\":85,\"2.8\":2.46,\"3.06\":2.17,\".28\":0.52,\"2.29\":2.01,\"5.64\":1.9,\"1.04\":1.71,\"3.92\":2.87,\"1065\":407},{\"1\":2,\"14.23\":11.82,\"1.71\":1.47,\"2.43\":1.99,\"15.6\":20.8,\"127\":86,\"2.8\":1.98,\"3.06\":1.6,\".28\":0.3,\"2.29\":1.53,\"5.64\":1.95,\"1.04\":0.95,\"3.92\":3.33,\"1065\":495},{\"1\":2,\"14.23\":12.42,\"1.71\":1.61,\"2.43\":2.19,\"15.6\":22.5,\"127\":108,\"2.8\":2.0,\"3.06\":2.09,\".28\":0.34,\"2.29\":1.61,\"5.64\":2.06,\"1.04\":1.06,\"3.92\":2.96,\"1065\":345},{\"1\":2,\"14.23\":12.77,\"1.71\":3.43,\"2.43\":1.98,\"15.6\":16.0,\"127\":80,\"2.8\":1.63,\"3.06\":1.25,\".28\":0.43,\"2.29\":0.83,\"5.64\":3.4,\"1.04\":0.7,\"3.92\":2.12,\"1065\":372},{\"1\":2,\"14.23\":12.0,\"1.71\":3.43,\"2.43\":2.0,\"15.6\":19.0,\"127\":87,\"2.8\":2.0,\"3.06\":1.64,\".28\":0.37,\"2.29\":1.87,\"5.64\":1.28,\"1.04\":0.93,\"3.92\":3.05,\"1065\":564},{\"1\":2,\"14.23\":11.45,\"1.71\":2.4,\"2.43\":2.42,\"15.6\":20.0,\"127\":96,\"2.8\":2.9,\"3.06\":2.79,\".28\":0.32,\"2.29\":1.83,\"5.64\":3.25,\"1.04\":0.8,\"3.92\":3.39,\"1065\":625},{\"1\":2,\"14.23\":11.56,\"1.71\":2.05,\"2.43\":3.23,\"15.6\":28.5,\"127\":119,\"2.8\":3.18,\"3.06\":5.08,\".28\":0.47,\"2.29\":1.87,\"5.64\":6.0,\"1.04\":0.93,\"3.92\":3.69,\"1065\":465},{\"1\":2,\"14.23\":12.42,\"1.71\":4.43,\"2.43\":2.73,\"15.6\":26.5,\"127\":102,\"2.8\":2.2,\"3.06\":2.13,\".28\":0.43,\"2.29\":1.71,\"5.64\":2.08,\"1.04\":0.92,\"3.92\":3.12,\"1065\":365},{\"1\":2,\"14.23\":13.05,\"1.71\":5.8,\"2.43\":2.13,\"15.6\":21.5,\"127\":86,\"2.8\":2.62,\"3.06\":2.65,\".28\":0.3,\"2.29\":2.01,\"5.64\":2.6,\"1.04\":0.73,\"3.92\":3.1,\"1065\":380},{\"1\":2,\"14.23\":11.87,\"1.71\":4.31,\"2.43\":2.39,\"15.6\":21.0,\"127\":82,\"2.8\":2.86,\"3.06\":3.03,\".28\":0.21,\"2.29\":2.91,\"5.64\":2.8,\"1.04\":0.75,\"3.92\":3.64,\"1065\":380},{\"1\":2,\"14.23\":12.07,\"1.71\":2.16,\"2.43\":2.17,\"15.6\":21.0,\"127\":85,\"2.8\":2.6,\"3.06\":2.65,\".28\":0.37,\"2.29\":1.35,\"5.64\":2.76,\"1.04\":0.86,\"3.92\":3.28,\"1065\":378},{\"1\":2,\"14.23\":12.43,\"1.71\":1.53,\"2.43\":2.29,\"15.6\":21.5,\"127\":86,\"2.8\":2.74,\"3.06\":3.15,\".28\":0.39,\"2.29\":1.77,\"5.64\":3.94,\"1.04\":0.69,\"3.92\":2.84,\"1065\":352},{\"1\":2,\"14.23\":11.79,\"1.71\":2.13,\"2.43\":2.78,\"15.6\":28.5,\"127\":92,\"2.8\":2.13,\"3.06\":2.24,\".28\":0.58,\"2.29\":1.76,\"5.64\":3.0,\"1.04\":0.97,\"3.92\":2.44,\"1065\":466},{\"1\":2,\"14.23\":12.37,\"1.71\":1.63,\"2.43\":2.3,\"15.6\":24.5,\"127\":88,\"2.8\":2.22,\"3.06\":2.45,\".28\":0.4,\"2.29\":1.9,\"5.64\":2.12,\"1.04\":0.89,\"3.92\":2.78,\"1065\":342},{\"1\":2,\"14.23\":12.04,\"1.71\":4.3,\"2.43\":2.38,\"15.6\":22.0,\"127\":80,\"2.8\":2.1,\"3.06\":1.75,\".28\":0.42,\"2.29\":1.35,\"5.64\":2.6,\"1.04\":0.79,\"3.92\":2.57,\"1065\":580},{\"1\":3,\"14.23\":12.86,\"1.71\":1.35,\"2.43\":2.32,\"15.6\":18.0,\"127\":122,\"2.8\":1.51,\"3.06\":1.25,\".28\":0.21,\"2.29\":0.94,\"5.64\":4.1,\"1.04\":0.76,\"3.92\":1.29,\"1065\":630},{\"1\":3,\"14.23\":12.88,\"1.71\":2.99,\"2.43\":2.4,\"15.6\":20.0,\"127\":104,\"2.8\":1.3,\"3.06\":1.22,\".28\":0.24,\"2.29\":0.83,\"5.64\":5.4,\"1.04\":0.74,\"3.92\":1.42,\"1065\":530},{\"1\":3,\"14.23\":12.81,\"1.71\":2.31,\"2.43\":2.4,\"15.6\":24.0,\"127\":98,\"2.8\":1.15,\"3.06\":1.09,\".28\":0.27,\"2.29\":0.83,\"5.64\":5.7,\"1.04\":0.66,\"3.92\":1.36,\"1065\":560},{\"1\":3,\"14.23\":12.7,\"1.71\":3.55,\"2.43\":2.36,\"15.6\":21.5,\"127\":106,\"2.8\":1.7,\"3.06\":1.2,\".28\":0.17,\"2.29\":0.84,\"5.64\":5.0,\"1.04\":0.78,\"3.92\":1.29,\"1065\":600},{\"1\":3,\"14.23\":12.51,\"1.71\":1.24,\"2.43\":2.25,\"15.6\":17.5,\"127\":85,\"2.8\":2.0,\"3.06\":0.58,\".28\":0.6,\"2.29\":1.25,\"5.64\":5.45,\"1.04\":0.75,\"3.92\":1.51,\"1065\":650},{\"1\":3,\"14.23\":12.6,\"1.71\":2.46,\"2.43\":2.2,\"15.6\":18.5,\"127\":94,\"2.8\":1.62,\"3.06\":0.66,\".28\":0.63,\"2.29\":0.94,\"5.64\":7.1,\"1.04\":0.73,\"3.92\":1.58,\"1065\":695},{\"1\":3,\"14.23\":12.25,\"1.71\":4.72,\"2.43\":2.54,\"15.6\":21.0,\"127\":89,\"2.8\":1.38,\"3.06\":0.47,\".28\":0.53,\"2.29\":0.8,\"5.64\":3.85,\"1.04\":0.75,\"3.92\":1.27,\"1065\":720},{\"1\":3,\"14.23\":12.53,\"1.71\":5.51,\"2.43\":2.64,\"15.6\":25.0,\"127\":96,\"2.8\":1.79,\"3.06\":0.6,\".28\":0.63,\"2.29\":1.1,\"5.64\":5.0,\"1.04\":0.82,\"3.92\":1.69,\"1065\":515},{\"1\":3,\"14.23\":13.49,\"1.71\":3.59,\"2.43\":2.19,\"15.6\":19.5,\"127\":88,\"2.8\":1.62,\"3.06\":0.48,\".28\":0.58,\"2.29\":0.88,\"5.64\":5.7,\"1.04\":0.81,\"3.92\":1.82,\"1065\":580},{\"1\":3,\"14.23\":12.84,\"1.71\":2.96,\"2.43\":2.61,\"15.6\":24.0,\"127\":101,\"2.8\":2.32,\"3.06\":0.6,\".28\":0.53,\"2.29\":0.81,\"5.64\":4.92,\"1.04\":0.89,\"3.92\":2.15,\"1065\":590},{\"1\":3,\"14.23\":12.93,\"1.71\":2.81,\"2.43\":2.7,\"15.6\":21.0,\"127\":96,\"2.8\":1.54,\"3.06\":0.5,\".28\":0.53,\"2.29\":0.75,\"5.64\":4.6,\"1.04\":0.77,\"3.92\":2.31,\"1065\":600},{\"1\":3,\"14.23\":13.36,\"1.71\":2.56,\"2.43\":2.35,\"15.6\":20.0,\"127\":89,\"2.8\":1.4,\"3.06\":0.5,\".28\":0.37,\"2.29\":0.64,\"5.64\":5.6,\"1.04\":0.7,\"3.92\":2.47,\"1065\":780},{\"1\":3,\"14.23\":13.52,\"1.71\":3.17,\"2.43\":2.72,\"15.6\":23.5,\"127\":97,\"2.8\":1.55,\"3.06\":0.52,\".28\":0.5,\"2.29\":0.55,\"5.64\":4.35,\"1.04\":0.89,\"3.92\":2.06,\"1065\":520},{\"1\":3,\"14.23\":13.62,\"1.71\":4.95,\"2.43\":2.35,\"15.6\":20.0,\"127\":92,\"2.8\":2.0,\"3.06\":0.8,\".28\":0.47,\"2.29\":1.02,\"5.64\":4.4,\"1.04\":0.91,\"3.92\":2.05,\"1065\":550},{\"1\":3,\"14.23\":12.25,\"1.71\":3.88,\"2.43\":2.2,\"15.6\":18.5,\"127\":112,\"2.8\":1.38,\"3.06\":0.78,\".28\":0.29,\"2.29\":1.14,\"5.64\":8.21,\"1.04\":0.65,\"3.92\":2.0,\"1065\":855},{\"1\":3,\"14.23\":13.16,\"1.71\":3.57,\"2.43\":2.15,\"15.6\":21.0,\"127\":102,\"2.8\":1.5,\"3.06\":0.55,\".28\":0.43,\"2.29\":1.3,\"5.64\":4.0,\"1.04\":0.6,\"3.92\":1.68,\"1065\":830},{\"1\":3,\"14.23\":13.88,\"1.71\":5.04,\"2.43\":2.23,\"15.6\":20.0,\"127\":80,\"2.8\":0.98,\"3.06\":0.34,\".28\":0.4,\"2.29\":0.68,\"5.64\":4.9,\"1.04\":0.58,\"3.92\":1.33,\"1065\":415},{\"1\":3,\"14.23\":12.87,\"1.71\":4.61,\"2.43\":2.48,\"15.6\":21.5,\"127\":86,\"2.8\":1.7,\"3.06\":0.65,\".28\":0.47,\"2.29\":0.86,\"5.64\":7.65,\"1.04\":0.54,\"3.92\":1.86,\"1065\":625},{\"1\":3,\"14.23\":13.32,\"1.71\":3.24,\"2.43\":2.38,\"15.6\":21.5,\"127\":92,\"2.8\":1.93,\"3.06\":0.76,\".28\":0.45,\"2.29\":1.25,\"5.64\":8.42,\"1.04\":0.55,\"3.92\":1.62,\"1065\":650},{\"1\":3,\"14.23\":13.08,\"1.71\":3.9,\"2.43\":2.36,\"15.6\":21.5,\"127\":113,\"2.8\":1.41,\"3.06\":1.39,\".28\":0.34,\"2.29\":1.14,\"5.64\":9.4,\"1.04\":0.57,\"3.92\":1.33,\"1065\":550},{\"1\":3,\"14.23\":13.5,\"1.71\":3.12,\"2.43\":2.62,\"15.6\":24.0,\"127\":123,\"2.8\":1.4,\"3.06\":1.57,\".28\":0.22,\"2.29\":1.25,\"5.64\":8.6,\"1.04\":0.59,\"3.92\":1.3,\"1065\":500},{\"1\":3,\"14.23\":12.79,\"1.71\":2.67,\"2.43\":2.48,\"15.6\":22.0,\"127\":112,\"2.8\":1.48,\"3.06\":1.36,\".28\":0.24,\"2.29\":1.26,\"5.64\":10.8,\"1.04\":0.48,\"3.92\":1.47,\"1065\":480},{\"1\":3,\"14.23\":13.11,\"1.71\":1.9,\"2.43\":2.75,\"15.6\":25.5,\"127\":116,\"2.8\":2.2,\"3.06\":1.28,\".28\":0.26,\"2.29\":1.56,\"5.64\":7.1,\"1.04\":0.61,\"3.92\":1.33,\"1065\":425},{\"1\":3,\"14.23\":13.23,\"1.71\":3.3,\"2.43\":2.28,\"15.6\":18.5,\"127\":98,\"2.8\":1.8,\"3.06\":0.83,\".28\":0.61,\"2.29\":1.87,\"5.64\":10.52,\"1.04\":0.56,\"3.92\":1.51,\"1065\":675},{\"1\":3,\"14.23\":12.58,\"1.71\":1.29,\"2.43\":2.1,\"15.6\":20.0,\"127\":103,\"2.8\":1.48,\"3.06\":0.58,\".28\":0.53,\"2.29\":1.4,\"5.64\":7.6,\"1.04\":0.58,\"3.92\":1.55,\"1065\":640},{\"1\":3,\"14.23\":13.17,\"1.71\":5.19,\"2.43\":2.32,\"15.6\":22.0,\"127\":93,\"2.8\":1.74,\"3.06\":0.63,\".28\":0.61,\"2.29\":1.55,\"5.64\":7.9,\"1.04\":0.6,\"3.92\":1.48,\"1065\":725},{\"1\":3,\"14.23\":13.84,\"1.71\":4.12,\"2.43\":2.38,\"15.6\":19.5,\"127\":89,\"2.8\":1.8,\"3.06\":0.83,\".28\":0.48,\"2.29\":1.56,\"5.64\":9.01,\"1.04\":0.57,\"3.92\":1.64,\"1065\":480},{\"1\":3,\"14.23\":12.45,\"1.71\":3.03,\"2.43\":2.64,\"15.6\":27.0,\"127\":97,\"2.8\":1.9,\"3.06\":0.58,\".28\":0.63,\"2.29\":1.14,\"5.64\":7.5,\"1.04\":0.67,\"3.92\":1.73,\"1065\":880},{\"1\":3,\"14.23\":14.34,\"1.71\":1.68,\"2.43\":2.7,\"15.6\":25.0,\"127\":98,\"2.8\":2.8,\"3.06\":1.31,\".28\":0.53,\"2.29\":2.7,\"5.64\":13.0,\"1.04\":0.57,\"3.92\":1.96,\"1065\":660},{\"1\":3,\"14.23\":13.48,\"1.71\":1.67,\"2.43\":2.64,\"15.6\":22.5,\"127\":89,\"2.8\":2.6,\"3.06\":1.1,\".28\":0.52,\"2.29\":2.29,\"5.64\":11.75,\"1.04\":0.57,\"3.92\":1.78,\"1065\":620},{\"1\":3,\"14.23\":12.36,\"1.71\":3.83,\"2.43\":2.38,\"15.6\":21.0,\"127\":88,\"2.8\":2.3,\"3.06\":0.92,\".28\":0.5,\"2.29\":1.04,\"5.64\":7.65,\"1.04\":0.56,\"3.92\":1.58,\"1065\":520},{\"1\":3,\"14.23\":13.69,\"1.71\":3.26,\"2.43\":2.54,\"15.6\":20.0,\"127\":107,\"2.8\":1.83,\"3.06\":0.56,\".28\":0.5,\"2.29\":0.8,\"5.64\":5.88,\"1.04\":0.96,\"3.92\":1.82,\"1065\":680},{\"1\":3,\"14.23\":12.85,\"1.71\":3.27,\"2.43\":2.58,\"15.6\":22.0,\"127\":106,\"2.8\":1.65,\"3.06\":0.6,\".28\":0.6,\"2.29\":0.96,\"5.64\":5.58,\"1.04\":0.87,\"3.92\":2.11,\"1065\":570},{\"1\":3,\"14.23\":12.96,\"1.71\":3.45,\"2.43\":2.35,\"15.6\":18.5,\"127\":106,\"2.8\":1.39,\"3.06\":0.7,\".28\":0.4,\"2.29\":0.94,\"5.64\":5.28,\"1.04\":0.68,\"3.92\":1.75,\"1065\":675},{\"1\":3,\"14.23\":13.78,\"1.71\":2.76,\"2.43\":2.3,\"15.6\":22.0,\"127\":90,\"2.8\":1.35,\"3.06\":0.68,\".28\":0.41,\"2.29\":1.03,\"5.64\":9.58,\"1.04\":0.7,\"3.92\":1.68,\"1065\":615},{\"1\":3,\"14.23\":13.73,\"1.71\":4.36,\"2.43\":2.26,\"15.6\":22.5,\"127\":88,\"2.8\":1.28,\"3.06\":0.47,\".28\":0.52,\"2.29\":1.15,\"5.64\":6.62,\"1.04\":0.78,\"3.92\":1.75,\"1065\":520},{\"1\":3,\"14.23\":13.45,\"1.71\":3.7,\"2.43\":2.6,\"15.6\":23.0,\"127\":111,\"2.8\":1.7,\"3.06\":0.92,\".28\":0.43,\"2.29\":1.46,\"5.64\":10.68,\"1.04\":0.85,\"3.92\":1.56,\"1065\":695},{\"1\":3,\"14.23\":12.82,\"1.71\":3.37,\"2.43\":2.3,\"15.6\":19.5,\"127\":88,\"2.8\":1.48,\"3.06\":0.66,\".28\":0.4,\"2.29\":0.97,\"5.64\":10.26,\"1.04\":0.72,\"3.92\":1.75,\"1065\":685},{\"1\":3,\"14.23\":13.58,\"1.71\":2.58,\"2.43\":2.69,\"15.6\":24.5,\"127\":105,\"2.8\":1.55,\"3.06\":0.84,\".28\":0.39,\"2.29\":1.54,\"5.64\":8.66,\"1.04\":0.74,\"3.92\":1.8,\"1065\":750},{\"1\":3,\"14.23\":13.4,\"1.71\":4.6,\"2.43\":2.86,\"15.6\":25.0,\"127\":112,\"2.8\":1.98,\"3.06\":0.96,\".28\":0.27,\"2.29\":1.11,\"5.64\":8.5,\"1.04\":0.67,\"3.92\":1.92,\"1065\":630},{\"1\":3,\"14.23\":12.2,\"1.71\":3.03,\"2.43\":2.32,\"15.6\":19.0,\"127\":96,\"2.8\":1.25,\"3.06\":0.49,\".28\":0.4,\"2.29\":0.73,\"5.64\":5.5,\"1.04\":0.66,\"3.92\":1.83,\"1065\":510},{\"1\":3,\"14.23\":12.77,\"1.71\":2.39,\"2.43\":2.28,\"15.6\":19.5,\"127\":86,\"2.8\":1.39,\"3.06\":0.51,\".28\":0.48,\"2.29\":0.64,\"5.64\":9.899999,\"1.04\":0.57,\"3.92\":1.63,\"1065\":470},{\"1\":3,\"14.23\":14.16,\"1.71\":2.51,\"2.43\":2.48,\"15.6\":20.0,\"127\":91,\"2.8\":1.68,\"3.06\":0.7,\".28\":0.44,\"2.29\":1.24,\"5.64\":9.7,\"1.04\":0.62,\"3.92\":1.71,\"1065\":660},{\"1\":3,\"14.23\":13.71,\"1.71\":5.65,\"2.43\":2.45,\"15.6\":20.5,\"127\":95,\"2.8\":1.68,\"3.06\":0.61,\".28\":0.52,\"2.29\":1.06,\"5.64\":7.7,\"1.04\":0.64,\"3.92\":1.74,\"1065\":740},{\"1\":3,\"14.23\":13.4,\"1.71\":3.91,\"2.43\":2.48,\"15.6\":23.0,\"127\":102,\"2.8\":1.8,\"3.06\":0.75,\".28\":0.43,\"2.29\":1.41,\"5.64\":7.3,\"1.04\":0.7,\"3.92\":1.56,\"1065\":750},{\"1\":3,\"14.23\":13.27,\"1.71\":4.28,\"2.43\":2.26,\"15.6\":20.0,\"127\":120,\"2.8\":1.59,\"3.06\":0.69,\".28\":0.43,\"2.29\":1.35,\"5.64\":10.2,\"1.04\":0.59,\"3.92\":1.56,\"1065\":835},{\"1\":3,\"14.23\":13.17,\"1.71\":2.59,\"2.43\":2.37,\"15.6\":20.0,\"127\":120,\"2.8\":1.65,\"3.06\":0.68,\".28\":0.53,\"2.29\":1.46,\"5.64\":9.3,\"1.04\":0.6,\"3.92\":1.62,\"1065\":840},{\"1\":3,\"14.23\":14.13,\"1.71\":4.1,\"2.43\":2.74,\"15.6\":24.5,\"127\":96,\"2.8\":2.05,\"3.06\":0.76,\".28\":0.56,\"2.29\":1.35,\"5.64\":9.2,\"1.04\":0.61,\"3.92\":1.6,\"1065\":560}]'"
      ]
     },
     "execution_count": 33,
     "metadata": {},
     "output_type": "execute_result"
    }
   ],
   "source": [
    "##convert json to different json formats \n",
    "\n",
    "df.to_json(orient='records')"
   ]
  },
  {
   "cell_type": "code",
   "execution_count": 31,
   "metadata": {},
   "outputs": [
    {
     "data": {
      "text/plain": [
       "'[{\"employee_name\":\"james\",\"email\":\"james@gmail.com\",\"job_profile\":{\"title1\":\"team lead\",\"title2\":\"devoloper\"}}]'"
      ]
     },
     "execution_count": 31,
     "metadata": {},
     "output_type": "execute_result"
    }
   ],
   "source": [
    "df1.to_json(orient='records')"
   ]
  },
  {
   "cell_type": "code",
   "execution_count": 12,
   "metadata": {},
   "outputs": [],
   "source": [
    "##read and write operation on csv and tsv files \n",
    "df=pd.read_csv('ex1.csv') ##(csv-comma seperated files )"
   ]
  },
  {
   "cell_type": "code",
   "execution_count": 13,
   "metadata": {},
   "outputs": [
    {
     "data": {
      "text/html": [
       "<div>\n",
       "<style scoped>\n",
       "    .dataframe tbody tr th:only-of-type {\n",
       "        vertical-align: middle;\n",
       "    }\n",
       "\n",
       "    .dataframe tbody tr th {\n",
       "        vertical-align: top;\n",
       "    }\n",
       "\n",
       "    .dataframe thead th {\n",
       "        text-align: right;\n",
       "    }\n",
       "</style>\n",
       "<table border=\"1\" class=\"dataframe\">\n",
       "  <thead>\n",
       "    <tr style=\"text-align: right;\">\n",
       "      <th></th>\n",
       "      <th>a</th>\n",
       "      <th>b</th>\n",
       "      <th>c</th>\n",
       "      <th>d</th>\n",
       "      <th>message</th>\n",
       "    </tr>\n",
       "  </thead>\n",
       "  <tbody>\n",
       "    <tr>\n",
       "      <th>0</th>\n",
       "      <td>1</td>\n",
       "      <td>2</td>\n",
       "      <td>3</td>\n",
       "      <td>4</td>\n",
       "      <td>hello</td>\n",
       "    </tr>\n",
       "    <tr>\n",
       "      <th>1</th>\n",
       "      <td>5</td>\n",
       "      <td>6</td>\n",
       "      <td>7</td>\n",
       "      <td>8</td>\n",
       "      <td>world</td>\n",
       "    </tr>\n",
       "    <tr>\n",
       "      <th>2</th>\n",
       "      <td>9</td>\n",
       "      <td>10</td>\n",
       "      <td>11</td>\n",
       "      <td>12</td>\n",
       "      <td>foo</td>\n",
       "    </tr>\n",
       "  </tbody>\n",
       "</table>\n",
       "</div>"
      ],
      "text/plain": [
       "   a   b   c   d message\n",
       "0  1   2   3   4   hello\n",
       "1  5   6   7   8   world\n",
       "2  9  10  11  12     foo"
      ]
     },
     "execution_count": 13,
     "metadata": {},
     "output_type": "execute_result"
    }
   ],
   "source": [
    "df"
   ]
  },
  {
   "cell_type": "code",
   "execution_count": 5,
   "metadata": {},
   "outputs": [
    {
     "data": {
      "text/plain": [
       "0    1\n",
       "1    5\n",
       "2    9\n",
       "Name: a, dtype: int64"
      ]
     },
     "execution_count": 5,
     "metadata": {},
     "output_type": "execute_result"
    }
   ],
   "source": [
    "df['a']"
   ]
  },
  {
   "cell_type": "code",
   "execution_count": 8,
   "metadata": {},
   "outputs": [
    {
     "data": {
      "text/plain": [
       "pandas.core.series.Series"
      ]
     },
     "execution_count": 8,
     "metadata": {},
     "output_type": "execute_result"
    }
   ],
   "source": [
    "type(df['a'])"
   ]
  },
  {
   "cell_type": "code",
   "execution_count": 10,
   "metadata": {},
   "outputs": [
    {
     "data": {
      "text/html": [
       "<div>\n",
       "<style scoped>\n",
       "    .dataframe tbody tr th:only-of-type {\n",
       "        vertical-align: middle;\n",
       "    }\n",
       "\n",
       "    .dataframe tbody tr th {\n",
       "        vertical-align: top;\n",
       "    }\n",
       "\n",
       "    .dataframe thead th {\n",
       "        text-align: right;\n",
       "    }\n",
       "</style>\n",
       "<table border=\"1\" class=\"dataframe\">\n",
       "  <thead>\n",
       "    <tr style=\"text-align: right;\">\n",
       "      <th></th>\n",
       "      <th>a</th>\n",
       "      <th>b</th>\n",
       "      <th>c</th>\n",
       "      <th>d</th>\n",
       "      <th>message</th>\n",
       "    </tr>\n",
       "  </thead>\n",
       "  <tbody>\n",
       "    <tr>\n",
       "      <th>0</th>\n",
       "      <td>1</td>\n",
       "      <td>2</td>\n",
       "      <td>3</td>\n",
       "      <td>4</td>\n",
       "      <td>hello</td>\n",
       "    </tr>\n",
       "    <tr>\n",
       "      <th>1</th>\n",
       "      <td>5</td>\n",
       "      <td>6</td>\n",
       "      <td>7</td>\n",
       "      <td>8</td>\n",
       "      <td>world</td>\n",
       "    </tr>\n",
       "    <tr>\n",
       "      <th>2</th>\n",
       "      <td>9</td>\n",
       "      <td>10</td>\n",
       "      <td>11</td>\n",
       "      <td>12</td>\n",
       "      <td>foo</td>\n",
       "    </tr>\n",
       "  </tbody>\n",
       "</table>\n",
       "</div>"
      ],
      "text/plain": [
       "   a   b   c   d message\n",
       "0  1   2   3   4   hello\n",
       "1  5   6   7   8   world\n",
       "2  9  10  11  12     foo"
      ]
     },
     "execution_count": 10,
     "metadata": {},
     "output_type": "execute_result"
    }
   ],
   "source": [
    "df.head() ##this gives top 5 records "
   ]
  },
  {
   "cell_type": "code",
   "execution_count": 11,
   "metadata": {},
   "outputs": [
    {
     "data": {
      "text/html": [
       "<div>\n",
       "<style scoped>\n",
       "    .dataframe tbody tr th:only-of-type {\n",
       "        vertical-align: middle;\n",
       "    }\n",
       "\n",
       "    .dataframe tbody tr th {\n",
       "        vertical-align: top;\n",
       "    }\n",
       "\n",
       "    .dataframe thead th {\n",
       "        text-align: right;\n",
       "    }\n",
       "</style>\n",
       "<table border=\"1\" class=\"dataframe\">\n",
       "  <thead>\n",
       "    <tr style=\"text-align: right;\">\n",
       "      <th></th>\n",
       "      <th>a</th>\n",
       "      <th>b</th>\n",
       "      <th>c</th>\n",
       "      <th>d</th>\n",
       "      <th>message</th>\n",
       "    </tr>\n",
       "  </thead>\n",
       "  <tbody>\n",
       "    <tr>\n",
       "      <th>0</th>\n",
       "      <td>1</td>\n",
       "      <td>2</td>\n",
       "      <td>3</td>\n",
       "      <td>4</td>\n",
       "      <td>hello</td>\n",
       "    </tr>\n",
       "    <tr>\n",
       "      <th>1</th>\n",
       "      <td>5</td>\n",
       "      <td>6</td>\n",
       "      <td>7</td>\n",
       "      <td>8</td>\n",
       "      <td>world</td>\n",
       "    </tr>\n",
       "  </tbody>\n",
       "</table>\n",
       "</div>"
      ],
      "text/plain": [
       "   a  b  c  d message\n",
       "0  1  2  3  4   hello\n",
       "1  5  6  7  8   world"
      ]
     },
     "execution_count": 11,
     "metadata": {},
     "output_type": "execute_result"
    }
   ],
   "source": [
    "df.head(2)"
   ]
  },
  {
   "cell_type": "code",
   "execution_count": 12,
   "metadata": {},
   "outputs": [
    {
     "data": {
      "text/html": [
       "<div>\n",
       "<style scoped>\n",
       "    .dataframe tbody tr th:only-of-type {\n",
       "        vertical-align: middle;\n",
       "    }\n",
       "\n",
       "    .dataframe tbody tr th {\n",
       "        vertical-align: top;\n",
       "    }\n",
       "\n",
       "    .dataframe thead th {\n",
       "        text-align: right;\n",
       "    }\n",
       "</style>\n",
       "<table border=\"1\" class=\"dataframe\">\n",
       "  <thead>\n",
       "    <tr style=\"text-align: right;\">\n",
       "      <th></th>\n",
       "      <th>a</th>\n",
       "      <th>b</th>\n",
       "      <th>c</th>\n",
       "      <th>d</th>\n",
       "      <th>message</th>\n",
       "    </tr>\n",
       "  </thead>\n",
       "  <tbody>\n",
       "    <tr>\n",
       "      <th>0</th>\n",
       "      <td>1</td>\n",
       "      <td>2</td>\n",
       "      <td>3</td>\n",
       "      <td>4</td>\n",
       "      <td>hello</td>\n",
       "    </tr>\n",
       "    <tr>\n",
       "      <th>1</th>\n",
       "      <td>5</td>\n",
       "      <td>6</td>\n",
       "      <td>7</td>\n",
       "      <td>8</td>\n",
       "      <td>world</td>\n",
       "    </tr>\n",
       "    <tr>\n",
       "      <th>2</th>\n",
       "      <td>9</td>\n",
       "      <td>10</td>\n",
       "      <td>11</td>\n",
       "      <td>12</td>\n",
       "      <td>foo</td>\n",
       "    </tr>\n",
       "  </tbody>\n",
       "</table>\n",
       "</div>"
      ],
      "text/plain": [
       "   a   b   c   d message\n",
       "0  1   2   3   4   hello\n",
       "1  5   6   7   8   world\n",
       "2  9  10  11  12     foo"
      ]
     },
     "execution_count": 12,
     "metadata": {},
     "output_type": "execute_result"
    }
   ],
   "source": [
    "df.tail() ##to load bottom data from table"
   ]
  },
  {
   "cell_type": "code",
   "execution_count": 13,
   "metadata": {},
   "outputs": [
    {
     "data": {
      "text/html": [
       "<div>\n",
       "<style scoped>\n",
       "    .dataframe tbody tr th:only-of-type {\n",
       "        vertical-align: middle;\n",
       "    }\n",
       "\n",
       "    .dataframe tbody tr th {\n",
       "        vertical-align: top;\n",
       "    }\n",
       "\n",
       "    .dataframe thead th {\n",
       "        text-align: right;\n",
       "    }\n",
       "</style>\n",
       "<table border=\"1\" class=\"dataframe\">\n",
       "  <thead>\n",
       "    <tr style=\"text-align: right;\">\n",
       "      <th></th>\n",
       "      <th>a</th>\n",
       "      <th>b</th>\n",
       "      <th>c</th>\n",
       "      <th>d</th>\n",
       "      <th>message</th>\n",
       "    </tr>\n",
       "  </thead>\n",
       "  <tbody>\n",
       "    <tr>\n",
       "      <th>1</th>\n",
       "      <td>5</td>\n",
       "      <td>6</td>\n",
       "      <td>7</td>\n",
       "      <td>8</td>\n",
       "      <td>world</td>\n",
       "    </tr>\n",
       "    <tr>\n",
       "      <th>2</th>\n",
       "      <td>9</td>\n",
       "      <td>10</td>\n",
       "      <td>11</td>\n",
       "      <td>12</td>\n",
       "      <td>foo</td>\n",
       "    </tr>\n",
       "  </tbody>\n",
       "</table>\n",
       "</div>"
      ],
      "text/plain": [
       "   a   b   c   d message\n",
       "1  5   6   7   8   world\n",
       "2  9  10  11  12     foo"
      ]
     },
     "execution_count": 13,
     "metadata": {},
     "output_type": "execute_result"
    }
   ],
   "source": [
    "df.tail(2)"
   ]
  },
  {
   "cell_type": "code",
   "execution_count": 17,
   "metadata": {},
   "outputs": [
    {
     "data": {
      "text/html": [
       "<div>\n",
       "<style scoped>\n",
       "    .dataframe tbody tr th:only-of-type {\n",
       "        vertical-align: middle;\n",
       "    }\n",
       "\n",
       "    .dataframe tbody tr th {\n",
       "        vertical-align: top;\n",
       "    }\n",
       "\n",
       "    .dataframe thead th {\n",
       "        text-align: right;\n",
       "    }\n",
       "</style>\n",
       "<table border=\"1\" class=\"dataframe\">\n",
       "  <thead>\n",
       "    <tr style=\"text-align: right;\">\n",
       "      <th></th>\n",
       "      <th>test</th>\n",
       "      <th>test</th>\n",
       "      <th>test.1</th>\n",
       "      <th>test.2</th>\n",
       "      <th>test.3</th>\n",
       "    </tr>\n",
       "  </thead>\n",
       "  <tbody>\n",
       "    <tr>\n",
       "      <th>sudh</th>\n",
       "      <td>sudh</td>\n",
       "      <td>sudh</td>\n",
       "      <td>sudh</td>\n",
       "      <td>sudh</td>\n",
       "      <td>sudh</td>\n",
       "    </tr>\n",
       "    <tr>\n",
       "      <th>kumar</th>\n",
       "      <td>kumar</td>\n",
       "      <td>kumar</td>\n",
       "      <td>kumar</td>\n",
       "      <td>kumar</td>\n",
       "      <td>kumar</td>\n",
       "    </tr>\n",
       "  </tbody>\n",
       "</table>\n",
       "</div>"
      ],
      "text/plain": [
       "        test   test test.1 test.2 test.3\n",
       "sudh    sudh   sudh   sudh   sudh   sudh\n",
       "kumar  kumar  kumar  kumar  kumar  kumar"
      ]
     },
     "execution_count": 17,
     "metadata": {},
     "output_type": "execute_result"
    }
   ],
   "source": [
    "###read table (for this we use tsv file that is tab(\\t) seperated value )\n",
    "pd.read_table('test.tsv') \n"
   ]
  },
  {
   "cell_type": "code",
   "execution_count": 19,
   "metadata": {},
   "outputs": [
    {
     "data": {
      "text/html": [
       "<div>\n",
       "<style scoped>\n",
       "    .dataframe tbody tr th:only-of-type {\n",
       "        vertical-align: middle;\n",
       "    }\n",
       "\n",
       "    .dataframe tbody tr th {\n",
       "        vertical-align: top;\n",
       "    }\n",
       "\n",
       "    .dataframe thead th {\n",
       "        text-align: right;\n",
       "    }\n",
       "</style>\n",
       "<table border=\"1\" class=\"dataframe\">\n",
       "  <thead>\n",
       "    <tr style=\"text-align: right;\">\n",
       "      <th></th>\n",
       "      <th>test</th>\n",
       "      <th>test</th>\n",
       "      <th>test.1</th>\n",
       "      <th>test.2</th>\n",
       "      <th>test.3</th>\n",
       "    </tr>\n",
       "  </thead>\n",
       "  <tbody>\n",
       "    <tr>\n",
       "      <th>sudh</th>\n",
       "      <td>sudh</td>\n",
       "      <td>sudh</td>\n",
       "      <td>sudh</td>\n",
       "      <td>sudh</td>\n",
       "      <td>sudh</td>\n",
       "    </tr>\n",
       "    <tr>\n",
       "      <th>kumar</th>\n",
       "      <td>kumar</td>\n",
       "      <td>kumar</td>\n",
       "      <td>kumar</td>\n",
       "      <td>kumar</td>\n",
       "      <td>kumar</td>\n",
       "    </tr>\n",
       "  </tbody>\n",
       "</table>\n",
       "</div>"
      ],
      "text/plain": [
       "        test   test test.1 test.2 test.3\n",
       "sudh    sudh   sudh   sudh   sudh   sudh\n",
       "kumar  kumar  kumar  kumar  kumar  kumar"
      ]
     },
     "execution_count": 19,
     "metadata": {},
     "output_type": "execute_result"
    }
   ],
   "source": [
    "pd.read_csv('test.tsv',sep=\"\\t\") ##we can also use read_csv with seperator "
   ]
  },
  {
   "cell_type": "code",
   "execution_count": 21,
   "metadata": {},
   "outputs": [
    {
     "data": {
      "text/html": [
       "<div>\n",
       "<style scoped>\n",
       "    .dataframe tbody tr th:only-of-type {\n",
       "        vertical-align: middle;\n",
       "    }\n",
       "\n",
       "    .dataframe tbody tr th {\n",
       "        vertical-align: top;\n",
       "    }\n",
       "\n",
       "    .dataframe thead th {\n",
       "        text-align: right;\n",
       "    }\n",
       "</style>\n",
       "<table border=\"1\" class=\"dataframe\">\n",
       "  <thead>\n",
       "    <tr style=\"text-align: right;\">\n",
       "      <th></th>\n",
       "      <th>a</th>\n",
       "      <th>b</th>\n",
       "      <th>c</th>\n",
       "      <th>d</th>\n",
       "      <th>message</th>\n",
       "    </tr>\n",
       "  </thead>\n",
       "  <tbody>\n",
       "    <tr>\n",
       "      <th>0</th>\n",
       "      <td>1</td>\n",
       "      <td>2</td>\n",
       "      <td>3</td>\n",
       "      <td>4</td>\n",
       "      <td>hello</td>\n",
       "    </tr>\n",
       "    <tr>\n",
       "      <th>1</th>\n",
       "      <td>5</td>\n",
       "      <td>6</td>\n",
       "      <td>7</td>\n",
       "      <td>8</td>\n",
       "      <td>world</td>\n",
       "    </tr>\n",
       "    <tr>\n",
       "      <th>2</th>\n",
       "      <td>9</td>\n",
       "      <td>10</td>\n",
       "      <td>11</td>\n",
       "      <td>12</td>\n",
       "      <td>foo</td>\n",
       "    </tr>\n",
       "  </tbody>\n",
       "</table>\n",
       "</div>"
      ],
      "text/plain": [
       "   a   b   c   d message\n",
       "0  1   2   3   4   hello\n",
       "1  5   6   7   8   world\n",
       "2  9  10  11  12     foo"
      ]
     },
     "execution_count": 21,
     "metadata": {},
     "output_type": "execute_result"
    }
   ],
   "source": [
    "pd.read_table('ex1.csv',sep=',',header='infer') ##first row and columns is considered as index"
   ]
  },
  {
   "cell_type": "code",
   "execution_count": 22,
   "metadata": {},
   "outputs": [
    {
     "data": {
      "text/html": [
       "<div>\n",
       "<style scoped>\n",
       "    .dataframe tbody tr th:only-of-type {\n",
       "        vertical-align: middle;\n",
       "    }\n",
       "\n",
       "    .dataframe tbody tr th {\n",
       "        vertical-align: top;\n",
       "    }\n",
       "\n",
       "    .dataframe thead th {\n",
       "        text-align: right;\n",
       "    }\n",
       "</style>\n",
       "<table border=\"1\" class=\"dataframe\">\n",
       "  <thead>\n",
       "    <tr style=\"text-align: right;\">\n",
       "      <th></th>\n",
       "      <th>0</th>\n",
       "      <th>1</th>\n",
       "      <th>2</th>\n",
       "      <th>3</th>\n",
       "      <th>4</th>\n",
       "    </tr>\n",
       "  </thead>\n",
       "  <tbody>\n",
       "    <tr>\n",
       "      <th>0</th>\n",
       "      <td>a</td>\n",
       "      <td>b</td>\n",
       "      <td>c</td>\n",
       "      <td>d</td>\n",
       "      <td>message</td>\n",
       "    </tr>\n",
       "    <tr>\n",
       "      <th>1</th>\n",
       "      <td>1</td>\n",
       "      <td>2</td>\n",
       "      <td>3</td>\n",
       "      <td>4</td>\n",
       "      <td>hello</td>\n",
       "    </tr>\n",
       "    <tr>\n",
       "      <th>2</th>\n",
       "      <td>5</td>\n",
       "      <td>6</td>\n",
       "      <td>7</td>\n",
       "      <td>8</td>\n",
       "      <td>world</td>\n",
       "    </tr>\n",
       "    <tr>\n",
       "      <th>3</th>\n",
       "      <td>9</td>\n",
       "      <td>10</td>\n",
       "      <td>11</td>\n",
       "      <td>12</td>\n",
       "      <td>foo</td>\n",
       "    </tr>\n",
       "  </tbody>\n",
       "</table>\n",
       "</div>"
      ],
      "text/plain": [
       "   0   1   2   3        4\n",
       "0  a   b   c   d  message\n",
       "1  1   2   3   4    hello\n",
       "2  5   6   7   8    world\n",
       "3  9  10  11  12      foo"
      ]
     },
     "execution_count": 22,
     "metadata": {},
     "output_type": "execute_result"
    }
   ],
   "source": [
    "##header can take two values infer and none \n",
    "pd.read_table('ex1.csv',sep=',',header=None)"
   ]
  },
  {
   "cell_type": "code",
   "execution_count": 23,
   "metadata": {},
   "outputs": [
    {
     "data": {
      "text/html": [
       "<div>\n",
       "<style scoped>\n",
       "    .dataframe tbody tr th:only-of-type {\n",
       "        vertical-align: middle;\n",
       "    }\n",
       "\n",
       "    .dataframe tbody tr th {\n",
       "        vertical-align: top;\n",
       "    }\n",
       "\n",
       "    .dataframe thead th {\n",
       "        text-align: right;\n",
       "    }\n",
       "</style>\n",
       "<table border=\"1\" class=\"dataframe\">\n",
       "  <thead>\n",
       "    <tr style=\"text-align: right;\">\n",
       "      <th></th>\n",
       "      <th>a</th>\n",
       "      <th>b</th>\n",
       "      <th>c</th>\n",
       "      <th>d</th>\n",
       "      <th>e</th>\n",
       "    </tr>\n",
       "  </thead>\n",
       "  <tbody>\n",
       "    <tr>\n",
       "      <th>0</th>\n",
       "      <td>a</td>\n",
       "      <td>b</td>\n",
       "      <td>c</td>\n",
       "      <td>d</td>\n",
       "      <td>message</td>\n",
       "    </tr>\n",
       "    <tr>\n",
       "      <th>1</th>\n",
       "      <td>1</td>\n",
       "      <td>2</td>\n",
       "      <td>3</td>\n",
       "      <td>4</td>\n",
       "      <td>hello</td>\n",
       "    </tr>\n",
       "    <tr>\n",
       "      <th>2</th>\n",
       "      <td>5</td>\n",
       "      <td>6</td>\n",
       "      <td>7</td>\n",
       "      <td>8</td>\n",
       "      <td>world</td>\n",
       "    </tr>\n",
       "    <tr>\n",
       "      <th>3</th>\n",
       "      <td>9</td>\n",
       "      <td>10</td>\n",
       "      <td>11</td>\n",
       "      <td>12</td>\n",
       "      <td>foo</td>\n",
       "    </tr>\n",
       "  </tbody>\n",
       "</table>\n",
       "</div>"
      ],
      "text/plain": [
       "   a   b   c   d        e\n",
       "0  a   b   c   d  message\n",
       "1  1   2   3   4    hello\n",
       "2  5   6   7   8    world\n",
       "3  9  10  11  12      foo"
      ]
     },
     "execution_count": 23,
     "metadata": {},
     "output_type": "execute_result"
    }
   ],
   "source": [
    "##GIVING NAMES TO HEADER \n",
    "pd.read_table('ex1.csv',sep=',',header=None,names=['a','b','c','d','e'])"
   ]
  },
  {
   "cell_type": "code",
   "execution_count": 24,
   "metadata": {},
   "outputs": [
    {
     "data": {
      "text/html": [
       "<div>\n",
       "<style scoped>\n",
       "    .dataframe tbody tr th:only-of-type {\n",
       "        vertical-align: middle;\n",
       "    }\n",
       "\n",
       "    .dataframe tbody tr th {\n",
       "        vertical-align: top;\n",
       "    }\n",
       "\n",
       "    .dataframe thead th {\n",
       "        text-align: right;\n",
       "    }\n",
       "</style>\n",
       "<table border=\"1\" class=\"dataframe\">\n",
       "  <thead>\n",
       "    <tr style=\"text-align: right;\">\n",
       "      <th></th>\n",
       "      <th>a</th>\n",
       "      <th>b</th>\n",
       "      <th>c</th>\n",
       "      <th>d</th>\n",
       "    </tr>\n",
       "  </thead>\n",
       "  <tbody>\n",
       "    <tr>\n",
       "      <th>a</th>\n",
       "      <td>b</td>\n",
       "      <td>c</td>\n",
       "      <td>d</td>\n",
       "      <td>message</td>\n",
       "    </tr>\n",
       "    <tr>\n",
       "      <th>1</th>\n",
       "      <td>2</td>\n",
       "      <td>3</td>\n",
       "      <td>4</td>\n",
       "      <td>hello</td>\n",
       "    </tr>\n",
       "    <tr>\n",
       "      <th>5</th>\n",
       "      <td>6</td>\n",
       "      <td>7</td>\n",
       "      <td>8</td>\n",
       "      <td>world</td>\n",
       "    </tr>\n",
       "    <tr>\n",
       "      <th>9</th>\n",
       "      <td>10</td>\n",
       "      <td>11</td>\n",
       "      <td>12</td>\n",
       "      <td>foo</td>\n",
       "    </tr>\n",
       "  </tbody>\n",
       "</table>\n",
       "</div>"
      ],
      "text/plain": [
       "    a   b   c        d\n",
       "a   b   c   d  message\n",
       "1   2   3   4    hello\n",
       "5   6   7   8    world\n",
       "9  10  11  12      foo"
      ]
     },
     "execution_count": 24,
     "metadata": {},
     "output_type": "execute_result"
    }
   ],
   "source": [
    "pd.read_table('ex1.csv',sep=',',header=None,names=['a','b','c','d']) ##indexes is shifted ny one column "
   ]
  },
  {
   "cell_type": "code",
   "execution_count": 27,
   "metadata": {},
   "outputs": [
    {
     "data": {
      "text/html": [
       "<div>\n",
       "<style scoped>\n",
       "    .dataframe tbody tr th:only-of-type {\n",
       "        vertical-align: middle;\n",
       "    }\n",
       "\n",
       "    .dataframe tbody tr th {\n",
       "        vertical-align: top;\n",
       "    }\n",
       "\n",
       "    .dataframe thead th {\n",
       "        text-align: right;\n",
       "    }\n",
       "</style>\n",
       "<table border=\"1\" class=\"dataframe\">\n",
       "  <thead>\n",
       "    <tr style=\"text-align: right;\">\n",
       "      <th></th>\n",
       "      <th>a</th>\n",
       "      <th>e</th>\n",
       "    </tr>\n",
       "  </thead>\n",
       "  <tbody>\n",
       "    <tr>\n",
       "      <th>0</th>\n",
       "      <td>a</td>\n",
       "      <td>message</td>\n",
       "    </tr>\n",
       "    <tr>\n",
       "      <th>1</th>\n",
       "      <td>1</td>\n",
       "      <td>hello</td>\n",
       "    </tr>\n",
       "    <tr>\n",
       "      <th>2</th>\n",
       "      <td>5</td>\n",
       "      <td>world</td>\n",
       "    </tr>\n",
       "    <tr>\n",
       "      <th>3</th>\n",
       "      <td>9</td>\n",
       "      <td>foo</td>\n",
       "    </tr>\n",
       "  </tbody>\n",
       "</table>\n",
       "</div>"
      ],
      "text/plain": [
       "   a        e\n",
       "0  a  message\n",
       "1  1    hello\n",
       "2  5    world\n",
       "3  9      foo"
      ]
     },
     "execution_count": 27,
     "metadata": {},
     "output_type": "execute_result"
    }
   ],
   "source": [
    "pd.read_table('ex1.csv',sep=',',header=None,names=['a','b','c','d','e'],usecols=['a','e'])"
   ]
  },
  {
   "cell_type": "code",
   "execution_count": 28,
   "metadata": {},
   "outputs": [
    {
     "data": {
      "text/html": [
       "<div>\n",
       "<style scoped>\n",
       "    .dataframe tbody tr th:only-of-type {\n",
       "        vertical-align: middle;\n",
       "    }\n",
       "\n",
       "    .dataframe tbody tr th {\n",
       "        vertical-align: top;\n",
       "    }\n",
       "\n",
       "    .dataframe thead th {\n",
       "        text-align: right;\n",
       "    }\n",
       "</style>\n",
       "<table border=\"1\" class=\"dataframe\">\n",
       "  <thead>\n",
       "    <tr style=\"text-align: right;\">\n",
       "      <th></th>\n",
       "      <th></th>\n",
       "      <th>value1</th>\n",
       "      <th>value2</th>\n",
       "    </tr>\n",
       "    <tr>\n",
       "      <th>key1</th>\n",
       "      <th>key2</th>\n",
       "      <th></th>\n",
       "      <th></th>\n",
       "    </tr>\n",
       "  </thead>\n",
       "  <tbody>\n",
       "    <tr>\n",
       "      <th rowspan=\"4\" valign=\"top\">one</th>\n",
       "      <th>a</th>\n",
       "      <td>1</td>\n",
       "      <td>2</td>\n",
       "    </tr>\n",
       "    <tr>\n",
       "      <th>b</th>\n",
       "      <td>3</td>\n",
       "      <td>4</td>\n",
       "    </tr>\n",
       "    <tr>\n",
       "      <th>c</th>\n",
       "      <td>5</td>\n",
       "      <td>6</td>\n",
       "    </tr>\n",
       "    <tr>\n",
       "      <th>d</th>\n",
       "      <td>7</td>\n",
       "      <td>8</td>\n",
       "    </tr>\n",
       "    <tr>\n",
       "      <th rowspan=\"4\" valign=\"top\">two</th>\n",
       "      <th>a</th>\n",
       "      <td>9</td>\n",
       "      <td>10</td>\n",
       "    </tr>\n",
       "    <tr>\n",
       "      <th>b</th>\n",
       "      <td>11</td>\n",
       "      <td>12</td>\n",
       "    </tr>\n",
       "    <tr>\n",
       "      <th>c</th>\n",
       "      <td>13</td>\n",
       "      <td>14</td>\n",
       "    </tr>\n",
       "    <tr>\n",
       "      <th>d</th>\n",
       "      <td>15</td>\n",
       "      <td>16</td>\n",
       "    </tr>\n",
       "  </tbody>\n",
       "</table>\n",
       "</div>"
      ],
      "text/plain": [
       "           value1  value2\n",
       "key1 key2                \n",
       "one  a          1       2\n",
       "     b          3       4\n",
       "     c          5       6\n",
       "     d          7       8\n",
       "two  a          9      10\n",
       "     b         11      12\n",
       "     c         13      14\n",
       "     d         15      16"
      ]
     },
     "execution_count": 28,
     "metadata": {},
     "output_type": "execute_result"
    }
   ],
   "source": [
    "parsed=pd.read_csv('csv_mindex.csv',index_col=['key1','key2'])\n",
    "parsed[]"
   ]
  },
  {
   "cell_type": "code",
   "execution_count": 75,
   "metadata": {},
   "outputs": [
    {
     "data": {
      "text/plain": [
       "MultiIndex([('one', 'a'),\n",
       "            ('one', 'b'),\n",
       "            ('one', 'c'),\n",
       "            ('one', 'd'),\n",
       "            ('two', 'a'),\n",
       "            ('two', 'b'),\n",
       "            ('two', 'c'),\n",
       "            ('two', 'd')],\n",
       "           names=['key1', 'key2'])"
      ]
     },
     "execution_count": 75,
     "metadata": {},
     "output_type": "execute_result"
    }
   ],
   "source": [
    "parsed.index "
   ]
  },
  {
   "cell_type": "code",
   "execution_count": null,
   "metadata": {},
   "outputs": [],
   "source": [
    "##chunk size- of data to be stored "
   ]
  },
  {
   "cell_type": "code",
   "execution_count": 30,
   "metadata": {},
   "outputs": [
    {
     "data": {
      "text/html": [
       "<div>\n",
       "<style scoped>\n",
       "    .dataframe tbody tr th:only-of-type {\n",
       "        vertical-align: middle;\n",
       "    }\n",
       "\n",
       "    .dataframe tbody tr th {\n",
       "        vertical-align: top;\n",
       "    }\n",
       "\n",
       "    .dataframe thead th {\n",
       "        text-align: right;\n",
       "    }\n",
       "</style>\n",
       "<table border=\"1\" class=\"dataframe\">\n",
       "  <thead>\n",
       "    <tr style=\"text-align: right;\">\n",
       "      <th></th>\n",
       "      <th></th>\n",
       "      <th></th>\n",
       "      <th></th>\n",
       "      <th># hey!</th>\n",
       "    </tr>\n",
       "  </thead>\n",
       "  <tbody>\n",
       "    <tr>\n",
       "      <th>a</th>\n",
       "      <th>b</th>\n",
       "      <th>c</th>\n",
       "      <th>d</th>\n",
       "      <td>message</td>\n",
       "    </tr>\n",
       "    <tr>\n",
       "      <th># just wanted to make things more difficult for you</th>\n",
       "      <th>NaN</th>\n",
       "      <th>NaN</th>\n",
       "      <th>NaN</th>\n",
       "      <td>NaN</td>\n",
       "    </tr>\n",
       "    <tr>\n",
       "      <th># who reads CSV files with computers</th>\n",
       "      <th>anyway?</th>\n",
       "      <th>NaN</th>\n",
       "      <th>NaN</th>\n",
       "      <td>NaN</td>\n",
       "    </tr>\n",
       "    <tr>\n",
       "      <th>1</th>\n",
       "      <th>2</th>\n",
       "      <th>3</th>\n",
       "      <th>4</th>\n",
       "      <td>hello</td>\n",
       "    </tr>\n",
       "    <tr>\n",
       "      <th>5</th>\n",
       "      <th>6</th>\n",
       "      <th>7</th>\n",
       "      <th>8</th>\n",
       "      <td>world</td>\n",
       "    </tr>\n",
       "    <tr>\n",
       "      <th>9</th>\n",
       "      <th>10</th>\n",
       "      <th>11</th>\n",
       "      <th>12</th>\n",
       "      <td>foo</td>\n",
       "    </tr>\n",
       "  </tbody>\n",
       "</table>\n",
       "</div>"
      ],
      "text/plain": [
       "                                                                      # hey!\n",
       "a                                                  b        c   d    message\n",
       "# just wanted to make things more difficult for... NaN      NaN NaN      NaN\n",
       "# who reads CSV files with computers                anyway? NaN NaN      NaN\n",
       "1                                                  2        3   4      hello\n",
       "5                                                  6        7   8      world\n",
       "9                                                  10       11  12       foo"
      ]
     },
     "execution_count": 30,
     "metadata": {},
     "output_type": "execute_result"
    }
   ],
   "source": [
    "pd.read_csv('ex4.csv')"
   ]
  },
  {
   "cell_type": "code",
   "execution_count": 36,
   "metadata": {},
   "outputs": [
    {
     "data": {
      "text/html": [
       "<div>\n",
       "<style scoped>\n",
       "    .dataframe tbody tr th:only-of-type {\n",
       "        vertical-align: middle;\n",
       "    }\n",
       "\n",
       "    .dataframe tbody tr th {\n",
       "        vertical-align: top;\n",
       "    }\n",
       "\n",
       "    .dataframe thead th {\n",
       "        text-align: right;\n",
       "    }\n",
       "</style>\n",
       "<table border=\"1\" class=\"dataframe\">\n",
       "  <thead>\n",
       "    <tr style=\"text-align: right;\">\n",
       "      <th></th>\n",
       "      <th>a</th>\n",
       "      <th>b</th>\n",
       "      <th>c</th>\n",
       "      <th>d</th>\n",
       "      <th>message</th>\n",
       "    </tr>\n",
       "  </thead>\n",
       "  <tbody>\n",
       "    <tr>\n",
       "      <th>0</th>\n",
       "      <td>1</td>\n",
       "      <td>2</td>\n",
       "      <td>3</td>\n",
       "      <td>4</td>\n",
       "      <td>hello</td>\n",
       "    </tr>\n",
       "    <tr>\n",
       "      <th>1</th>\n",
       "      <td>5</td>\n",
       "      <td>6</td>\n",
       "      <td>7</td>\n",
       "      <td>8</td>\n",
       "      <td>world</td>\n",
       "    </tr>\n",
       "    <tr>\n",
       "      <th>2</th>\n",
       "      <td>9</td>\n",
       "      <td>10</td>\n",
       "      <td>11</td>\n",
       "      <td>12</td>\n",
       "      <td>foo</td>\n",
       "    </tr>\n",
       "  </tbody>\n",
       "</table>\n",
       "</div>"
      ],
      "text/plain": [
       "   a   b   c   d message\n",
       "0  1   2   3   4   hello\n",
       "1  5   6   7   8   world\n",
       "2  9  10  11  12     foo"
      ]
     },
     "execution_count": 36,
     "metadata": {},
     "output_type": "execute_result"
    }
   ],
   "source": [
    "pd.read_csv('ex4.csv',skiprows=[0,2,3]) ##skipping unwanted  rows"
   ]
  },
  {
   "cell_type": "code",
   "execution_count": 42,
   "metadata": {},
   "outputs": [
    {
     "data": {
      "text/html": [
       "<div>\n",
       "<style scoped>\n",
       "    .dataframe tbody tr th:only-of-type {\n",
       "        vertical-align: middle;\n",
       "    }\n",
       "\n",
       "    .dataframe tbody tr th {\n",
       "        vertical-align: top;\n",
       "    }\n",
       "\n",
       "    .dataframe thead th {\n",
       "        text-align: right;\n",
       "    }\n",
       "</style>\n",
       "<table border=\"1\" class=\"dataframe\">\n",
       "  <thead>\n",
       "    <tr style=\"text-align: right;\">\n",
       "      <th></th>\n",
       "      <th>something</th>\n",
       "      <th>a</th>\n",
       "      <th>b</th>\n",
       "      <th>c</th>\n",
       "      <th>d</th>\n",
       "      <th>message</th>\n",
       "    </tr>\n",
       "  </thead>\n",
       "  <tbody>\n",
       "    <tr>\n",
       "      <th>0</th>\n",
       "      <td>one</td>\n",
       "      <td>1</td>\n",
       "      <td>2</td>\n",
       "      <td>3.0</td>\n",
       "      <td>4</td>\n",
       "      <td>NaN</td>\n",
       "    </tr>\n",
       "    <tr>\n",
       "      <th>1</th>\n",
       "      <td>two</td>\n",
       "      <td>5</td>\n",
       "      <td>6</td>\n",
       "      <td>NaN</td>\n",
       "      <td>8</td>\n",
       "      <td>world</td>\n",
       "    </tr>\n",
       "    <tr>\n",
       "      <th>2</th>\n",
       "      <td>three</td>\n",
       "      <td>9</td>\n",
       "      <td>10</td>\n",
       "      <td>11.0</td>\n",
       "      <td>12</td>\n",
       "      <td>foo</td>\n",
       "    </tr>\n",
       "  </tbody>\n",
       "</table>\n",
       "</div>"
      ],
      "text/plain": [
       "  something  a   b     c   d message\n",
       "0       one  1   2   3.0   4     NaN\n",
       "1       two  5   6   NaN   8   world\n",
       "2     three  9  10  11.0  12     foo"
      ]
     },
     "execution_count": 42,
     "metadata": {},
     "output_type": "execute_result"
    }
   ],
   "source": [
    "pd.read_csv('ex5.csv') ##NAN is empty value "
   ]
  },
  {
   "cell_type": "code",
   "execution_count": 72,
   "metadata": {},
   "outputs": [
    {
     "data": {
      "text/html": [
       "<div>\n",
       "<style scoped>\n",
       "    .dataframe tbody tr th:only-of-type {\n",
       "        vertical-align: middle;\n",
       "    }\n",
       "\n",
       "    .dataframe tbody tr th {\n",
       "        vertical-align: top;\n",
       "    }\n",
       "\n",
       "    .dataframe thead th {\n",
       "        text-align: right;\n",
       "    }\n",
       "</style>\n",
       "<table border=\"1\" class=\"dataframe\">\n",
       "  <thead>\n",
       "    <tr style=\"text-align: right;\">\n",
       "      <th></th>\n",
       "      <th>something</th>\n",
       "      <th>a</th>\n",
       "      <th>b</th>\n",
       "      <th>c</th>\n",
       "      <th>d</th>\n",
       "      <th>message</th>\n",
       "    </tr>\n",
       "  </thead>\n",
       "  <tbody>\n",
       "    <tr>\n",
       "      <th>0</th>\n",
       "      <td>False</td>\n",
       "      <td>False</td>\n",
       "      <td>False</td>\n",
       "      <td>False</td>\n",
       "      <td>False</td>\n",
       "      <td>True</td>\n",
       "    </tr>\n",
       "    <tr>\n",
       "      <th>1</th>\n",
       "      <td>False</td>\n",
       "      <td>False</td>\n",
       "      <td>False</td>\n",
       "      <td>True</td>\n",
       "      <td>False</td>\n",
       "      <td>False</td>\n",
       "    </tr>\n",
       "    <tr>\n",
       "      <th>2</th>\n",
       "      <td>False</td>\n",
       "      <td>False</td>\n",
       "      <td>False</td>\n",
       "      <td>False</td>\n",
       "      <td>False</td>\n",
       "      <td>False</td>\n",
       "    </tr>\n",
       "  </tbody>\n",
       "</table>\n",
       "</div>"
      ],
      "text/plain": [
       "   something      a      b      c      d  message\n",
       "0      False  False  False  False  False     True\n",
       "1      False  False  False   True  False    False\n",
       "2      False  False  False  False  False    False"
      ]
     },
     "execution_count": 72,
     "metadata": {},
     "output_type": "execute_result"
    }
   ],
   "source": [
    "##to check whether we have NaN values in data \n",
    "import pandas as pd \n",
    "df=pd.read_csv('ex5.csv')\n",
    "pd.isnull(df)\n"
   ]
  },
  {
   "cell_type": "code",
   "execution_count": 74,
   "metadata": {},
   "outputs": [
    {
     "data": {
      "text/plain": [
       "<bound method DataFrame.sum of    something      a      b      c      d  message\n",
       "0      False  False  False  False  False     True\n",
       "1      False  False  False   True  False    False\n",
       "2      False  False  False  False  False    False>"
      ]
     },
     "execution_count": 74,
     "metadata": {},
     "output_type": "execute_result"
    }
   ],
   "source": [
    "df.isnull().sum"
   ]
  },
  {
   "cell_type": "code",
   "execution_count": 80,
   "metadata": {},
   "outputs": [
    {
     "data": {
      "text/html": [
       "<div>\n",
       "<style scoped>\n",
       "    .dataframe tbody tr th:only-of-type {\n",
       "        vertical-align: middle;\n",
       "    }\n",
       "\n",
       "    .dataframe tbody tr th {\n",
       "        vertical-align: top;\n",
       "    }\n",
       "\n",
       "    .dataframe thead th {\n",
       "        text-align: right;\n",
       "    }\n",
       "</style>\n",
       "<table border=\"1\" class=\"dataframe\">\n",
       "  <thead>\n",
       "    <tr style=\"text-align: right;\">\n",
       "      <th></th>\n",
       "      <th>something</th>\n",
       "      <th>a</th>\n",
       "      <th>b</th>\n",
       "      <th>c</th>\n",
       "      <th>d</th>\n",
       "      <th>message</th>\n",
       "    </tr>\n",
       "  </thead>\n",
       "  <tbody>\n",
       "    <tr>\n",
       "      <th>0</th>\n",
       "      <td>one</td>\n",
       "      <td>1</td>\n",
       "      <td>2</td>\n",
       "      <td>3</td>\n",
       "      <td>4</td>\n",
       "      <td>null</td>\n",
       "    </tr>\n",
       "    <tr>\n",
       "      <th>1</th>\n",
       "      <td>two</td>\n",
       "      <td>5</td>\n",
       "      <td>6</td>\n",
       "      <td>null</td>\n",
       "      <td>8</td>\n",
       "      <td>world</td>\n",
       "    </tr>\n",
       "    <tr>\n",
       "      <th>2</th>\n",
       "      <td>three</td>\n",
       "      <td>9</td>\n",
       "      <td>10</td>\n",
       "      <td>11</td>\n",
       "      <td>12</td>\n",
       "      <td>foo</td>\n",
       "    </tr>\n",
       "  </tbody>\n",
       "</table>\n",
       "</div>"
      ],
      "text/plain": [
       "  something  a   b     c   d message\n",
       "0       one  1   2     3   4    null\n",
       "1       two  5   6  null   8   world\n",
       "2     three  9  10    11  12     foo"
      ]
     },
     "execution_count": 80,
     "metadata": {},
     "output_type": "execute_result"
    }
   ],
   "source": [
    " ##CHANGE NAN TO NULL\n",
    "df.fillna('null')\n"
   ]
  },
  {
   "cell_type": "code",
   "execution_count": 52,
   "metadata": {},
   "outputs": [
    {
     "data": {
      "text/html": [
       "<div>\n",
       "<style scoped>\n",
       "    .dataframe tbody tr th:only-of-type {\n",
       "        vertical-align: middle;\n",
       "    }\n",
       "\n",
       "    .dataframe tbody tr th {\n",
       "        vertical-align: top;\n",
       "    }\n",
       "\n",
       "    .dataframe thead th {\n",
       "        text-align: right;\n",
       "    }\n",
       "</style>\n",
       "<table border=\"1\" class=\"dataframe\">\n",
       "  <thead>\n",
       "    <tr style=\"text-align: right;\">\n",
       "      <th></th>\n",
       "      <th>Unnamed: 0</th>\n",
       "      <th>a</th>\n",
       "      <th>b</th>\n",
       "      <th>c</th>\n",
       "      <th>d</th>\n",
       "      <th>message</th>\n",
       "    </tr>\n",
       "  </thead>\n",
       "  <tbody>\n",
       "    <tr>\n",
       "      <th>0</th>\n",
       "      <td>0</td>\n",
       "      <td>1</td>\n",
       "      <td>2</td>\n",
       "      <td>3</td>\n",
       "      <td>4</td>\n",
       "      <td>hello</td>\n",
       "    </tr>\n",
       "    <tr>\n",
       "      <th>1</th>\n",
       "      <td>1</td>\n",
       "      <td>5</td>\n",
       "      <td>6</td>\n",
       "      <td>7</td>\n",
       "      <td>8</td>\n",
       "      <td>world</td>\n",
       "    </tr>\n",
       "    <tr>\n",
       "      <th>2</th>\n",
       "      <td>2</td>\n",
       "      <td>9</td>\n",
       "      <td>10</td>\n",
       "      <td>11</td>\n",
       "      <td>12</td>\n",
       "      <td>foo</td>\n",
       "    </tr>\n",
       "  </tbody>\n",
       "</table>\n",
       "</div>"
      ],
      "text/plain": [
       "   Unnamed: 0  a   b   c   d message\n",
       "0           0  1   2   3   4   hello\n",
       "1           1  5   6   7   8   world\n",
       "2           2  9  10  11  12     foo"
      ]
     },
     "execution_count": 52,
     "metadata": {},
     "output_type": "execute_result"
    }
   ],
   "source": [
    "##reading excel (specify sheet name ) \n",
    "pd.read_excel('ex1.xlsx',sheet_name='Sheet1')"
   ]
  },
  {
   "cell_type": "code",
   "execution_count": 56,
   "metadata": {},
   "outputs": [
    {
     "name": "stdout",
     "output_type": "stream",
     "text": [
      "Requirement already satisfied: lxml in c:\\programdata\\anaconda3\\lib\\site-packages (4.6.1)\n"
     ]
    }
   ],
   "source": [
    "!pip install lxml"
   ]
  },
  {
   "cell_type": "code",
   "execution_count": 64,
   "metadata": {},
   "outputs": [],
   "source": [
    "## reading html files  ##type will be list \n",
    "table_info=pd.read_html('fdic_failed_bank_list.html') ##can be done using website that has table data "
   ]
  },
  {
   "cell_type": "code",
   "execution_count": 65,
   "metadata": {},
   "outputs": [
    {
     "data": {
      "text/plain": [
       "[                             Bank Name             City  ST   CERT  \\\n",
       " 0                          Allied Bank         Mulberry  AR     91   \n",
       " 1         The Woodbury Banking Company         Woodbury  GA  11297   \n",
       " 2               First CornerStone Bank  King of Prussia  PA  35312   \n",
       " 3                   Trust Company Bank          Memphis  TN   9956   \n",
       " 4           North Milwaukee State Bank        Milwaukee  WI  20364   \n",
       " ..                                 ...              ...  ..    ...   \n",
       " 542                 Superior Bank, FSB         Hinsdale  IL  32646   \n",
       " 543                Malta National Bank            Malta  OH   6629   \n",
       " 544    First Alliance Bank & Trust Co.       Manchester  NH  34264   \n",
       " 545  National State Bank of Metropolis       Metropolis  IL   3815   \n",
       " 546                   Bank of Honolulu         Honolulu  HI  21029   \n",
       " \n",
       "                    Acquiring Institution        Closing Date  \\\n",
       " 0                           Today's Bank  September 23, 2016   \n",
       " 1                            United Bank     August 19, 2016   \n",
       " 2    First-Citizens Bank & Trust Company         May 6, 2016   \n",
       " 3             The Bank of Fayette County      April 29, 2016   \n",
       " 4    First-Citizens Bank & Trust Company      March 11, 2016   \n",
       " ..                                   ...                 ...   \n",
       " 542                Superior Federal, FSB       July 27, 2001   \n",
       " 543                    North Valley Bank         May 3, 2001   \n",
       " 544  Southern New Hampshire Bank & Trust    February 2, 2001   \n",
       " 545              Banterra Bank of Marion   December 14, 2000   \n",
       " 546                   Bank of the Orient    October 13, 2000   \n",
       " \n",
       "           Updated Date  \n",
       " 0    November 17, 2016  \n",
       " 1    November 17, 2016  \n",
       " 2    September 6, 2016  \n",
       " 3    September 6, 2016  \n",
       " 4        June 16, 2016  \n",
       " ..                 ...  \n",
       " 542    August 19, 2014  \n",
       " 543  November 18, 2002  \n",
       " 544  February 18, 2003  \n",
       " 545     March 17, 2005  \n",
       " 546     March 17, 2005  \n",
       " \n",
       " [547 rows x 7 columns]]"
      ]
     },
     "execution_count": 65,
     "metadata": {},
     "output_type": "execute_result"
    }
   ],
   "source": [
    "table_info"
   ]
  },
  {
   "cell_type": "code",
   "execution_count": 66,
   "metadata": {},
   "outputs": [
    {
     "data": {
      "text/html": [
       "<div>\n",
       "<style scoped>\n",
       "    .dataframe tbody tr th:only-of-type {\n",
       "        vertical-align: middle;\n",
       "    }\n",
       "\n",
       "    .dataframe tbody tr th {\n",
       "        vertical-align: top;\n",
       "    }\n",
       "\n",
       "    .dataframe thead th {\n",
       "        text-align: right;\n",
       "    }\n",
       "</style>\n",
       "<table border=\"1\" class=\"dataframe\">\n",
       "  <thead>\n",
       "    <tr style=\"text-align: right;\">\n",
       "      <th></th>\n",
       "      <th>Bank Name</th>\n",
       "      <th>City</th>\n",
       "      <th>ST</th>\n",
       "      <th>CERT</th>\n",
       "      <th>Acquiring Institution</th>\n",
       "      <th>Closing Date</th>\n",
       "      <th>Updated Date</th>\n",
       "    </tr>\n",
       "  </thead>\n",
       "  <tbody>\n",
       "    <tr>\n",
       "      <th>0</th>\n",
       "      <td>Allied Bank</td>\n",
       "      <td>Mulberry</td>\n",
       "      <td>AR</td>\n",
       "      <td>91</td>\n",
       "      <td>Today's Bank</td>\n",
       "      <td>September 23, 2016</td>\n",
       "      <td>November 17, 2016</td>\n",
       "    </tr>\n",
       "    <tr>\n",
       "      <th>1</th>\n",
       "      <td>The Woodbury Banking Company</td>\n",
       "      <td>Woodbury</td>\n",
       "      <td>GA</td>\n",
       "      <td>11297</td>\n",
       "      <td>United Bank</td>\n",
       "      <td>August 19, 2016</td>\n",
       "      <td>November 17, 2016</td>\n",
       "    </tr>\n",
       "    <tr>\n",
       "      <th>2</th>\n",
       "      <td>First CornerStone Bank</td>\n",
       "      <td>King of Prussia</td>\n",
       "      <td>PA</td>\n",
       "      <td>35312</td>\n",
       "      <td>First-Citizens Bank &amp; Trust Company</td>\n",
       "      <td>May 6, 2016</td>\n",
       "      <td>September 6, 2016</td>\n",
       "    </tr>\n",
       "    <tr>\n",
       "      <th>3</th>\n",
       "      <td>Trust Company Bank</td>\n",
       "      <td>Memphis</td>\n",
       "      <td>TN</td>\n",
       "      <td>9956</td>\n",
       "      <td>The Bank of Fayette County</td>\n",
       "      <td>April 29, 2016</td>\n",
       "      <td>September 6, 2016</td>\n",
       "    </tr>\n",
       "    <tr>\n",
       "      <th>4</th>\n",
       "      <td>North Milwaukee State Bank</td>\n",
       "      <td>Milwaukee</td>\n",
       "      <td>WI</td>\n",
       "      <td>20364</td>\n",
       "      <td>First-Citizens Bank &amp; Trust Company</td>\n",
       "      <td>March 11, 2016</td>\n",
       "      <td>June 16, 2016</td>\n",
       "    </tr>\n",
       "    <tr>\n",
       "      <th>...</th>\n",
       "      <td>...</td>\n",
       "      <td>...</td>\n",
       "      <td>...</td>\n",
       "      <td>...</td>\n",
       "      <td>...</td>\n",
       "      <td>...</td>\n",
       "      <td>...</td>\n",
       "    </tr>\n",
       "    <tr>\n",
       "      <th>542</th>\n",
       "      <td>Superior Bank, FSB</td>\n",
       "      <td>Hinsdale</td>\n",
       "      <td>IL</td>\n",
       "      <td>32646</td>\n",
       "      <td>Superior Federal, FSB</td>\n",
       "      <td>July 27, 2001</td>\n",
       "      <td>August 19, 2014</td>\n",
       "    </tr>\n",
       "    <tr>\n",
       "      <th>543</th>\n",
       "      <td>Malta National Bank</td>\n",
       "      <td>Malta</td>\n",
       "      <td>OH</td>\n",
       "      <td>6629</td>\n",
       "      <td>North Valley Bank</td>\n",
       "      <td>May 3, 2001</td>\n",
       "      <td>November 18, 2002</td>\n",
       "    </tr>\n",
       "    <tr>\n",
       "      <th>544</th>\n",
       "      <td>First Alliance Bank &amp; Trust Co.</td>\n",
       "      <td>Manchester</td>\n",
       "      <td>NH</td>\n",
       "      <td>34264</td>\n",
       "      <td>Southern New Hampshire Bank &amp; Trust</td>\n",
       "      <td>February 2, 2001</td>\n",
       "      <td>February 18, 2003</td>\n",
       "    </tr>\n",
       "    <tr>\n",
       "      <th>545</th>\n",
       "      <td>National State Bank of Metropolis</td>\n",
       "      <td>Metropolis</td>\n",
       "      <td>IL</td>\n",
       "      <td>3815</td>\n",
       "      <td>Banterra Bank of Marion</td>\n",
       "      <td>December 14, 2000</td>\n",
       "      <td>March 17, 2005</td>\n",
       "    </tr>\n",
       "    <tr>\n",
       "      <th>546</th>\n",
       "      <td>Bank of Honolulu</td>\n",
       "      <td>Honolulu</td>\n",
       "      <td>HI</td>\n",
       "      <td>21029</td>\n",
       "      <td>Bank of the Orient</td>\n",
       "      <td>October 13, 2000</td>\n",
       "      <td>March 17, 2005</td>\n",
       "    </tr>\n",
       "  </tbody>\n",
       "</table>\n",
       "<p>547 rows × 7 columns</p>\n",
       "</div>"
      ],
      "text/plain": [
       "                             Bank Name             City  ST   CERT  \\\n",
       "0                          Allied Bank         Mulberry  AR     91   \n",
       "1         The Woodbury Banking Company         Woodbury  GA  11297   \n",
       "2               First CornerStone Bank  King of Prussia  PA  35312   \n",
       "3                   Trust Company Bank          Memphis  TN   9956   \n",
       "4           North Milwaukee State Bank        Milwaukee  WI  20364   \n",
       "..                                 ...              ...  ..    ...   \n",
       "542                 Superior Bank, FSB         Hinsdale  IL  32646   \n",
       "543                Malta National Bank            Malta  OH   6629   \n",
       "544    First Alliance Bank & Trust Co.       Manchester  NH  34264   \n",
       "545  National State Bank of Metropolis       Metropolis  IL   3815   \n",
       "546                   Bank of Honolulu         Honolulu  HI  21029   \n",
       "\n",
       "                   Acquiring Institution        Closing Date  \\\n",
       "0                           Today's Bank  September 23, 2016   \n",
       "1                            United Bank     August 19, 2016   \n",
       "2    First-Citizens Bank & Trust Company         May 6, 2016   \n",
       "3             The Bank of Fayette County      April 29, 2016   \n",
       "4    First-Citizens Bank & Trust Company      March 11, 2016   \n",
       "..                                   ...                 ...   \n",
       "542                Superior Federal, FSB       July 27, 2001   \n",
       "543                    North Valley Bank         May 3, 2001   \n",
       "544  Southern New Hampshire Bank & Trust    February 2, 2001   \n",
       "545              Banterra Bank of Marion   December 14, 2000   \n",
       "546                   Bank of the Orient    October 13, 2000   \n",
       "\n",
       "          Updated Date  \n",
       "0    November 17, 2016  \n",
       "1    November 17, 2016  \n",
       "2    September 6, 2016  \n",
       "3    September 6, 2016  \n",
       "4        June 16, 2016  \n",
       "..                 ...  \n",
       "542    August 19, 2014  \n",
       "543  November 18, 2002  \n",
       "544  February 18, 2003  \n",
       "545     March 17, 2005  \n",
       "546     March 17, 2005  \n",
       "\n",
       "[547 rows x 7 columns]"
      ]
     },
     "execution_count": 66,
     "metadata": {},
     "output_type": "execute_result"
    }
   ],
   "source": [
    "table_info[0] ##whole table is considered as one data frame with zero "
   ]
  },
  {
   "cell_type": "code",
   "execution_count": 5,
   "metadata": {},
   "outputs": [],
   "source": [
    "url='https://www.fdic.gov/bank/individual/failed/banklist.html'\n",
    "dfs=pd.read_html(url)"
   ]
  },
  {
   "cell_type": "code",
   "execution_count": 10,
   "metadata": {},
   "outputs": [
    {
     "data": {
      "text/html": [
       "<div>\n",
       "<style scoped>\n",
       "    .dataframe tbody tr th:only-of-type {\n",
       "        vertical-align: middle;\n",
       "    }\n",
       "\n",
       "    .dataframe tbody tr th {\n",
       "        vertical-align: top;\n",
       "    }\n",
       "\n",
       "    .dataframe thead th {\n",
       "        text-align: right;\n",
       "    }\n",
       "</style>\n",
       "<table border=\"1\" class=\"dataframe\">\n",
       "  <thead>\n",
       "    <tr style=\"text-align: right;\">\n",
       "      <th></th>\n",
       "      <th>Bank Name</th>\n",
       "      <th>City</th>\n",
       "      <th>ST</th>\n",
       "      <th>CERT</th>\n",
       "      <th>Acquiring Institution</th>\n",
       "      <th>Closing Date</th>\n",
       "    </tr>\n",
       "  </thead>\n",
       "  <tbody>\n",
       "    <tr>\n",
       "      <th>0</th>\n",
       "      <td>Almena State Bank</td>\n",
       "      <td>Almena</td>\n",
       "      <td>KS</td>\n",
       "      <td>15426</td>\n",
       "      <td>Equity Bank</td>\n",
       "      <td>October 23, 2020</td>\n",
       "    </tr>\n",
       "    <tr>\n",
       "      <th>1</th>\n",
       "      <td>First City Bank of Florida</td>\n",
       "      <td>Fort Walton Beach</td>\n",
       "      <td>FL</td>\n",
       "      <td>16748</td>\n",
       "      <td>United Fidelity Bank, fsb</td>\n",
       "      <td>October 16, 2020</td>\n",
       "    </tr>\n",
       "    <tr>\n",
       "      <th>2</th>\n",
       "      <td>The First State Bank</td>\n",
       "      <td>Barboursville</td>\n",
       "      <td>WV</td>\n",
       "      <td>14361</td>\n",
       "      <td>MVB Bank, Inc.</td>\n",
       "      <td>April 3, 2020</td>\n",
       "    </tr>\n",
       "    <tr>\n",
       "      <th>3</th>\n",
       "      <td>Ericson State Bank</td>\n",
       "      <td>Ericson</td>\n",
       "      <td>NE</td>\n",
       "      <td>18265</td>\n",
       "      <td>Farmers and Merchants Bank</td>\n",
       "      <td>February 14, 2020</td>\n",
       "    </tr>\n",
       "    <tr>\n",
       "      <th>4</th>\n",
       "      <td>City National Bank of New Jersey</td>\n",
       "      <td>Newark</td>\n",
       "      <td>NJ</td>\n",
       "      <td>21111</td>\n",
       "      <td>Industrial Bank</td>\n",
       "      <td>November 1, 2019</td>\n",
       "    </tr>\n",
       "    <tr>\n",
       "      <th>...</th>\n",
       "      <td>...</td>\n",
       "      <td>...</td>\n",
       "      <td>...</td>\n",
       "      <td>...</td>\n",
       "      <td>...</td>\n",
       "      <td>...</td>\n",
       "    </tr>\n",
       "    <tr>\n",
       "      <th>558</th>\n",
       "      <td>Superior Bank, FSB</td>\n",
       "      <td>Hinsdale</td>\n",
       "      <td>IL</td>\n",
       "      <td>32646</td>\n",
       "      <td>Superior Federal, FSB</td>\n",
       "      <td>July 27, 2001</td>\n",
       "    </tr>\n",
       "    <tr>\n",
       "      <th>559</th>\n",
       "      <td>Malta National Bank</td>\n",
       "      <td>Malta</td>\n",
       "      <td>OH</td>\n",
       "      <td>6629</td>\n",
       "      <td>North Valley Bank</td>\n",
       "      <td>May 3, 2001</td>\n",
       "    </tr>\n",
       "    <tr>\n",
       "      <th>560</th>\n",
       "      <td>First Alliance Bank &amp; Trust Co.</td>\n",
       "      <td>Manchester</td>\n",
       "      <td>NH</td>\n",
       "      <td>34264</td>\n",
       "      <td>Southern New Hampshire Bank &amp; Trust</td>\n",
       "      <td>February 2, 2001</td>\n",
       "    </tr>\n",
       "    <tr>\n",
       "      <th>561</th>\n",
       "      <td>National State Bank of Metropolis</td>\n",
       "      <td>Metropolis</td>\n",
       "      <td>IL</td>\n",
       "      <td>3815</td>\n",
       "      <td>Banterra Bank of Marion</td>\n",
       "      <td>December 14, 2000</td>\n",
       "    </tr>\n",
       "    <tr>\n",
       "      <th>562</th>\n",
       "      <td>Bank of Honolulu</td>\n",
       "      <td>Honolulu</td>\n",
       "      <td>HI</td>\n",
       "      <td>21029</td>\n",
       "      <td>Bank of the Orient</td>\n",
       "      <td>October 13, 2000</td>\n",
       "    </tr>\n",
       "  </tbody>\n",
       "</table>\n",
       "<p>563 rows × 6 columns</p>\n",
       "</div>"
      ],
      "text/plain": [
       "                             Bank Name               City  ST   CERT  \\\n",
       "0                    Almena State Bank             Almena  KS  15426   \n",
       "1           First City Bank of Florida  Fort Walton Beach  FL  16748   \n",
       "2                 The First State Bank      Barboursville  WV  14361   \n",
       "3                   Ericson State Bank            Ericson  NE  18265   \n",
       "4     City National Bank of New Jersey             Newark  NJ  21111   \n",
       "..                                 ...                ...  ..    ...   \n",
       "558                 Superior Bank, FSB           Hinsdale  IL  32646   \n",
       "559                Malta National Bank              Malta  OH   6629   \n",
       "560    First Alliance Bank & Trust Co.         Manchester  NH  34264   \n",
       "561  National State Bank of Metropolis         Metropolis  IL   3815   \n",
       "562                   Bank of Honolulu           Honolulu  HI  21029   \n",
       "\n",
       "                   Acquiring Institution       Closing Date  \n",
       "0                            Equity Bank   October 23, 2020  \n",
       "1              United Fidelity Bank, fsb   October 16, 2020  \n",
       "2                         MVB Bank, Inc.      April 3, 2020  \n",
       "3             Farmers and Merchants Bank  February 14, 2020  \n",
       "4                        Industrial Bank   November 1, 2019  \n",
       "..                                   ...                ...  \n",
       "558                Superior Federal, FSB      July 27, 2001  \n",
       "559                    North Valley Bank        May 3, 2001  \n",
       "560  Southern New Hampshire Bank & Trust   February 2, 2001  \n",
       "561              Banterra Bank of Marion  December 14, 2000  \n",
       "562                   Bank of the Orient   October 13, 2000  \n",
       "\n",
       "[563 rows x 6 columns]"
      ]
     },
     "execution_count": 10,
     "metadata": {},
     "output_type": "execute_result"
    }
   ],
   "source": [
    "dfs[0]"
   ]
  },
  {
   "cell_type": "code",
   "execution_count": 8,
   "metadata": {},
   "outputs": [
    {
     "data": {
      "text/plain": [
       "list"
      ]
     },
     "execution_count": 8,
     "metadata": {},
     "output_type": "execute_result"
    }
   ],
   "source": [
    "type(dfs)"
   ]
  },
  {
   "cell_type": "code",
   "execution_count": 11,
   "metadata": {},
   "outputs": [],
   "source": [
    "url_mcc='https://en.wikipedia.org/wiki/Mobile_country_code'\n",
    "dfs=pd.read_html(url_mcc,match='country',header=0) ##match is used to select the particular table in a website that has many tables"
   ]
  },
  {
   "cell_type": "code",
   "execution_count": 13,
   "metadata": {},
   "outputs": [
    {
     "data": {
      "text/html": [
       "<div>\n",
       "<style scoped>\n",
       "    .dataframe tbody tr th:only-of-type {\n",
       "        vertical-align: middle;\n",
       "    }\n",
       "\n",
       "    .dataframe tbody tr th {\n",
       "        vertical-align: top;\n",
       "    }\n",
       "\n",
       "    .dataframe thead th {\n",
       "        text-align: right;\n",
       "    }\n",
       "</style>\n",
       "<table border=\"1\" class=\"dataframe\">\n",
       "  <thead>\n",
       "    <tr style=\"text-align: right;\">\n",
       "      <th></th>\n",
       "      <th>Mobile country code</th>\n",
       "      <th>Country</th>\n",
       "      <th>ISO 3166</th>\n",
       "      <th>Mobile network codes</th>\n",
       "      <th>National MNC authority</th>\n",
       "      <th>Remarks</th>\n",
       "    </tr>\n",
       "  </thead>\n",
       "  <tbody>\n",
       "    <tr>\n",
       "      <th>0</th>\n",
       "      <td>289</td>\n",
       "      <td>A Abkhazia</td>\n",
       "      <td>GE-AB</td>\n",
       "      <td>List of mobile network codes in Abkhazia</td>\n",
       "      <td>NaN</td>\n",
       "      <td>MCC is not listed by ITU</td>\n",
       "    </tr>\n",
       "    <tr>\n",
       "      <th>1</th>\n",
       "      <td>412</td>\n",
       "      <td>Afghanistan</td>\n",
       "      <td>AF</td>\n",
       "      <td>List of mobile network codes in Afghanistan</td>\n",
       "      <td>NaN</td>\n",
       "      <td>NaN</td>\n",
       "    </tr>\n",
       "    <tr>\n",
       "      <th>2</th>\n",
       "      <td>276</td>\n",
       "      <td>Albania</td>\n",
       "      <td>AL</td>\n",
       "      <td>List of mobile network codes in Albania</td>\n",
       "      <td>NaN</td>\n",
       "      <td>NaN</td>\n",
       "    </tr>\n",
       "    <tr>\n",
       "      <th>3</th>\n",
       "      <td>603</td>\n",
       "      <td>Algeria</td>\n",
       "      <td>DZ</td>\n",
       "      <td>List of mobile network codes in Algeria</td>\n",
       "      <td>NaN</td>\n",
       "      <td>NaN</td>\n",
       "    </tr>\n",
       "    <tr>\n",
       "      <th>4</th>\n",
       "      <td>544</td>\n",
       "      <td>American Samoa (United States of America)</td>\n",
       "      <td>AS</td>\n",
       "      <td>List of mobile network codes in American Samoa</td>\n",
       "      <td>NaN</td>\n",
       "      <td>NaN</td>\n",
       "    </tr>\n",
       "    <tr>\n",
       "      <th>...</th>\n",
       "      <td>...</td>\n",
       "      <td>...</td>\n",
       "      <td>...</td>\n",
       "      <td>...</td>\n",
       "      <td>...</td>\n",
       "      <td>...</td>\n",
       "    </tr>\n",
       "    <tr>\n",
       "      <th>247</th>\n",
       "      <td>452</td>\n",
       "      <td>Vietnam</td>\n",
       "      <td>VN</td>\n",
       "      <td>List of mobile network codes in the Vietnam</td>\n",
       "      <td>NaN</td>\n",
       "      <td>NaN</td>\n",
       "    </tr>\n",
       "    <tr>\n",
       "      <th>248</th>\n",
       "      <td>543</td>\n",
       "      <td>W Wallis and Futuna</td>\n",
       "      <td>WF</td>\n",
       "      <td>List of mobile network codes in Wallis and Futuna</td>\n",
       "      <td>NaN</td>\n",
       "      <td>NaN</td>\n",
       "    </tr>\n",
       "    <tr>\n",
       "      <th>249</th>\n",
       "      <td>421</td>\n",
       "      <td>Y Yemen</td>\n",
       "      <td>YE</td>\n",
       "      <td>List of mobile network codes in the Yemen</td>\n",
       "      <td>NaN</td>\n",
       "      <td>NaN</td>\n",
       "    </tr>\n",
       "    <tr>\n",
       "      <th>250</th>\n",
       "      <td>645</td>\n",
       "      <td>Z Zambia</td>\n",
       "      <td>ZM</td>\n",
       "      <td>List of mobile network codes in Zambia</td>\n",
       "      <td>NaN</td>\n",
       "      <td>NaN</td>\n",
       "    </tr>\n",
       "    <tr>\n",
       "      <th>251</th>\n",
       "      <td>648</td>\n",
       "      <td>Zimbabwe</td>\n",
       "      <td>ZW</td>\n",
       "      <td>List of mobile network codes in Zimbabwe</td>\n",
       "      <td>NaN</td>\n",
       "      <td>NaN</td>\n",
       "    </tr>\n",
       "  </tbody>\n",
       "</table>\n",
       "<p>252 rows × 6 columns</p>\n",
       "</div>"
      ],
      "text/plain": [
       "     Mobile country code                                    Country ISO 3166  \\\n",
       "0                    289                                 A Abkhazia    GE-AB   \n",
       "1                    412                                Afghanistan       AF   \n",
       "2                    276                                    Albania       AL   \n",
       "3                    603                                    Algeria       DZ   \n",
       "4                    544  American Samoa (United States of America)       AS   \n",
       "..                   ...                                        ...      ...   \n",
       "247                  452                                    Vietnam       VN   \n",
       "248                  543                        W Wallis and Futuna       WF   \n",
       "249                  421                                    Y Yemen       YE   \n",
       "250                  645                                   Z Zambia       ZM   \n",
       "251                  648                                   Zimbabwe       ZW   \n",
       "\n",
       "                                  Mobile network codes National MNC authority  \\\n",
       "0             List of mobile network codes in Abkhazia                    NaN   \n",
       "1          List of mobile network codes in Afghanistan                    NaN   \n",
       "2              List of mobile network codes in Albania                    NaN   \n",
       "3              List of mobile network codes in Algeria                    NaN   \n",
       "4       List of mobile network codes in American Samoa                    NaN   \n",
       "..                                                 ...                    ...   \n",
       "247        List of mobile network codes in the Vietnam                    NaN   \n",
       "248  List of mobile network codes in Wallis and Futuna                    NaN   \n",
       "249          List of mobile network codes in the Yemen                    NaN   \n",
       "250             List of mobile network codes in Zambia                    NaN   \n",
       "251           List of mobile network codes in Zimbabwe                    NaN   \n",
       "\n",
       "                      Remarks  \n",
       "0    MCC is not listed by ITU  \n",
       "1                         NaN  \n",
       "2                         NaN  \n",
       "3                         NaN  \n",
       "4                         NaN  \n",
       "..                        ...  \n",
       "247                       NaN  \n",
       "248                       NaN  \n",
       "249                       NaN  \n",
       "250                       NaN  \n",
       "251                       NaN  \n",
       "\n",
       "[252 rows x 6 columns]"
      ]
     },
     "execution_count": 13,
     "metadata": {},
     "output_type": "execute_result"
    }
   ],
   "source": [
    "dfs[0]"
   ]
  },
  {
   "cell_type": "markdown",
   "metadata": {},
   "source": [
    "##pickling\n",
    "all pandas objects are equipped with to_pickle methids which use pythons cpickle module to save data structures to disk using the pickle format."
   ]
  },
  {
   "cell_type": "code",
   "execution_count": 14,
   "metadata": {},
   "outputs": [
    {
     "ename": "NameError",
     "evalue": "name 'df_excel' is not defined",
     "output_type": "error",
     "traceback": [
      "\u001b[1;31m---------------------------------------------------------------------------\u001b[0m",
      "\u001b[1;31mNameError\u001b[0m                                 Traceback (most recent call last)",
      "\u001b[1;32m<ipython-input-14-c8329d9420f6>\u001b[0m in \u001b[0;36m<module>\u001b[1;34m\u001b[0m\n\u001b[1;32m----> 1\u001b[1;33m \u001b[0mdf_excel\u001b[0m\u001b[1;33m.\u001b[0m\u001b[0mto_pickle\u001b[0m\u001b[1;33m(\u001b[0m\u001b[1;34m'df_excel'\u001b[0m\u001b[1;33m)\u001b[0m\u001b[1;33m\u001b[0m\u001b[1;33m\u001b[0m\u001b[0m\n\u001b[0m",
      "\u001b[1;31mNameError\u001b[0m: name 'df_excel' is not defined"
     ]
    }
   ],
   "source": [
    "df_excel.to_pickle('df_excel')"
   ]
  },
  {
   "cell_type": "code",
   "execution_count": 16,
   "metadata": {},
   "outputs": [],
   "source": [
    "df_excel=pd.read_excel('ex1.xlsx')"
   ]
  },
  {
   "cell_type": "code",
   "execution_count": 17,
   "metadata": {},
   "outputs": [
    {
     "data": {
      "text/html": [
       "<div>\n",
       "<style scoped>\n",
       "    .dataframe tbody tr th:only-of-type {\n",
       "        vertical-align: middle;\n",
       "    }\n",
       "\n",
       "    .dataframe tbody tr th {\n",
       "        vertical-align: top;\n",
       "    }\n",
       "\n",
       "    .dataframe thead th {\n",
       "        text-align: right;\n",
       "    }\n",
       "</style>\n",
       "<table border=\"1\" class=\"dataframe\">\n",
       "  <thead>\n",
       "    <tr style=\"text-align: right;\">\n",
       "      <th></th>\n",
       "      <th>Unnamed: 0</th>\n",
       "      <th>a</th>\n",
       "      <th>b</th>\n",
       "      <th>c</th>\n",
       "      <th>d</th>\n",
       "      <th>message</th>\n",
       "    </tr>\n",
       "  </thead>\n",
       "  <tbody>\n",
       "    <tr>\n",
       "      <th>0</th>\n",
       "      <td>0</td>\n",
       "      <td>1</td>\n",
       "      <td>2</td>\n",
       "      <td>3</td>\n",
       "      <td>4</td>\n",
       "      <td>hello</td>\n",
       "    </tr>\n",
       "    <tr>\n",
       "      <th>1</th>\n",
       "      <td>1</td>\n",
       "      <td>5</td>\n",
       "      <td>6</td>\n",
       "      <td>7</td>\n",
       "      <td>8</td>\n",
       "      <td>world</td>\n",
       "    </tr>\n",
       "    <tr>\n",
       "      <th>2</th>\n",
       "      <td>2</td>\n",
       "      <td>9</td>\n",
       "      <td>10</td>\n",
       "      <td>11</td>\n",
       "      <td>12</td>\n",
       "      <td>foo</td>\n",
       "    </tr>\n",
       "  </tbody>\n",
       "</table>\n",
       "</div>"
      ],
      "text/plain": [
       "   Unnamed: 0  a   b   c   d message\n",
       "0           0  1   2   3   4   hello\n",
       "1           1  5   6   7   8   world\n",
       "2           2  9  10  11  12     foo"
      ]
     },
     "execution_count": 17,
     "metadata": {},
     "output_type": "execute_result"
    }
   ],
   "source": [
    "df_excel.head()"
   ]
  },
  {
   "cell_type": "code",
   "execution_count": 18,
   "metadata": {},
   "outputs": [],
   "source": [
    "df_excel.to_pickle('df_excel')"
   ]
  },
  {
   "cell_type": "code",
   "execution_count": 19,
   "metadata": {},
   "outputs": [],
   "source": [
    "df=pd.read_pickle('df_excel')"
   ]
  },
  {
   "cell_type": "code",
   "execution_count": 21,
   "metadata": {},
   "outputs": [
    {
     "data": {
      "text/html": [
       "<div>\n",
       "<style scoped>\n",
       "    .dataframe tbody tr th:only-of-type {\n",
       "        vertical-align: middle;\n",
       "    }\n",
       "\n",
       "    .dataframe tbody tr th {\n",
       "        vertical-align: top;\n",
       "    }\n",
       "\n",
       "    .dataframe thead th {\n",
       "        text-align: right;\n",
       "    }\n",
       "</style>\n",
       "<table border=\"1\" class=\"dataframe\">\n",
       "  <thead>\n",
       "    <tr style=\"text-align: right;\">\n",
       "      <th></th>\n",
       "      <th>Unnamed: 0</th>\n",
       "      <th>a</th>\n",
       "      <th>b</th>\n",
       "      <th>c</th>\n",
       "      <th>d</th>\n",
       "      <th>message</th>\n",
       "    </tr>\n",
       "  </thead>\n",
       "  <tbody>\n",
       "    <tr>\n",
       "      <th>0</th>\n",
       "      <td>0</td>\n",
       "      <td>1</td>\n",
       "      <td>2</td>\n",
       "      <td>3</td>\n",
       "      <td>4</td>\n",
       "      <td>hello</td>\n",
       "    </tr>\n",
       "    <tr>\n",
       "      <th>1</th>\n",
       "      <td>1</td>\n",
       "      <td>5</td>\n",
       "      <td>6</td>\n",
       "      <td>7</td>\n",
       "      <td>8</td>\n",
       "      <td>world</td>\n",
       "    </tr>\n",
       "    <tr>\n",
       "      <th>2</th>\n",
       "      <td>2</td>\n",
       "      <td>9</td>\n",
       "      <td>10</td>\n",
       "      <td>11</td>\n",
       "      <td>12</td>\n",
       "      <td>foo</td>\n",
       "    </tr>\n",
       "  </tbody>\n",
       "</table>\n",
       "</div>"
      ],
      "text/plain": [
       "   Unnamed: 0  a   b   c   d message\n",
       "0           0  1   2   3   4   hello\n",
       "1           1  5   6   7   8   world\n",
       "2           2  9  10  11  12     foo"
      ]
     },
     "execution_count": 21,
     "metadata": {},
     "output_type": "execute_result"
    }
   ],
   "source": [
    "df.head()"
   ]
  },
  {
   "cell_type": "code",
   "execution_count": 22,
   "metadata": {},
   "outputs": [
    {
     "data": {
      "text/plain": [
       "pandas.core.frame.DataFrame"
      ]
     },
     "execution_count": 22,
     "metadata": {},
     "output_type": "execute_result"
    }
   ],
   "source": [
    "type(df)"
   ]
  },
  {
   "cell_type": "code",
   "execution_count": null,
   "metadata": {},
   "outputs": [],
   "source": []
  }
 ],
 "metadata": {
  "kernelspec": {
   "display_name": "Python 3",
   "language": "python",
   "name": "python3"
  },
  "language_info": {
   "codemirror_mode": {
    "name": "ipython",
    "version": 3
   },
   "file_extension": ".py",
   "mimetype": "text/x-python",
   "name": "python",
   "nbconvert_exporter": "python",
   "pygments_lexer": "ipython3",
   "version": "3.8.5"
  }
 },
 "nbformat": 4,
 "nbformat_minor": 4
}
